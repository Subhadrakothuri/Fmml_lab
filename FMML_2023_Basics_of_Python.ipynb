{
  "nbformat": 4,
  "nbformat_minor": 0,
  "metadata": {
    "colab": {
      "provenance": [],
      "include_colab_link": true
    },
    "kernelspec": {
      "name": "python3",
      "display_name": "Python 3"
    },
    "language_info": {
      "name": "python"
    }
  },
  "cells": [
    {
      "cell_type": "markdown",
      "metadata": {
        "id": "view-in-github",
        "colab_type": "text"
      },
      "source": [
        "<a href=\"https://colab.research.google.com/github/Subhadrakothuri/Fmml_lab/blob/main/FMML_2023_Basics_of_Python.ipynb\" target=\"_parent\"><img src=\"https://colab.research.google.com/assets/colab-badge.svg\" alt=\"Open In Colab\"/></a>"
      ]
    },
    {
      "cell_type": "markdown",
      "source": [
        "# Getting Started\n",
        "\n",
        "FMML Module 1, Lab 1 <br>\n",
        " Module Coordinator: Amit Pandey ( amit.pandey@research.iiit.ac.in ) <br>\n",
        " Release date: Aug 2022 <br>\n",
        "\n"
      ],
      "metadata": {
        "id": "TMVRKfbpTAeR"
      }
    },
    {
      "cell_type": "code",
      "source": [],
      "metadata": {
        "id": "E70wMgVE3_mp"
      },
      "execution_count": null,
      "outputs": []
    },
    {
      "cell_type": "markdown",
      "source": [
        "### In this notebook we will be covering the very basics of Python and some basic libraries such as Numpy, Matplotlib and Nltk.\n",
        "#### It is suggested that you go through each line and try some examples."
      ],
      "metadata": {
        "id": "F-XjWYLBTI0f"
      }
    },
    {
      "cell_type": "markdown",
      "source": [
        "#### Section 1 - Python : Basic data types and indexing."
      ],
      "metadata": {
        "id": "wEyEnIhnTdhB"
      }
    },
    {
      "cell_type": "code",
      "source": [
        "## Strings\n",
        "'''\n",
        "A string is a collection of one or more characters put in a single quote,\n",
        " double-quote or triple quote. In python there is no character data type,\n",
        " a character is a string of length one. It is represented by str class.\n",
        "\n",
        "String can have special characters. String can be indexed\n",
        "\n",
        "'''\n",
        "\n",
        "\n",
        "name = 'First Lab'\n",
        "name_extended = name + 'Module 1'\n",
        "last_element_string = name[-1] # -1 in python is index of the last element.\n",
        "## indexing is important for preprocessing of the raw data."
      ],
      "metadata": {
        "id": "AzguFJmTQIqt"
      },
      "execution_count": null,
      "outputs": []
    },
    {
      "cell_type": "code",
      "source": [
        "print(name ,\"\\n\", name_extended, \"\\n\", last_element_string)"
      ],
      "metadata": {
        "colab": {
          "base_uri": "https://localhost:8080/"
        },
        "id": "DPokcpuLQO6s",
        "outputId": "5d56023e-d4c6-41d5-8ea1-e5cbe7f8f429"
      },
      "execution_count": null,
      "outputs": [
        {
          "output_type": "stream",
          "name": "stdout",
          "text": [
            "First Lab \n",
            " First LabModule 1 \n",
            " b\n"
          ]
        }
      ]
    },
    {
      "cell_type": "code",
      "source": [
        "## List\n",
        "\n",
        "'''\n",
        "Lists are ordered collection of data, and are very similar to arrays,\n",
        "It is very flexible as the items in a list do not need to be of the same type.\n",
        "'''\n",
        "\n",
        "name_list = ['First Lab', 3 , '1.1' , 'Lab 1'] ## notice elements are of different data type.\n",
        "name_list.extend(['Module 1']) ## adding elements to list (Read about append method as well).\n",
        "element_2 = name_list[1] ## Just like other languages, the index starts from 0.\n",
        "two_dimesional_list = [[1,2],[3,4]] ## practice with multi-dimensional lists and arrays\n",
        "## you would soon be required to handle 4 dimensional data :p :)\n",
        "name_list[2] = '1.111' ##list elements can be changed"
      ],
      "metadata": {
        "id": "g7WZtwkpE2tO"
      },
      "execution_count": null,
      "outputs": []
    },
    {
      "cell_type": "code",
      "source": [
        "print(name_list)\n",
        "print(element_2)\n",
        "print(two_dimesional_list)\n",
        "## list can have list, dictionary, string etc."
      ],
      "metadata": {
        "colab": {
          "base_uri": "https://localhost:8080/"
        },
        "id": "vblBrQflE9Cs",
        "outputId": "efeb648b-57e6-4bc1-8c00-ae55abef39ce"
      },
      "execution_count": null,
      "outputs": [
        {
          "output_type": "stream",
          "name": "stdout",
          "text": [
            "['First Lab', 3, '1.111', 'Lab 1', 'Module 1']\n",
            "3\n",
            "[[1, 2], [3, 4]]\n"
          ]
        }
      ]
    },
    {
      "cell_type": "code",
      "source": [
        "## Tuples\n",
        "\n",
        "name_tuple = ('First Lab', 1, (2,3),[1,1,'list having string']) ## A tuple can have a tuple.\n",
        "\n",
        "print(name_tuple[2])\n",
        "print(\"first indexing the last element of the tuple, which is a list and \\n then last element of the list (a string) and then second last element of the string:\")\n",
        "print(name_tuple[-1][-1][-2])\n"
      ],
      "metadata": {
        "colab": {
          "base_uri": "https://localhost:8080/"
        },
        "id": "x5eOXNK5FtlF",
        "outputId": "601fe372-994e-43a9-a6ce-92927495fd64"
      },
      "execution_count": null,
      "outputs": [
        {
          "output_type": "stream",
          "name": "stdout",
          "text": [
            "(2, 3)\n",
            "first indexing the last element of the tuple, which is a list and \n",
            " then last element of the list (a string) and then second last element of the string:\n",
            "n\n"
          ]
        }
      ]
    },
    {
      "cell_type": "code",
      "source": [
        "## tuples are immutable, read the error !\n",
        " #usued when passing parameters etc. and dont want them to be changed\n",
        "\n",
        "name_tuple =(2)\n"
      ],
      "metadata": {
        "id": "m92Oab8YRha1"
      },
      "execution_count": null,
      "outputs": []
    },
    {
      "cell_type": "code",
      "source": [
        "## Sets\n",
        "'''a Set is an unordered collection of data types that is iterable, mutable and has no duplicate elements.\n",
        "The order of elements in a set is undefined though it may consist of various elements.\n",
        "The major advantage of using a set, as opposed to a list,\n",
        " is that it has a highly optimized method for checking whether a specific element is contained in the set.\n",
        "'''\n",
        "set_unique = set([1,1,2,3,5,6,'Lab1'])\n",
        "print(set_unique) ##notice it is unordered\n",
        "last_el = set_unique.pop()\n",
        "set_unique.add((1,2))\n",
        "\n",
        "\n",
        "print(last_el)\n",
        "print(set_unique)\n",
        "\n",
        "\n",
        "\n",
        "\n"
      ],
      "metadata": {
        "id": "MfkMO0mlTcep",
        "colab": {
          "base_uri": "https://localhost:8080/"
        },
        "outputId": "f396d7be-2599-4e7b-ea53-56dc613369ed"
      },
      "execution_count": null,
      "outputs": [
        {
          "output_type": "stream",
          "name": "stdout",
          "text": [
            "{1, 2, 3, 5, 6, 'Lab1'}\n",
            "1\n",
            "{2, 3, (1, 2), 5, 6, 'Lab1'}\n"
          ]
        }
      ]
    },
    {
      "cell_type": "code",
      "source": [
        "set_unique ##it is not indexable"
      ],
      "metadata": {
        "colab": {
          "base_uri": "https://localhost:8080/"
        },
        "id": "QgHlNSRPampd",
        "outputId": "f60d5c00-15cc-422e-96d0-7a5aeff50b1c"
      },
      "execution_count": null,
      "outputs": [
        {
          "output_type": "execute_result",
          "data": {
            "text/plain": [
              "{(1, 2), 2, 3, 5, 6, 'Lab1'}"
            ]
          },
          "metadata": {},
          "execution_count": 15
        }
      ]
    },
    {
      "cell_type": "code",
      "source": [
        "## Dictionary\n",
        "'''\n",
        "Dictionary in Python is an unordered collection of data values, used to store data values like a map,\n",
        " which, unlike other data types which hold only a single value as an element.\n",
        "'''\n",
        "\n",
        "dic = {'1': 'A','2':'B', 'C':3 } ##Observe how key and values can be anything\n",
        "dic['4'] ='New'\n",
        "print(dic)"
      ],
      "metadata": {
        "colab": {
          "base_uri": "https://localhost:8080/"
        },
        "id": "rxhE3hYtZxVb",
        "outputId": "7638e927-06ed-41bc-d2ec-5704ec5481fa"
      },
      "execution_count": null,
      "outputs": [
        {
          "output_type": "stream",
          "name": "stdout",
          "text": [
            "{'1': 'A', '2': 'B', 'C': 3, '4': 'New'}\n"
          ]
        }
      ]
    },
    {
      "cell_type": "markdown",
      "source": [
        "#### Question 0:\n",
        "###### write down 3-5 methods applicable to each data type. (Hint: extend, reverse, etc."
      ],
      "metadata": {
        "id": "hizs_paeceA5"
      }
    },
    {
      "cell_type": "code",
      "source": [
        "\n",
        "\n",
        "my_string = \"Hello, World!\"\n",
        "length = len(my_string)\n",
        "uppercase_str = my_string.upper()\n",
        "lowercase_str = my_string.lower()\n",
        "stripped_str = my_string.strip()\n",
        "replaced_str = my_string.replace(\"Hello\", \"Hi\")\n",
        "\n",
        "print(my_string)"
      ],
      "metadata": {
        "id": "Fsiop-2p-F9A",
        "outputId": "87972588-5486-4c89-fcd8-89647848b08a",
        "colab": {
          "base_uri": "https://localhost:8080/"
        }
      },
      "execution_count": null,
      "outputs": [
        {
          "output_type": "stream",
          "name": "stdout",
          "text": [
            "Hello, World!\n"
          ]
        }
      ]
    },
    {
      "cell_type": "code",
      "source": [
        "my_list = [1, 2, 3]\n",
        "my_list.append(4)\n",
        "my_list.extend([5, 6])\n",
        "my_list.reverse()\n",
        "my_list.sort()\n",
        "my_list.remove(3)\n",
        "print(my_list)"
      ],
      "metadata": {
        "id": "c4vnFE9BAiYd",
        "outputId": "1193e9f2-686d-4c43-901f-93b6410e68ea",
        "colab": {
          "base_uri": "https://localhost:8080/"
        }
      },
      "execution_count": null,
      "outputs": [
        {
          "output_type": "stream",
          "name": "stdout",
          "text": [
            "[1, 2, 4, 5, 6]\n"
          ]
        }
      ]
    },
    {
      "cell_type": "code",
      "source": [
        "my_set = {1, 2, 3}\n",
        "my_set.add(4)\n",
        "my_set.update([5, 6])\n",
        "my_set.remove(3)\n",
        "my_set.discard(7)\n",
        "union_set = my_set.union({3, 4, 5})\n",
        "print(my_set)"
      ],
      "metadata": {
        "id": "Ex2lOINrAsAw",
        "outputId": "0aa69d5d-e13c-42cb-89ec-bcfb296facad",
        "colab": {
          "base_uri": "https://localhost:8080/"
        }
      },
      "execution_count": null,
      "outputs": [
        {
          "output_type": "stream",
          "name": "stdout",
          "text": [
            "{1, 2, 4, 5, 6}\n"
          ]
        }
      ]
    },
    {
      "cell_type": "code",
      "source": [
        "my_dict = {'a': 1, 'b': 2, 'c': 3}\n",
        "keys = list(my_dict.keys())\n",
        "values = list(my_dict.values())\n",
        "items = list(my_dict.items())\n",
        "value_a = my_dict.get('a', 0)\n",
        "value_d = my_dict.pop('d', None)\n",
        "print(my_dict)"
      ],
      "metadata": {
        "id": "-Ardut3aAqLk",
        "outputId": "dc66b4ba-fbf6-4dff-f189-c0a8a953fdbb",
        "colab": {
          "base_uri": "https://localhost:8080/"
        }
      },
      "execution_count": null,
      "outputs": [
        {
          "output_type": "stream",
          "name": "stdout",
          "text": [
            "{'a': 1, 'b': 2, 'c': 3}\n"
          ]
        }
      ]
    },
    {
      "cell_type": "markdown",
      "source": [
        "## Section 2 - Functions\n",
        "### a group of related statements that performs a specific task."
      ],
      "metadata": {
        "id": "tub_Skp3X1cN"
      }
    },
    {
      "cell_type": "code",
      "source": [
        "def add_new(a:str, b): ## a and b are the arguments that are passed. to provide data type hint\n",
        "                              # def add_new(x: float, y: float) -> float:\n",
        "  sum = a + b\n",
        "  return sum\n",
        "\n",
        "ans = add_new(1,2) ## intentionally written str, and passed int, to show it doesn't matter. It is just hint\n",
        "print(ans)"
      ],
      "metadata": {
        "colab": {
          "base_uri": "https://localhost:8080/"
        },
        "id": "K-6Q5T8nX_YF",
        "outputId": "d1f08ae1-63ec-4585-fa17-262f810cf9c7"
      },
      "execution_count": null,
      "outputs": [
        {
          "output_type": "stream",
          "name": "stdout",
          "text": [
            "3\n"
          ]
        }
      ]
    },
    {
      "cell_type": "code",
      "source": [
        "ans = add_new(1,2)"
      ],
      "metadata": {
        "id": "aVLU3Bpu0YJV"
      },
      "execution_count": null,
      "outputs": []
    },
    {
      "cell_type": "code",
      "source": [
        "def check_even_list(num_list):\n",
        "\n",
        "    even_numbers = []\n",
        "\n",
        "    # Go through each number\n",
        "    for number in num_list:\n",
        "        # Once we get a \"hit\" on an even number, we append the even number\n",
        "        if number % 2 == 0:\n",
        "            even_numbers.append(number)\n",
        "        # Don't do anything if its not even\n",
        "        else:\n",
        "            pass\n",
        "    # Notice the indentation! This ensures we run through the entire for loop\n",
        "    return even_numbers"
      ],
      "metadata": {
        "id": "aRa47XCsZLsh"
      },
      "execution_count": null,
      "outputs": []
    },
    {
      "cell_type": "markdown",
      "source": [
        "#### Question 1 :\n",
        "\n",
        "##### Define a function, which takes in two strings A and B. Reverses the first string A, adds it to B, and returns the final string.\n",
        "\n",
        "\n",
        "#### Question 2 :\n",
        "##### Given a list having Names, work_hours, and gender, Write a function to print name of the female worker that worked the most hours. Also how much do should she be paid if the pay is $ 20 per hour.\n",
        "\n",
        "##### work_hours = [('Abby',100 , 'F'),('Billy',400, 'M'),('Cassie',800,'F'), ('Maggi',600,'F'),('Alex',500,'M'),('Raj',225,'M'),('Penny',920,'F'),('Ben',300,'M')]\n",
        "\n",
        "##### Answer : the female worker that worked the most hours is Penny and she should be paid 18400"
      ],
      "metadata": {
        "id": "heD0_u4D01jp"
      }
    },
    {
      "cell_type": "code",
      "source": [
        "def reverse_and_concatenate(A, B):\n",
        "    reversed_A = A[::-1]  # Reverse string A\n",
        "    result = reversed_A + B  # Concatenate reversed A with B\n",
        "    return result\n",
        "\n",
        "# Example usage:\n",
        "string_A = \"Hello\"\n",
        "string_B = \"World\"\n",
        "result = reverse_and_concatenate(string_A, string_B)\n",
        "print(result)  # Output: \"olleHWorld\"\n"
      ],
      "metadata": {
        "id": "CqitDgf2Bq3w",
        "outputId": "2354fe13-ce8c-4b2b-af83-24a106647c7d",
        "colab": {
          "base_uri": "https://localhost:8080/"
        }
      },
      "execution_count": null,
      "outputs": [
        {
          "output_type": "stream",
          "name": "stdout",
          "text": [
            "olleHWorld\n"
          ]
        }
      ]
    },
    {
      "cell_type": "code",
      "source": [
        "def find_female_worker_with_most_hours(work_hours):\n",
        "    max_hours = 0\n",
        "    female_worker = None\n",
        "\n",
        "    for name, hours, gender in work_hours:\n",
        "        if gender == 'F' and hours > max_hours:\n",
        "            max_hours = hours\n",
        "            female_worker = name\n",
        "\n",
        "    return female_worker, max_hours\n",
        "\n",
        "def calculate_pay(hours_worked, hourly_rate=20):\n",
        "    return hours_worked * hourly_rate\n",
        "\n",
        "work_hours = [('Abby', 100, 'F'), ('Billy', 400, 'M'), ('Cassie', 800, 'F'), ('Maggi', 600, 'F'), ('Alex', 500, 'M'), ('Raj', 225, 'M'), ('Penny', 920, 'F'), ('Ben', 300, 'M')]\n",
        "\n",
        "female_worker, max_hours = find_female_worker_with_most_hours(work_hours)\n",
        "if female_worker:\n",
        "    total_pay = calculate_pay(max_hours)\n",
        "    print(f\"The female worker who worked the most hours is {female_worker}.\")\n",
        "    print(f\"She should be paid ${total_pay} if the pay rate is $20 per hour.\")\n",
        "else:\n",
        "    print(\"No female workers found in the list.\")\n"
      ],
      "metadata": {
        "id": "cUEbw0kWBu1f",
        "outputId": "860f930f-a313-41a4-ad4e-864de1471634",
        "colab": {
          "base_uri": "https://localhost:8080/"
        }
      },
      "execution_count": null,
      "outputs": [
        {
          "output_type": "stream",
          "name": "stdout",
          "text": [
            "The female worker who worked the most hours is Penny.\n",
            "She should be paid $18400 if the pay rate is $20 per hour.\n"
          ]
        }
      ]
    },
    {
      "cell_type": "code",
      "source": [],
      "metadata": {
        "id": "UqezRCzjB4UZ"
      },
      "execution_count": null,
      "outputs": []
    },
    {
      "cell_type": "markdown",
      "source": [
        "#### Section 3 - Libraries and Reading data."
      ],
      "metadata": {
        "id": "T9fGzOAKXhtt"
      }
    },
    {
      "cell_type": "markdown",
      "source": [
        "##### Numpy - One of the most used libraries - supports for large, multi-dimensional arrays and matrices, along with a large collection of high-level mathematical functions to operate on these arrays."
      ],
      "metadata": {
        "id": "TKVyOsBKYZXa"
      }
    },
    {
      "cell_type": "code",
      "source": [
        "import numpy as np"
      ],
      "metadata": {
        "id": "_ODaZ44RXkyg"
      },
      "execution_count": null,
      "outputs": []
    },
    {
      "cell_type": "code",
      "source": [
        "\n",
        "a = np.array([1,1,2,3,4,5,5,6,1]) ## np.array converts given list to array\n",
        "\n",
        "b = a>1 ## important comparison operation, where frequently used in manipulation and image processing.\n",
        "\n",
        "print(b)\n",
        "print(a[b]) ## [printing only those values in a which are greater than 1]"
      ],
      "metadata": {
        "colab": {
          "base_uri": "https://localhost:8080/"
        },
        "id": "29vs7Iicavlg",
        "outputId": "7fa418ff-e6dd-4e61-e786-9cf8b7abb0d5"
      },
      "execution_count": null,
      "outputs": [
        {
          "output_type": "stream",
          "name": "stdout",
          "text": [
            "[False False  True  True  True  True  True  True False]\n",
            "[2 3 4 5 5 6]\n"
          ]
        }
      ]
    },
    {
      "cell_type": "code",
      "source": [
        "a_range = np.arange(10,19).reshape(3,3) ## create a 3x3 array with values in range 10-19\n",
        "a_range\n"
      ],
      "metadata": {
        "colab": {
          "base_uri": "https://localhost:8080/"
        },
        "id": "MAGJJ1K_jCHN",
        "outputId": "b281fa61-4523-416e-cf69-4fb1163b6fd7"
      },
      "execution_count": null,
      "outputs": [
        {
          "output_type": "execute_result",
          "data": {
            "text/plain": [
              "array([[10, 11, 12],\n",
              "       [13, 14, 15],\n",
              "       [16, 17, 18]])"
            ]
          },
          "metadata": {},
          "execution_count": 37
        }
      ]
    },
    {
      "cell_type": "code",
      "source": [
        "## Indexing in arrays works same as that of list\n",
        "\n",
        "a_range[0] # printing all the columns of first row"
      ],
      "metadata": {
        "colab": {
          "base_uri": "https://localhost:8080/"
        },
        "id": "BpNpo-eDt9Fr",
        "outputId": "9b1f13e4-7bc8-4620-cf3c-9bb3274dee3a"
      },
      "execution_count": null,
      "outputs": [
        {
          "output_type": "execute_result",
          "data": {
            "text/plain": [
              "array([10, 11, 12])"
            ]
          },
          "metadata": {},
          "execution_count": 38
        }
      ]
    },
    {
      "cell_type": "code",
      "source": [
        "a_range[:,2] #printing all the rows of second column"
      ],
      "metadata": {
        "colab": {
          "base_uri": "https://localhost:8080/"
        },
        "id": "HbDG7M3QuCDQ",
        "outputId": "5191b8f0-bec7-4c33-a7b5-a7ccf8699c65"
      },
      "execution_count": null,
      "outputs": [
        {
          "output_type": "execute_result",
          "data": {
            "text/plain": [
              "array([12, 15, 18])"
            ]
          },
          "metadata": {},
          "execution_count": 39
        }
      ]
    },
    {
      "cell_type": "code",
      "source": [
        "iden = np.eye(3) #idnetity matrix of given size\n",
        "iden"
      ],
      "metadata": {
        "colab": {
          "base_uri": "https://localhost:8080/"
        },
        "id": "RQ7UV_-fjJw3",
        "outputId": "26b5e5c0-f47f-446b-f635-75a83fd1958f"
      },
      "execution_count": null,
      "outputs": [
        {
          "output_type": "execute_result",
          "data": {
            "text/plain": [
              "array([[1., 0., 0.],\n",
              "       [0., 1., 0.],\n",
              "       [0., 0., 1.]])"
            ]
          },
          "metadata": {},
          "execution_count": 40
        }
      ]
    },
    {
      "cell_type": "code",
      "source": [
        "## adding two matrices\n",
        "summed = a_range + iden\n",
        "summed\n"
      ],
      "metadata": {
        "colab": {
          "base_uri": "https://localhost:8080/"
        },
        "id": "hYJXXvnwjPfE",
        "outputId": "a303f5d1-f1fe-41dc-995a-949775c12f81"
      },
      "execution_count": null,
      "outputs": [
        {
          "output_type": "execute_result",
          "data": {
            "text/plain": [
              "array([[11., 11., 12.],\n",
              "       [13., 15., 15.],\n",
              "       [16., 17., 19.]])"
            ]
          },
          "metadata": {},
          "execution_count": 41
        }
      ]
    },
    {
      "cell_type": "code",
      "source": [
        "### arrays support normal matrix multiplication that you are used to, point-wise multiplication\n",
        "### and dot product as well.\n",
        "\n",
        "mul = a_range@iden ## normal multiplication\n",
        "mul\n"
      ],
      "metadata": {
        "colab": {
          "base_uri": "https://localhost:8080/"
        },
        "id": "VoyeEptRjYRu",
        "outputId": "f11885e9-00b0-4162-d3c0-ece4cb276845"
      },
      "execution_count": null,
      "outputs": [
        {
          "output_type": "execute_result",
          "data": {
            "text/plain": [
              "array([[10., 11., 12.],\n",
              "       [13., 14., 15.],\n",
              "       [16., 17., 18.]])"
            ]
          },
          "metadata": {},
          "execution_count": 42
        }
      ]
    },
    {
      "cell_type": "code",
      "source": [
        "## point wise multiplication\n",
        "p_mul = a_range * iden\n",
        "p_mul"
      ],
      "metadata": {
        "colab": {
          "base_uri": "https://localhost:8080/"
        },
        "id": "58S3a_YmtAe8",
        "outputId": "34966e09-38ff-4cb6-8d46-9731e7370fd9"
      },
      "execution_count": null,
      "outputs": [
        {
          "output_type": "execute_result",
          "data": {
            "text/plain": [
              "array([[10.,  0.,  0.],\n",
              "       [ 0., 14.,  0.],\n",
              "       [ 0.,  0., 18.]])"
            ]
          },
          "metadata": {},
          "execution_count": 43
        }
      ]
    },
    {
      "cell_type": "code",
      "source": [
        "## Transpose of a matrix.\n",
        "\n",
        "mtx_t = mul.T\n",
        "mtx_t\n"
      ],
      "metadata": {
        "colab": {
          "base_uri": "https://localhost:8080/"
        },
        "id": "HC5uJ03ftJHA",
        "outputId": "04fe5075-04ed-4179-cc1f-4de8e433ef8f"
      },
      "execution_count": null,
      "outputs": [
        {
          "output_type": "execute_result",
          "data": {
            "text/plain": [
              "array([[10., 13., 16.],\n",
              "       [11., 14., 17.],\n",
              "       [12., 15., 18.]])"
            ]
          },
          "metadata": {},
          "execution_count": 44
        }
      ]
    },
    {
      "cell_type": "code",
      "source": [
        "### Here we are changing the values of last row of the transposed matrix.\n",
        "### basically point wise multiplying the values of last row with 1,2 and 3\n",
        "\n",
        "mtx_t[2] = mtx_t[2]*[1,2,3] ## indexing, point wise multiplication and mutation of values\n",
        "mtx_t"
      ],
      "metadata": {
        "colab": {
          "base_uri": "https://localhost:8080/"
        },
        "id": "ROFhfs2lutat",
        "outputId": "d3a931bc-b033-465b-bd2e-a52c813effea"
      },
      "execution_count": null,
      "outputs": [
        {
          "output_type": "execute_result",
          "data": {
            "text/plain": [
              "array([[10., 13., 16.],\n",
              "       [11., 14., 17.],\n",
              "       [12., 30., 54.]])"
            ]
          },
          "metadata": {},
          "execution_count": 45
        }
      ]
    },
    {
      "cell_type": "code",
      "source": [
        "## Just like the greater than 1 (a>1) example we saw earlier.\n",
        "## here we are checking if the elements are divisible by 2 (%), and if they are, then replace by 0.\n",
        "\n",
        "mtx_t[(mtx_t % 2 == 0)] = 0 ## convert even elements of the matrix to zero.\n",
        "mtx_t"
      ],
      "metadata": {
        "colab": {
          "base_uri": "https://localhost:8080/"
        },
        "id": "Mh80ju2xvAqL",
        "outputId": "aefb1c89-f8ee-4a7b-9675-294f2da851dd"
      },
      "execution_count": null,
      "outputs": [
        {
          "output_type": "execute_result",
          "data": {
            "text/plain": [
              "array([[ 0., 13.,  0.],\n",
              "       [11.,  0., 17.],\n",
              "       [ 0.,  0.,  0.]])"
            ]
          },
          "metadata": {},
          "execution_count": 46
        }
      ]
    },
    {
      "cell_type": "markdown",
      "source": [
        "#### Question 3 :\n",
        "\n",
        "##### a)Create a 5x5 matrix of the following form,\n",
        "\n",
        "##### [[1,1]\n",
        "#####  [2,2]]\n",
        "\n",
        "#####  i.e. each row is increasing and has repetive elements.\n",
        "\n",
        "######  Hint : you can use hstack, vstack  etc.\n",
        "\n",
        "##### b) find dot product of the matrix with any matrix. (Figure out the size/ shape of the matrix)"
      ],
      "metadata": {
        "id": "uqWUH6Rv4OhT"
      }
    },
    {
      "cell_type": "code",
      "source": [
        "import numpy as np\n",
        "\n",
        "# Define matrix A and matrix B (replace these with your matrices)\n",
        "matrix_A = np.array([[1, 2, 3], [4, 5, 6]])  # Replace with your matrix A\n",
        "matrix_B = np.array([[7, 8], [9, 10], [11, 12]])  # Replace with your matrix B\n",
        "\n",
        "# Check if the number of columns in matrix A equals the number of rows in matrix B\n",
        "if matrix_A.shape[1] == matrix_B.shape[0]:\n",
        "    # Compute the dot product of A and B\n",
        "    dot_product_result = np.dot(matrix_A, matrix_B)\n",
        "    print(\"Dot Product Result:\")\n",
        "    print(dot_product_result)\n",
        "else:\n",
        "    print(\"The number of columns in matrix A must be equal to the number of rows in matrix B for dot product.\")"
      ],
      "metadata": {
        "id": "lqJoMj7eDF7G",
        "outputId": "36ac1fd1-3b8c-4bf7-b2f4-3723b8b113c7",
        "colab": {
          "base_uri": "https://localhost:8080/"
        }
      },
      "execution_count": null,
      "outputs": [
        {
          "output_type": "stream",
          "name": "stdout",
          "text": [
            "Dot Product Result:\n",
            "[[ 58  64]\n",
            " [139 154]]\n"
          ]
        }
      ]
    },
    {
      "cell_type": "code",
      "source": [
        "import numpy as np\n",
        "\n",
        "# Create a base matrix with the pattern [[1, 1], [2, 2]]\n",
        "base_matrix = np.array([[1, 1], [2, 2]])\n",
        "\n",
        "# Repeat the base matrix to create a 5x5 matrix\n",
        "result_matrix = np.tile(base_matrix, (5 // 2, 5 // 2))\n",
        "\n",
        "# Print the result matrix\n",
        "print(result_matrix)"
      ],
      "metadata": {
        "id": "OIbBuxC5Cwgz",
        "outputId": "65e4c575-0f2d-4615-ea59-ab4635611854",
        "colab": {
          "base_uri": "https://localhost:8080/"
        }
      },
      "execution_count": null,
      "outputs": [
        {
          "output_type": "stream",
          "name": "stdout",
          "text": [
            "[[1 1 1 1]\n",
            " [2 2 2 2]\n",
            " [1 1 1 1]\n",
            " [2 2 2 2]]\n"
          ]
        }
      ]
    },
    {
      "cell_type": "markdown",
      "source": [
        "#### Reading Files"
      ],
      "metadata": {
        "id": "GzNoCosKdVa2"
      }
    },
    {
      "cell_type": "code",
      "source": [
        "## loading from the google drive\n",
        "from google.colab import drive\n",
        "drive.mount('/content/gdrive')"
      ],
      "metadata": {
        "colab": {
          "base_uri": "https://localhost:8080/",
          "height": 355
        },
        "id": "_wCHdrtQwDJe",
        "outputId": "86163b02-3ffa-4cbc-8a1b-35ec0e9367a1"
      },
      "execution_count": null,
      "outputs": [
        {
          "output_type": "error",
          "ename": "KeyboardInterrupt",
          "evalue": "ignored",
          "traceback": [
            "\u001b[0;31m---------------------------------------------------------------------------\u001b[0m",
            "\u001b[0;31mKeyboardInterrupt\u001b[0m                         Traceback (most recent call last)",
            "\u001b[0;32m<ipython-input-52-2d9d2e1ff2a1>\u001b[0m in \u001b[0;36m<cell line: 3>\u001b[0;34m()\u001b[0m\n\u001b[1;32m      1\u001b[0m \u001b[0;31m## loading from the google drive\u001b[0m\u001b[0;34m\u001b[0m\u001b[0;34m\u001b[0m\u001b[0m\n\u001b[1;32m      2\u001b[0m \u001b[0;32mfrom\u001b[0m \u001b[0mgoogle\u001b[0m\u001b[0;34m.\u001b[0m\u001b[0mcolab\u001b[0m \u001b[0;32mimport\u001b[0m \u001b[0mdrive\u001b[0m\u001b[0;34m\u001b[0m\u001b[0;34m\u001b[0m\u001b[0m\n\u001b[0;32m----> 3\u001b[0;31m \u001b[0mdrive\u001b[0m\u001b[0;34m.\u001b[0m\u001b[0mmount\u001b[0m\u001b[0;34m(\u001b[0m\u001b[0;34m'/content/gdrive'\u001b[0m\u001b[0;34m)\u001b[0m\u001b[0;34m\u001b[0m\u001b[0;34m\u001b[0m\u001b[0m\n\u001b[0m",
            "\u001b[0;32m/usr/local/lib/python3.10/dist-packages/google/colab/drive.py\u001b[0m in \u001b[0;36mmount\u001b[0;34m(mountpoint, force_remount, timeout_ms, readonly)\u001b[0m\n\u001b[1;32m    101\u001b[0m \u001b[0;32mdef\u001b[0m \u001b[0mmount\u001b[0m\u001b[0;34m(\u001b[0m\u001b[0mmountpoint\u001b[0m\u001b[0;34m,\u001b[0m \u001b[0mforce_remount\u001b[0m\u001b[0;34m=\u001b[0m\u001b[0;32mFalse\u001b[0m\u001b[0;34m,\u001b[0m \u001b[0mtimeout_ms\u001b[0m\u001b[0;34m=\u001b[0m\u001b[0;36m120000\u001b[0m\u001b[0;34m,\u001b[0m \u001b[0mreadonly\u001b[0m\u001b[0;34m=\u001b[0m\u001b[0;32mFalse\u001b[0m\u001b[0;34m)\u001b[0m\u001b[0;34m:\u001b[0m\u001b[0;34m\u001b[0m\u001b[0;34m\u001b[0m\u001b[0m\n\u001b[1;32m    102\u001b[0m   \u001b[0;34m\"\"\"Mount your Google Drive at the specified mountpoint path.\"\"\"\u001b[0m\u001b[0;34m\u001b[0m\u001b[0;34m\u001b[0m\u001b[0m\n\u001b[0;32m--> 103\u001b[0;31m   return _mount(\n\u001b[0m\u001b[1;32m    104\u001b[0m       \u001b[0mmountpoint\u001b[0m\u001b[0;34m,\u001b[0m\u001b[0;34m\u001b[0m\u001b[0;34m\u001b[0m\u001b[0m\n\u001b[1;32m    105\u001b[0m       \u001b[0mforce_remount\u001b[0m\u001b[0;34m=\u001b[0m\u001b[0mforce_remount\u001b[0m\u001b[0;34m,\u001b[0m\u001b[0;34m\u001b[0m\u001b[0;34m\u001b[0m\u001b[0m\n",
            "\u001b[0;32m/usr/local/lib/python3.10/dist-packages/google/colab/drive.py\u001b[0m in \u001b[0;36m_mount\u001b[0;34m(mountpoint, force_remount, timeout_ms, ephemeral, readonly)\u001b[0m\n\u001b[1;32m    130\u001b[0m   )\n\u001b[1;32m    131\u001b[0m   \u001b[0;32mif\u001b[0m \u001b[0mephemeral\u001b[0m\u001b[0;34m:\u001b[0m\u001b[0;34m\u001b[0m\u001b[0;34m\u001b[0m\u001b[0m\n\u001b[0;32m--> 132\u001b[0;31m     _message.blocking_request(\n\u001b[0m\u001b[1;32m    133\u001b[0m         \u001b[0;34m'request_auth'\u001b[0m\u001b[0;34m,\u001b[0m \u001b[0mrequest\u001b[0m\u001b[0;34m=\u001b[0m\u001b[0;34m{\u001b[0m\u001b[0;34m'authType'\u001b[0m\u001b[0;34m:\u001b[0m \u001b[0;34m'dfs_ephemeral'\u001b[0m\u001b[0;34m}\u001b[0m\u001b[0;34m,\u001b[0m \u001b[0mtimeout_sec\u001b[0m\u001b[0;34m=\u001b[0m\u001b[0;32mNone\u001b[0m\u001b[0;34m\u001b[0m\u001b[0;34m\u001b[0m\u001b[0m\n\u001b[1;32m    134\u001b[0m     )\n",
            "\u001b[0;32m/usr/local/lib/python3.10/dist-packages/google/colab/_message.py\u001b[0m in \u001b[0;36mblocking_request\u001b[0;34m(request_type, request, timeout_sec, parent)\u001b[0m\n\u001b[1;32m    174\u001b[0m       \u001b[0mrequest_type\u001b[0m\u001b[0;34m,\u001b[0m \u001b[0mrequest\u001b[0m\u001b[0;34m,\u001b[0m \u001b[0mparent\u001b[0m\u001b[0;34m=\u001b[0m\u001b[0mparent\u001b[0m\u001b[0;34m,\u001b[0m \u001b[0mexpect_reply\u001b[0m\u001b[0;34m=\u001b[0m\u001b[0;32mTrue\u001b[0m\u001b[0;34m\u001b[0m\u001b[0;34m\u001b[0m\u001b[0m\n\u001b[1;32m    175\u001b[0m   )\n\u001b[0;32m--> 176\u001b[0;31m   \u001b[0;32mreturn\u001b[0m \u001b[0mread_reply_from_input\u001b[0m\u001b[0;34m(\u001b[0m\u001b[0mrequest_id\u001b[0m\u001b[0;34m,\u001b[0m \u001b[0mtimeout_sec\u001b[0m\u001b[0;34m)\u001b[0m\u001b[0;34m\u001b[0m\u001b[0;34m\u001b[0m\u001b[0m\n\u001b[0m",
            "\u001b[0;32m/usr/local/lib/python3.10/dist-packages/google/colab/_message.py\u001b[0m in \u001b[0;36mread_reply_from_input\u001b[0;34m(message_id, timeout_sec)\u001b[0m\n\u001b[1;32m     94\u001b[0m     \u001b[0mreply\u001b[0m \u001b[0;34m=\u001b[0m \u001b[0m_read_next_input_message\u001b[0m\u001b[0;34m(\u001b[0m\u001b[0;34m)\u001b[0m\u001b[0;34m\u001b[0m\u001b[0;34m\u001b[0m\u001b[0m\n\u001b[1;32m     95\u001b[0m     \u001b[0;32mif\u001b[0m \u001b[0mreply\u001b[0m \u001b[0;34m==\u001b[0m \u001b[0m_NOT_READY\u001b[0m \u001b[0;32mor\u001b[0m \u001b[0;32mnot\u001b[0m \u001b[0misinstance\u001b[0m\u001b[0;34m(\u001b[0m\u001b[0mreply\u001b[0m\u001b[0;34m,\u001b[0m \u001b[0mdict\u001b[0m\u001b[0;34m)\u001b[0m\u001b[0;34m:\u001b[0m\u001b[0;34m\u001b[0m\u001b[0;34m\u001b[0m\u001b[0m\n\u001b[0;32m---> 96\u001b[0;31m       \u001b[0mtime\u001b[0m\u001b[0;34m.\u001b[0m\u001b[0msleep\u001b[0m\u001b[0;34m(\u001b[0m\u001b[0;36m0.025\u001b[0m\u001b[0;34m)\u001b[0m\u001b[0;34m\u001b[0m\u001b[0;34m\u001b[0m\u001b[0m\n\u001b[0m\u001b[1;32m     97\u001b[0m       \u001b[0;32mcontinue\u001b[0m\u001b[0;34m\u001b[0m\u001b[0;34m\u001b[0m\u001b[0m\n\u001b[1;32m     98\u001b[0m     if (\n",
            "\u001b[0;31mKeyboardInterrupt\u001b[0m: "
          ]
        }
      ]
    },
    {
      "cell_type": "code",
      "source": [
        "with open ('/content/sample_data/README.md', 'r') as f:\n",
        "  a = f.readlines()\n",
        "\n",
        "a ## here a is list of elements/strings each splitted at \\n, \\n is also part of the list element.\n"
      ],
      "metadata": {
        "colab": {
          "base_uri": "https://localhost:8080/"
        },
        "id": "c1rzXSJobLku",
        "outputId": "dd2f6535-371e-4b31-befc-7036ba6a9577"
      },
      "execution_count": null,
      "outputs": [
        {
          "output_type": "execute_result",
          "data": {
            "text/plain": [
              "['This directory includes a few sample datasets to get you started.\\n',\n",
              " '\\n',\n",
              " '*   `california_housing_data*.csv` is California housing data from the 1990 US\\n',\n",
              " '    Census; more information is available at:\\n',\n",
              " '    https://developers.google.com/machine-learning/crash-course/california-housing-data-description\\n',\n",
              " '\\n',\n",
              " '*   `mnist_*.csv` is a small sample of the\\n',\n",
              " '    [MNIST database](https://en.wikipedia.org/wiki/MNIST_database), which is\\n',\n",
              " '    described at: http://yann.lecun.com/exdb/mnist/\\n',\n",
              " '\\n',\n",
              " '*   `anscombe.json` contains a copy of\\n',\n",
              " \"    [Anscombe's quartet](https://en.wikipedia.org/wiki/Anscombe%27s_quartet); it\\n\",\n",
              " '    was originally described in\\n',\n",
              " '\\n',\n",
              " \"    Anscombe, F. J. (1973). 'Graphs in Statistical Analysis'. American\\n\",\n",
              " '    Statistician. 27 (1): 17-21. JSTOR 2682899.\\n',\n",
              " '\\n',\n",
              " '    and our copy was prepared by the\\n',\n",
              " '    [vega_datasets library](https://github.com/altair-viz/vega_datasets/blob/4f67bdaad10f45e3549984e17e1b3088c731503d/vega_datasets/_data/anscombe.json).\\n']"
            ]
          },
          "metadata": {},
          "execution_count": 50
        }
      ]
    },
    {
      "cell_type": "code",
      "source": [
        "import pandas as pd\n",
        "\n",
        "df = pd.read_csv('/content/sample_data/california_housing_test.csv','r')\n",
        "df.head(10) ## pass as argument number of top elements you wish to print. Head is used to have a quick glance and understand the data."
      ],
      "metadata": {
        "colab": {
          "base_uri": "https://localhost:8080/",
          "height": 417
        },
        "id": "CgXsQFpobVGk",
        "outputId": "079b8461-9ead-408f-d410-1c16454ca674"
      },
      "execution_count": null,
      "outputs": [
        {
          "output_type": "stream",
          "name": "stderr",
          "text": [
            "<ipython-input-4-ad5bb400a483>:3: FutureWarning: In a future version of pandas all arguments of read_csv except for the argument 'filepath_or_buffer' will be keyword-only.\n",
            "  df = pd.read_csv('/content/sample_data/california_housing_test.csv','r')\n"
          ]
        },
        {
          "output_type": "execute_result",
          "data": {
            "text/plain": [
              "   longitude,\"latitude\",\"housing_median_age\",\"total_  ooms\",\"total_bed  \\\n",
              "0  -122.050000,37.370000,27.000000,3885.000000,66...               NaN   \n",
              "1  -118.300000,34.260000,43.000000,1510.000000,31...               NaN   \n",
              "2  -117.810000,33.780000,27.000000,3589.000000,50...               NaN   \n",
              "3  -118.360000,33.820000,28.000000,67.000000,15.0...               NaN   \n",
              "4  -119.670000,36.330000,19.000000,1241.000000,24...               NaN   \n",
              "5  -119.560000,36.510000,37.000000,1018.000000,21...               NaN   \n",
              "6  -121.430000,38.630000,43.000000,1009.000000,22...               NaN   \n",
              "7  -120.650000,35.480000,19.000000,2310.000000,47...               NaN   \n",
              "8  -122.840000,38.400000,15.000000,3080.000000,61...               NaN   \n",
              "9  -118.020000,34.080000,31.000000,2402.000000,63...               NaN   \n",
              "\n",
              "   ooms\",\"population\",\"households\",\"median_income\",\"median_house_value\"  \n",
              "0                                                NaN                     \n",
              "1                                                NaN                     \n",
              "2                                                NaN                     \n",
              "3                                                NaN                     \n",
              "4                                                NaN                     \n",
              "5                                                NaN                     \n",
              "6                                                NaN                     \n",
              "7                                                NaN                     \n",
              "8                                                NaN                     \n",
              "9                                                NaN                     "
            ],
            "text/html": [
              "\n",
              "  <div id=\"df-c2ef7599-bd6f-4dcc-9bc5-192d6f816652\" class=\"colab-df-container\">\n",
              "    <div>\n",
              "<style scoped>\n",
              "    .dataframe tbody tr th:only-of-type {\n",
              "        vertical-align: middle;\n",
              "    }\n",
              "\n",
              "    .dataframe tbody tr th {\n",
              "        vertical-align: top;\n",
              "    }\n",
              "\n",
              "    .dataframe thead th {\n",
              "        text-align: right;\n",
              "    }\n",
              "</style>\n",
              "<table border=\"1\" class=\"dataframe\">\n",
              "  <thead>\n",
              "    <tr style=\"text-align: right;\">\n",
              "      <th></th>\n",
              "      <th>longitude,\"latitude\",\"housing_median_age\",\"total_</th>\n",
              "      <th>ooms\",\"total_bed</th>\n",
              "      <th>ooms\",\"population\",\"households\",\"median_income\",\"median_house_value\"</th>\n",
              "    </tr>\n",
              "  </thead>\n",
              "  <tbody>\n",
              "    <tr>\n",
              "      <th>0</th>\n",
              "      <td>-122.050000,37.370000,27.000000,3885.000000,66...</td>\n",
              "      <td>NaN</td>\n",
              "      <td>NaN</td>\n",
              "    </tr>\n",
              "    <tr>\n",
              "      <th>1</th>\n",
              "      <td>-118.300000,34.260000,43.000000,1510.000000,31...</td>\n",
              "      <td>NaN</td>\n",
              "      <td>NaN</td>\n",
              "    </tr>\n",
              "    <tr>\n",
              "      <th>2</th>\n",
              "      <td>-117.810000,33.780000,27.000000,3589.000000,50...</td>\n",
              "      <td>NaN</td>\n",
              "      <td>NaN</td>\n",
              "    </tr>\n",
              "    <tr>\n",
              "      <th>3</th>\n",
              "      <td>-118.360000,33.820000,28.000000,67.000000,15.0...</td>\n",
              "      <td>NaN</td>\n",
              "      <td>NaN</td>\n",
              "    </tr>\n",
              "    <tr>\n",
              "      <th>4</th>\n",
              "      <td>-119.670000,36.330000,19.000000,1241.000000,24...</td>\n",
              "      <td>NaN</td>\n",
              "      <td>NaN</td>\n",
              "    </tr>\n",
              "    <tr>\n",
              "      <th>5</th>\n",
              "      <td>-119.560000,36.510000,37.000000,1018.000000,21...</td>\n",
              "      <td>NaN</td>\n",
              "      <td>NaN</td>\n",
              "    </tr>\n",
              "    <tr>\n",
              "      <th>6</th>\n",
              "      <td>-121.430000,38.630000,43.000000,1009.000000,22...</td>\n",
              "      <td>NaN</td>\n",
              "      <td>NaN</td>\n",
              "    </tr>\n",
              "    <tr>\n",
              "      <th>7</th>\n",
              "      <td>-120.650000,35.480000,19.000000,2310.000000,47...</td>\n",
              "      <td>NaN</td>\n",
              "      <td>NaN</td>\n",
              "    </tr>\n",
              "    <tr>\n",
              "      <th>8</th>\n",
              "      <td>-122.840000,38.400000,15.000000,3080.000000,61...</td>\n",
              "      <td>NaN</td>\n",
              "      <td>NaN</td>\n",
              "    </tr>\n",
              "    <tr>\n",
              "      <th>9</th>\n",
              "      <td>-118.020000,34.080000,31.000000,2402.000000,63...</td>\n",
              "      <td>NaN</td>\n",
              "      <td>NaN</td>\n",
              "    </tr>\n",
              "  </tbody>\n",
              "</table>\n",
              "</div>\n",
              "    <div class=\"colab-df-buttons\">\n",
              "\n",
              "  <div class=\"colab-df-container\">\n",
              "    <button class=\"colab-df-convert\" onclick=\"convertToInteractive('df-c2ef7599-bd6f-4dcc-9bc5-192d6f816652')\"\n",
              "            title=\"Convert this dataframe to an interactive table.\"\n",
              "            style=\"display:none;\">\n",
              "\n",
              "  <svg xmlns=\"http://www.w3.org/2000/svg\" height=\"24px\" viewBox=\"0 -960 960 960\">\n",
              "    <path d=\"M120-120v-720h720v720H120Zm60-500h600v-160H180v160Zm220 220h160v-160H400v160Zm0 220h160v-160H400v160ZM180-400h160v-160H180v160Zm440 0h160v-160H620v160ZM180-180h160v-160H180v160Zm440 0h160v-160H620v160Z\"/>\n",
              "  </svg>\n",
              "    </button>\n",
              "\n",
              "  <style>\n",
              "    .colab-df-container {\n",
              "      display:flex;\n",
              "      gap: 12px;\n",
              "    }\n",
              "\n",
              "    .colab-df-convert {\n",
              "      background-color: #E8F0FE;\n",
              "      border: none;\n",
              "      border-radius: 50%;\n",
              "      cursor: pointer;\n",
              "      display: none;\n",
              "      fill: #1967D2;\n",
              "      height: 32px;\n",
              "      padding: 0 0 0 0;\n",
              "      width: 32px;\n",
              "    }\n",
              "\n",
              "    .colab-df-convert:hover {\n",
              "      background-color: #E2EBFA;\n",
              "      box-shadow: 0px 1px 2px rgba(60, 64, 67, 0.3), 0px 1px 3px 1px rgba(60, 64, 67, 0.15);\n",
              "      fill: #174EA6;\n",
              "    }\n",
              "\n",
              "    .colab-df-buttons div {\n",
              "      margin-bottom: 4px;\n",
              "    }\n",
              "\n",
              "    [theme=dark] .colab-df-convert {\n",
              "      background-color: #3B4455;\n",
              "      fill: #D2E3FC;\n",
              "    }\n",
              "\n",
              "    [theme=dark] .colab-df-convert:hover {\n",
              "      background-color: #434B5C;\n",
              "      box-shadow: 0px 1px 3px 1px rgba(0, 0, 0, 0.15);\n",
              "      filter: drop-shadow(0px 1px 2px rgba(0, 0, 0, 0.3));\n",
              "      fill: #FFFFFF;\n",
              "    }\n",
              "  </style>\n",
              "\n",
              "    <script>\n",
              "      const buttonEl =\n",
              "        document.querySelector('#df-c2ef7599-bd6f-4dcc-9bc5-192d6f816652 button.colab-df-convert');\n",
              "      buttonEl.style.display =\n",
              "        google.colab.kernel.accessAllowed ? 'block' : 'none';\n",
              "\n",
              "      async function convertToInteractive(key) {\n",
              "        const element = document.querySelector('#df-c2ef7599-bd6f-4dcc-9bc5-192d6f816652');\n",
              "        const dataTable =\n",
              "          await google.colab.kernel.invokeFunction('convertToInteractive',\n",
              "                                                    [key], {});\n",
              "        if (!dataTable) return;\n",
              "\n",
              "        const docLinkHtml = 'Like what you see? Visit the ' +\n",
              "          '<a target=\"_blank\" href=https://colab.research.google.com/notebooks/data_table.ipynb>data table notebook</a>'\n",
              "          + ' to learn more about interactive tables.';\n",
              "        element.innerHTML = '';\n",
              "        dataTable['output_type'] = 'display_data';\n",
              "        await google.colab.output.renderOutput(dataTable, element);\n",
              "        const docLink = document.createElement('div');\n",
              "        docLink.innerHTML = docLinkHtml;\n",
              "        element.appendChild(docLink);\n",
              "      }\n",
              "    </script>\n",
              "  </div>\n",
              "\n",
              "\n",
              "<div id=\"df-e9a7b6e7-5327-4649-820c-524cdc517ca4\">\n",
              "  <button class=\"colab-df-quickchart\" onclick=\"quickchart('df-e9a7b6e7-5327-4649-820c-524cdc517ca4')\"\n",
              "            title=\"Suggest charts.\"\n",
              "            style=\"display:none;\">\n",
              "\n",
              "<svg xmlns=\"http://www.w3.org/2000/svg\" height=\"24px\"viewBox=\"0 0 24 24\"\n",
              "     width=\"24px\">\n",
              "    <g>\n",
              "        <path d=\"M19 3H5c-1.1 0-2 .9-2 2v14c0 1.1.9 2 2 2h14c1.1 0 2-.9 2-2V5c0-1.1-.9-2-2-2zM9 17H7v-7h2v7zm4 0h-2V7h2v10zm4 0h-2v-4h2v4z\"/>\n",
              "    </g>\n",
              "</svg>\n",
              "  </button>\n",
              "\n",
              "<style>\n",
              "  .colab-df-quickchart {\n",
              "      --bg-color: #E8F0FE;\n",
              "      --fill-color: #1967D2;\n",
              "      --hover-bg-color: #E2EBFA;\n",
              "      --hover-fill-color: #174EA6;\n",
              "      --disabled-fill-color: #AAA;\n",
              "      --disabled-bg-color: #DDD;\n",
              "  }\n",
              "\n",
              "  [theme=dark] .colab-df-quickchart {\n",
              "      --bg-color: #3B4455;\n",
              "      --fill-color: #D2E3FC;\n",
              "      --hover-bg-color: #434B5C;\n",
              "      --hover-fill-color: #FFFFFF;\n",
              "      --disabled-bg-color: #3B4455;\n",
              "      --disabled-fill-color: #666;\n",
              "  }\n",
              "\n",
              "  .colab-df-quickchart {\n",
              "    background-color: var(--bg-color);\n",
              "    border: none;\n",
              "    border-radius: 50%;\n",
              "    cursor: pointer;\n",
              "    display: none;\n",
              "    fill: var(--fill-color);\n",
              "    height: 32px;\n",
              "    padding: 0;\n",
              "    width: 32px;\n",
              "  }\n",
              "\n",
              "  .colab-df-quickchart:hover {\n",
              "    background-color: var(--hover-bg-color);\n",
              "    box-shadow: 0 1px 2px rgba(60, 64, 67, 0.3), 0 1px 3px 1px rgba(60, 64, 67, 0.15);\n",
              "    fill: var(--button-hover-fill-color);\n",
              "  }\n",
              "\n",
              "  .colab-df-quickchart-complete:disabled,\n",
              "  .colab-df-quickchart-complete:disabled:hover {\n",
              "    background-color: var(--disabled-bg-color);\n",
              "    fill: var(--disabled-fill-color);\n",
              "    box-shadow: none;\n",
              "  }\n",
              "\n",
              "  .colab-df-spinner {\n",
              "    border: 2px solid var(--fill-color);\n",
              "    border-color: transparent;\n",
              "    border-bottom-color: var(--fill-color);\n",
              "    animation:\n",
              "      spin 1s steps(1) infinite;\n",
              "  }\n",
              "\n",
              "  @keyframes spin {\n",
              "    0% {\n",
              "      border-color: transparent;\n",
              "      border-bottom-color: var(--fill-color);\n",
              "      border-left-color: var(--fill-color);\n",
              "    }\n",
              "    20% {\n",
              "      border-color: transparent;\n",
              "      border-left-color: var(--fill-color);\n",
              "      border-top-color: var(--fill-color);\n",
              "    }\n",
              "    30% {\n",
              "      border-color: transparent;\n",
              "      border-left-color: var(--fill-color);\n",
              "      border-top-color: var(--fill-color);\n",
              "      border-right-color: var(--fill-color);\n",
              "    }\n",
              "    40% {\n",
              "      border-color: transparent;\n",
              "      border-right-color: var(--fill-color);\n",
              "      border-top-color: var(--fill-color);\n",
              "    }\n",
              "    60% {\n",
              "      border-color: transparent;\n",
              "      border-right-color: var(--fill-color);\n",
              "    }\n",
              "    80% {\n",
              "      border-color: transparent;\n",
              "      border-right-color: var(--fill-color);\n",
              "      border-bottom-color: var(--fill-color);\n",
              "    }\n",
              "    90% {\n",
              "      border-color: transparent;\n",
              "      border-bottom-color: var(--fill-color);\n",
              "    }\n",
              "  }\n",
              "</style>\n",
              "\n",
              "  <script>\n",
              "    async function quickchart(key) {\n",
              "      const quickchartButtonEl =\n",
              "        document.querySelector('#' + key + ' button');\n",
              "      quickchartButtonEl.disabled = true;  // To prevent multiple clicks.\n",
              "      quickchartButtonEl.classList.add('colab-df-spinner');\n",
              "      try {\n",
              "        const charts = await google.colab.kernel.invokeFunction(\n",
              "            'suggestCharts', [key], {});\n",
              "      } catch (error) {\n",
              "        console.error('Error during call to suggestCharts:', error);\n",
              "      }\n",
              "      quickchartButtonEl.classList.remove('colab-df-spinner');\n",
              "      quickchartButtonEl.classList.add('colab-df-quickchart-complete');\n",
              "    }\n",
              "    (() => {\n",
              "      let quickchartButtonEl =\n",
              "        document.querySelector('#df-e9a7b6e7-5327-4649-820c-524cdc517ca4 button');\n",
              "      quickchartButtonEl.style.display =\n",
              "        google.colab.kernel.accessAllowed ? 'block' : 'none';\n",
              "    })();\n",
              "  </script>\n",
              "</div>\n",
              "    </div>\n",
              "  </div>\n"
            ]
          },
          "metadata": {},
          "execution_count": 4
        }
      ]
    },
    {
      "cell_type": "code",
      "source": [
        "len(df.columns), df.columns"
      ],
      "metadata": {
        "colab": {
          "base_uri": "https://localhost:8080/"
        },
        "id": "iMMaPe3gduKb",
        "outputId": "3e1806f6-0f11-454d-fcae-0fb24ac46ab5"
      },
      "execution_count": null,
      "outputs": [
        {
          "output_type": "execute_result",
          "data": {
            "text/plain": [
              "(3,\n",
              " Index(['longitude,\"latitude\",\"housing_median_age\",\"total_', 'ooms\",\"total_bed',\n",
              "        'ooms\",\"population\",\"households\",\"median_income\",\"median_house_value\"'],\n",
              "       dtype='object'))"
            ]
          },
          "metadata": {},
          "execution_count": 53
        }
      ]
    },
    {
      "cell_type": "code",
      "source": [
        "df.columns[0]"
      ],
      "metadata": {
        "colab": {
          "base_uri": "https://localhost:8080/",
          "height": 36
        },
        "id": "GT1dA9Q3eRQU",
        "outputId": "577e8bbb-3c1e-4bca-96ed-7bdfe7f98fdf"
      },
      "execution_count": null,
      "outputs": [
        {
          "output_type": "execute_result",
          "data": {
            "text/plain": [
              "'longitude,\"latitude\",\"housing_median_age\",\"total_'"
            ],
            "application/vnd.google.colaboratory.intrinsic+json": {
              "type": "string"
            }
          },
          "metadata": {},
          "execution_count": 54
        }
      ]
    },
    {
      "cell_type": "code",
      "source": [
        "df['longitude,\"latitude\",\"housing_median_age\",\"total_'][:5]"
      ],
      "metadata": {
        "colab": {
          "base_uri": "https://localhost:8080/"
        },
        "id": "oEZhq9rBe-Hb",
        "outputId": "eee88f20-2193-409f-e640-d6b7706334a1"
      },
      "execution_count": null,
      "outputs": [
        {
          "output_type": "execute_result",
          "data": {
            "text/plain": [
              "0    -122.050000,37.370000,27.000000,3885.000000,66...\n",
              "1    -118.300000,34.260000,43.000000,1510.000000,31...\n",
              "2    -117.810000,33.780000,27.000000,3589.000000,50...\n",
              "3    -118.360000,33.820000,28.000000,67.000000,15.0...\n",
              "4    -119.670000,36.330000,19.000000,1241.000000,24...\n",
              "Name: longitude,\"latitude\",\"housing_median_age\",\"total_, dtype: object"
            ]
          },
          "metadata": {},
          "execution_count": 55
        }
      ]
    },
    {
      "cell_type": "code",
      "source": [
        "df = df.rename(columns = {'longitude,\"latitude\",\"housing_median_age\",\"total_':'Detail1'}) ##rename column names as at times it makes it easier for us"
      ],
      "metadata": {
        "id": "-hpbslfWfwy3"
      },
      "execution_count": null,
      "outputs": []
    },
    {
      "cell_type": "code",
      "source": [
        "df.head(3)"
      ],
      "metadata": {
        "colab": {
          "base_uri": "https://localhost:8080/",
          "height": 143
        },
        "id": "C0gpXPf1hN5Q",
        "outputId": "be0fbab6-ace7-4ae6-aef4-124317b6f664"
      },
      "execution_count": null,
      "outputs": [
        {
          "output_type": "execute_result",
          "data": {
            "text/plain": [
              "                                             Detail1  ooms\",\"total_bed  \\\n",
              "0  -122.050000,37.370000,27.000000,3885.000000,66...               NaN   \n",
              "1  -118.300000,34.260000,43.000000,1510.000000,31...               NaN   \n",
              "2  -117.810000,33.780000,27.000000,3589.000000,50...               NaN   \n",
              "\n",
              "   ooms\",\"population\",\"households\",\"median_income\",\"median_house_value\"  \n",
              "0                                                NaN                     \n",
              "1                                                NaN                     \n",
              "2                                                NaN                     "
            ],
            "text/html": [
              "\n",
              "  <div id=\"df-4ddd0b17-a5ea-4766-a53b-75f94cf0506b\" class=\"colab-df-container\">\n",
              "    <div>\n",
              "<style scoped>\n",
              "    .dataframe tbody tr th:only-of-type {\n",
              "        vertical-align: middle;\n",
              "    }\n",
              "\n",
              "    .dataframe tbody tr th {\n",
              "        vertical-align: top;\n",
              "    }\n",
              "\n",
              "    .dataframe thead th {\n",
              "        text-align: right;\n",
              "    }\n",
              "</style>\n",
              "<table border=\"1\" class=\"dataframe\">\n",
              "  <thead>\n",
              "    <tr style=\"text-align: right;\">\n",
              "      <th></th>\n",
              "      <th>Detail1</th>\n",
              "      <th>ooms\",\"total_bed</th>\n",
              "      <th>ooms\",\"population\",\"households\",\"median_income\",\"median_house_value\"</th>\n",
              "    </tr>\n",
              "  </thead>\n",
              "  <tbody>\n",
              "    <tr>\n",
              "      <th>0</th>\n",
              "      <td>-122.050000,37.370000,27.000000,3885.000000,66...</td>\n",
              "      <td>NaN</td>\n",
              "      <td>NaN</td>\n",
              "    </tr>\n",
              "    <tr>\n",
              "      <th>1</th>\n",
              "      <td>-118.300000,34.260000,43.000000,1510.000000,31...</td>\n",
              "      <td>NaN</td>\n",
              "      <td>NaN</td>\n",
              "    </tr>\n",
              "    <tr>\n",
              "      <th>2</th>\n",
              "      <td>-117.810000,33.780000,27.000000,3589.000000,50...</td>\n",
              "      <td>NaN</td>\n",
              "      <td>NaN</td>\n",
              "    </tr>\n",
              "  </tbody>\n",
              "</table>\n",
              "</div>\n",
              "    <div class=\"colab-df-buttons\">\n",
              "\n",
              "  <div class=\"colab-df-container\">\n",
              "    <button class=\"colab-df-convert\" onclick=\"convertToInteractive('df-4ddd0b17-a5ea-4766-a53b-75f94cf0506b')\"\n",
              "            title=\"Convert this dataframe to an interactive table.\"\n",
              "            style=\"display:none;\">\n",
              "\n",
              "  <svg xmlns=\"http://www.w3.org/2000/svg\" height=\"24px\" viewBox=\"0 -960 960 960\">\n",
              "    <path d=\"M120-120v-720h720v720H120Zm60-500h600v-160H180v160Zm220 220h160v-160H400v160Zm0 220h160v-160H400v160ZM180-400h160v-160H180v160Zm440 0h160v-160H620v160ZM180-180h160v-160H180v160Zm440 0h160v-160H620v160Z\"/>\n",
              "  </svg>\n",
              "    </button>\n",
              "\n",
              "  <style>\n",
              "    .colab-df-container {\n",
              "      display:flex;\n",
              "      gap: 12px;\n",
              "    }\n",
              "\n",
              "    .colab-df-convert {\n",
              "      background-color: #E8F0FE;\n",
              "      border: none;\n",
              "      border-radius: 50%;\n",
              "      cursor: pointer;\n",
              "      display: none;\n",
              "      fill: #1967D2;\n",
              "      height: 32px;\n",
              "      padding: 0 0 0 0;\n",
              "      width: 32px;\n",
              "    }\n",
              "\n",
              "    .colab-df-convert:hover {\n",
              "      background-color: #E2EBFA;\n",
              "      box-shadow: 0px 1px 2px rgba(60, 64, 67, 0.3), 0px 1px 3px 1px rgba(60, 64, 67, 0.15);\n",
              "      fill: #174EA6;\n",
              "    }\n",
              "\n",
              "    .colab-df-buttons div {\n",
              "      margin-bottom: 4px;\n",
              "    }\n",
              "\n",
              "    [theme=dark] .colab-df-convert {\n",
              "      background-color: #3B4455;\n",
              "      fill: #D2E3FC;\n",
              "    }\n",
              "\n",
              "    [theme=dark] .colab-df-convert:hover {\n",
              "      background-color: #434B5C;\n",
              "      box-shadow: 0px 1px 3px 1px rgba(0, 0, 0, 0.15);\n",
              "      filter: drop-shadow(0px 1px 2px rgba(0, 0, 0, 0.3));\n",
              "      fill: #FFFFFF;\n",
              "    }\n",
              "  </style>\n",
              "\n",
              "    <script>\n",
              "      const buttonEl =\n",
              "        document.querySelector('#df-4ddd0b17-a5ea-4766-a53b-75f94cf0506b button.colab-df-convert');\n",
              "      buttonEl.style.display =\n",
              "        google.colab.kernel.accessAllowed ? 'block' : 'none';\n",
              "\n",
              "      async function convertToInteractive(key) {\n",
              "        const element = document.querySelector('#df-4ddd0b17-a5ea-4766-a53b-75f94cf0506b');\n",
              "        const dataTable =\n",
              "          await google.colab.kernel.invokeFunction('convertToInteractive',\n",
              "                                                    [key], {});\n",
              "        if (!dataTable) return;\n",
              "\n",
              "        const docLinkHtml = 'Like what you see? Visit the ' +\n",
              "          '<a target=\"_blank\" href=https://colab.research.google.com/notebooks/data_table.ipynb>data table notebook</a>'\n",
              "          + ' to learn more about interactive tables.';\n",
              "        element.innerHTML = '';\n",
              "        dataTable['output_type'] = 'display_data';\n",
              "        await google.colab.output.renderOutput(dataTable, element);\n",
              "        const docLink = document.createElement('div');\n",
              "        docLink.innerHTML = docLinkHtml;\n",
              "        element.appendChild(docLink);\n",
              "      }\n",
              "    </script>\n",
              "  </div>\n",
              "\n",
              "\n",
              "<div id=\"df-e2183b58-4651-4d19-b70a-ca43c0040301\">\n",
              "  <button class=\"colab-df-quickchart\" onclick=\"quickchart('df-e2183b58-4651-4d19-b70a-ca43c0040301')\"\n",
              "            title=\"Suggest charts.\"\n",
              "            style=\"display:none;\">\n",
              "\n",
              "<svg xmlns=\"http://www.w3.org/2000/svg\" height=\"24px\"viewBox=\"0 0 24 24\"\n",
              "     width=\"24px\">\n",
              "    <g>\n",
              "        <path d=\"M19 3H5c-1.1 0-2 .9-2 2v14c0 1.1.9 2 2 2h14c1.1 0 2-.9 2-2V5c0-1.1-.9-2-2-2zM9 17H7v-7h2v7zm4 0h-2V7h2v10zm4 0h-2v-4h2v4z\"/>\n",
              "    </g>\n",
              "</svg>\n",
              "  </button>\n",
              "\n",
              "<style>\n",
              "  .colab-df-quickchart {\n",
              "      --bg-color: #E8F0FE;\n",
              "      --fill-color: #1967D2;\n",
              "      --hover-bg-color: #E2EBFA;\n",
              "      --hover-fill-color: #174EA6;\n",
              "      --disabled-fill-color: #AAA;\n",
              "      --disabled-bg-color: #DDD;\n",
              "  }\n",
              "\n",
              "  [theme=dark] .colab-df-quickchart {\n",
              "      --bg-color: #3B4455;\n",
              "      --fill-color: #D2E3FC;\n",
              "      --hover-bg-color: #434B5C;\n",
              "      --hover-fill-color: #FFFFFF;\n",
              "      --disabled-bg-color: #3B4455;\n",
              "      --disabled-fill-color: #666;\n",
              "  }\n",
              "\n",
              "  .colab-df-quickchart {\n",
              "    background-color: var(--bg-color);\n",
              "    border: none;\n",
              "    border-radius: 50%;\n",
              "    cursor: pointer;\n",
              "    display: none;\n",
              "    fill: var(--fill-color);\n",
              "    height: 32px;\n",
              "    padding: 0;\n",
              "    width: 32px;\n",
              "  }\n",
              "\n",
              "  .colab-df-quickchart:hover {\n",
              "    background-color: var(--hover-bg-color);\n",
              "    box-shadow: 0 1px 2px rgba(60, 64, 67, 0.3), 0 1px 3px 1px rgba(60, 64, 67, 0.15);\n",
              "    fill: var(--button-hover-fill-color);\n",
              "  }\n",
              "\n",
              "  .colab-df-quickchart-complete:disabled,\n",
              "  .colab-df-quickchart-complete:disabled:hover {\n",
              "    background-color: var(--disabled-bg-color);\n",
              "    fill: var(--disabled-fill-color);\n",
              "    box-shadow: none;\n",
              "  }\n",
              "\n",
              "  .colab-df-spinner {\n",
              "    border: 2px solid var(--fill-color);\n",
              "    border-color: transparent;\n",
              "    border-bottom-color: var(--fill-color);\n",
              "    animation:\n",
              "      spin 1s steps(1) infinite;\n",
              "  }\n",
              "\n",
              "  @keyframes spin {\n",
              "    0% {\n",
              "      border-color: transparent;\n",
              "      border-bottom-color: var(--fill-color);\n",
              "      border-left-color: var(--fill-color);\n",
              "    }\n",
              "    20% {\n",
              "      border-color: transparent;\n",
              "      border-left-color: var(--fill-color);\n",
              "      border-top-color: var(--fill-color);\n",
              "    }\n",
              "    30% {\n",
              "      border-color: transparent;\n",
              "      border-left-color: var(--fill-color);\n",
              "      border-top-color: var(--fill-color);\n",
              "      border-right-color: var(--fill-color);\n",
              "    }\n",
              "    40% {\n",
              "      border-color: transparent;\n",
              "      border-right-color: var(--fill-color);\n",
              "      border-top-color: var(--fill-color);\n",
              "    }\n",
              "    60% {\n",
              "      border-color: transparent;\n",
              "      border-right-color: var(--fill-color);\n",
              "    }\n",
              "    80% {\n",
              "      border-color: transparent;\n",
              "      border-right-color: var(--fill-color);\n",
              "      border-bottom-color: var(--fill-color);\n",
              "    }\n",
              "    90% {\n",
              "      border-color: transparent;\n",
              "      border-bottom-color: var(--fill-color);\n",
              "    }\n",
              "  }\n",
              "</style>\n",
              "\n",
              "  <script>\n",
              "    async function quickchart(key) {\n",
              "      const quickchartButtonEl =\n",
              "        document.querySelector('#' + key + ' button');\n",
              "      quickchartButtonEl.disabled = true;  // To prevent multiple clicks.\n",
              "      quickchartButtonEl.classList.add('colab-df-spinner');\n",
              "      try {\n",
              "        const charts = await google.colab.kernel.invokeFunction(\n",
              "            'suggestCharts', [key], {});\n",
              "      } catch (error) {\n",
              "        console.error('Error during call to suggestCharts:', error);\n",
              "      }\n",
              "      quickchartButtonEl.classList.remove('colab-df-spinner');\n",
              "      quickchartButtonEl.classList.add('colab-df-quickchart-complete');\n",
              "    }\n",
              "    (() => {\n",
              "      let quickchartButtonEl =\n",
              "        document.querySelector('#df-e2183b58-4651-4d19-b70a-ca43c0040301 button');\n",
              "      quickchartButtonEl.style.display =\n",
              "        google.colab.kernel.accessAllowed ? 'block' : 'none';\n",
              "    })();\n",
              "  </script>\n",
              "</div>\n",
              "    </div>\n",
              "  </div>\n"
            ]
          },
          "metadata": {},
          "execution_count": 57
        }
      ]
    },
    {
      "cell_type": "code",
      "source": [
        "df.iloc[:5, 0]  ##iloc - index - 0 to 4 rows and first column only."
      ],
      "metadata": {
        "colab": {
          "base_uri": "https://localhost:8080/"
        },
        "id": "A0FFUn-ghP1n",
        "outputId": "e0db39f6-9593-4f75-d7da-3f2ae70bdcc6"
      },
      "execution_count": null,
      "outputs": [
        {
          "output_type": "execute_result",
          "data": {
            "text/plain": [
              "0    -122.050000,37.370000,27.000000,3885.000000,66...\n",
              "1    -118.300000,34.260000,43.000000,1510.000000,31...\n",
              "2    -117.810000,33.780000,27.000000,3589.000000,50...\n",
              "3    -118.360000,33.820000,28.000000,67.000000,15.0...\n",
              "4    -119.670000,36.330000,19.000000,1241.000000,24...\n",
              "Name: Detail1, dtype: object"
            ]
          },
          "metadata": {},
          "execution_count": 58
        }
      ]
    },
    {
      "cell_type": "code",
      "source": [
        "import matplotlib\n",
        "from matplotlib import pyplot as plt"
      ],
      "metadata": {
        "id": "oJ7JrZqWioIO"
      },
      "execution_count": null,
      "outputs": []
    },
    {
      "cell_type": "code",
      "source": [
        "xpoints = np.array([1, 8])\n",
        "ypoints = np.array([3, 10])\n",
        "\n",
        "plt.plot(xpoints, ypoints)\n",
        "plt.show()"
      ],
      "metadata": {
        "colab": {
          "base_uri": "https://localhost:8080/",
          "height": 430
        },
        "id": "tzunFbpUxKAP",
        "outputId": "ab468aad-9b04-4d1b-a773-3d528123971b"
      },
      "execution_count": null,
      "outputs": [
        {
          "output_type": "display_data",
          "data": {
            "text/plain": [
              "<Figure size 640x480 with 1 Axes>"
            ],
            "image/png": "[encoded data removed]"
          },
          "metadata": {}
        }
      ]
    },
    {
      "cell_type": "code",
      "source": [
        "xpoints = np.array([1, 2, 6, 8])\n",
        "ypoints = np.array([3, 8, 1, 10])\n",
        "\n",
        "plt.plot(xpoints, ypoints)\n",
        "plt.show()"
      ],
      "metadata": {
        "colab": {
          "base_uri": "https://localhost:8080/",
          "height": 430
        },
        "id": "p7l83i5SxW4k",
        "outputId": "b5643b2f-e8ef-4c85-8cbc-24be61b4bbf7"
      },
      "execution_count": null,
      "outputs": [
        {
          "output_type": "display_data",
          "data": {
            "text/plain": [
              "<Figure size 640x480 with 1 Axes>"
            ],
            "image/png": "[encoded data removed]"
          },
          "metadata": {}
        }
      ]
    },
    {
      "cell_type": "markdown",
      "source": [
        "## Creating a dataframe.\n",
        "#### Task: Study about other methods of creating dataframe (for example: using Pandas Series, Lists etc.)"
      ],
      "metadata": {
        "id": "GT6yXu7l1gtL"
      }
    },
    {
      "cell_type": "code",
      "source": [
        "import pandas as pd\n",
        "import numpy as np"
      ],
      "metadata": {
        "id": "1vR1hTJ51ckl"
      },
      "execution_count": null,
      "outputs": []
    },
    {
      "cell_type": "code",
      "source": [
        "values = np.arange(16).reshape(4,4)\n",
        "values"
      ],
      "metadata": {
        "colab": {
          "base_uri": "https://localhost:8080/"
        },
        "id": "o0W0z3Fr1gOb",
        "outputId": "73d1d2a6-b2e6-4997-fb19-336550ef4f70"
      },
      "execution_count": null,
      "outputs": [
        {
          "output_type": "execute_result",
          "data": {
            "text/plain": [
              "array([[ 0,  1,  2,  3],\n",
              "       [ 4,  5,  6,  7],\n",
              "       [ 8,  9, 10, 11],\n",
              "       [12, 13, 14, 15]])"
            ]
          },
          "metadata": {},
          "execution_count": 63
        }
      ]
    },
    {
      "cell_type": "code",
      "source": [
        "dataframe_from_array = pd.DataFrame(values, index = ['a','b','c','d'], columns=['w','x','y','z'] )\n",
        "dataframe_from_array"
      ],
      "metadata": {
        "colab": {
          "base_uri": "https://localhost:8080/",
          "height": 175
        },
        "id": "_p5vKhPN2Bey",
        "outputId": "3c74d03b-8597-4ee3-950f-b1a69497a36a"
      },
      "execution_count": null,
      "outputs": [
        {
          "output_type": "execute_result",
          "data": {
            "text/plain": [
              "    w   x   y   z\n",
              "a   0   1   2   3\n",
              "b   4   5   6   7\n",
              "c   8   9  10  11\n",
              "d  12  13  14  15"
            ],
            "text/html": [
              "\n",
              "  <div id=\"df-7e2af324-823e-4122-aa1f-e520a51c4948\" class=\"colab-df-container\">\n",
              "    <div>\n",
              "<style scoped>\n",
              "    .dataframe tbody tr th:only-of-type {\n",
              "        vertical-align: middle;\n",
              "    }\n",
              "\n",
              "    .dataframe tbody tr th {\n",
              "        vertical-align: top;\n",
              "    }\n",
              "\n",
              "    .dataframe thead th {\n",
              "        text-align: right;\n",
              "    }\n",
              "</style>\n",
              "<table border=\"1\" class=\"dataframe\">\n",
              "  <thead>\n",
              "    <tr style=\"text-align: right;\">\n",
              "      <th></th>\n",
              "      <th>w</th>\n",
              "      <th>x</th>\n",
              "      <th>y</th>\n",
              "      <th>z</th>\n",
              "    </tr>\n",
              "  </thead>\n",
              "  <tbody>\n",
              "    <tr>\n",
              "      <th>a</th>\n",
              "      <td>0</td>\n",
              "      <td>1</td>\n",
              "      <td>2</td>\n",
              "      <td>3</td>\n",
              "    </tr>\n",
              "    <tr>\n",
              "      <th>b</th>\n",
              "      <td>4</td>\n",
              "      <td>5</td>\n",
              "      <td>6</td>\n",
              "      <td>7</td>\n",
              "    </tr>\n",
              "    <tr>\n",
              "      <th>c</th>\n",
              "      <td>8</td>\n",
              "      <td>9</td>\n",
              "      <td>10</td>\n",
              "      <td>11</td>\n",
              "    </tr>\n",
              "    <tr>\n",
              "      <th>d</th>\n",
              "      <td>12</td>\n",
              "      <td>13</td>\n",
              "      <td>14</td>\n",
              "      <td>15</td>\n",
              "    </tr>\n",
              "  </tbody>\n",
              "</table>\n",
              "</div>\n",
              "    <div class=\"colab-df-buttons\">\n",
              "\n",
              "  <div class=\"colab-df-container\">\n",
              "    <button class=\"colab-df-convert\" onclick=\"convertToInteractive('df-7e2af324-823e-4122-aa1f-e520a51c4948')\"\n",
              "            title=\"Convert this dataframe to an interactive table.\"\n",
              "            style=\"display:none;\">\n",
              "\n",
              "  <svg xmlns=\"http://www.w3.org/2000/svg\" height=\"24px\" viewBox=\"0 -960 960 960\">\n",
              "    <path d=\"M120-120v-720h720v720H120Zm60-500h600v-160H180v160Zm220 220h160v-160H400v160Zm0 220h160v-160H400v160ZM180-400h160v-160H180v160Zm440 0h160v-160H620v160ZM180-180h160v-160H180v160Zm440 0h160v-160H620v160Z\"/>\n",
              "  </svg>\n",
              "    </button>\n",
              "\n",
              "  <style>\n",
              "    .colab-df-container {\n",
              "      display:flex;\n",
              "      gap: 12px;\n",
              "    }\n",
              "\n",
              "    .colab-df-convert {\n",
              "      background-color: #E8F0FE;\n",
              "      border: none;\n",
              "      border-radius: 50%;\n",
              "      cursor: pointer;\n",
              "      display: none;\n",
              "      fill: #1967D2;\n",
              "      height: 32px;\n",
              "      padding: 0 0 0 0;\n",
              "      width: 32px;\n",
              "    }\n",
              "\n",
              "    .colab-df-convert:hover {\n",
              "      background-color: #E2EBFA;\n",
              "      box-shadow: 0px 1px 2px rgba(60, 64, 67, 0.3), 0px 1px 3px 1px rgba(60, 64, 67, 0.15);\n",
              "      fill: #174EA6;\n",
              "    }\n",
              "\n",
              "    .colab-df-buttons div {\n",
              "      margin-bottom: 4px;\n",
              "    }\n",
              "\n",
              "    [theme=dark] .colab-df-convert {\n",
              "      background-color: #3B4455;\n",
              "      fill: #D2E3FC;\n",
              "    }\n",
              "\n",
              "    [theme=dark] .colab-df-convert:hover {\n",
              "      background-color: #434B5C;\n",
              "      box-shadow: 0px 1px 3px 1px rgba(0, 0, 0, 0.15);\n",
              "      filter: drop-shadow(0px 1px 2px rgba(0, 0, 0, 0.3));\n",
              "      fill: #FFFFFF;\n",
              "    }\n",
              "  </style>\n",
              "\n",
              "    <script>\n",
              "      const buttonEl =\n",
              "        document.querySelector('#df-7e2af324-823e-4122-aa1f-e520a51c4948 button.colab-df-convert');\n",
              "      buttonEl.style.display =\n",
              "        google.colab.kernel.accessAllowed ? 'block' : 'none';\n",
              "\n",
              "      async function convertToInteractive(key) {\n",
              "        const element = document.querySelector('#df-7e2af324-823e-4122-aa1f-e520a51c4948');\n",
              "        const dataTable =\n",
              "          await google.colab.kernel.invokeFunction('convertToInteractive',\n",
              "                                                    [key], {});\n",
              "        if (!dataTable) return;\n",
              "\n",
              "        const docLinkHtml = 'Like what you see? Visit the ' +\n",
              "          '<a target=\"_blank\" href=https://colab.research.google.com/notebooks/data_table.ipynb>data table notebook</a>'\n",
              "          + ' to learn more about interactive tables.';\n",
              "        element.innerHTML = '';\n",
              "        dataTable['output_type'] = 'display_data';\n",
              "        await google.colab.output.renderOutput(dataTable, element);\n",
              "        const docLink = document.createElement('div');\n",
              "        docLink.innerHTML = docLinkHtml;\n",
              "        element.appendChild(docLink);\n",
              "      }\n",
              "    </script>\n",
              "  </div>\n",
              "\n",
              "\n",
              "<div id=\"df-50c6cd7a-b352-4493-9fbd-327bdc69d942\">\n",
              "  <button class=\"colab-df-quickchart\" onclick=\"quickchart('df-50c6cd7a-b352-4493-9fbd-327bdc69d942')\"\n",
              "            title=\"Suggest charts.\"\n",
              "            style=\"display:none;\">\n",
              "\n",
              "<svg xmlns=\"http://www.w3.org/2000/svg\" height=\"24px\"viewBox=\"0 0 24 24\"\n",
              "     width=\"24px\">\n",
              "    <g>\n",
              "        <path d=\"M19 3H5c-1.1 0-2 .9-2 2v14c0 1.1.9 2 2 2h14c1.1 0 2-.9 2-2V5c0-1.1-.9-2-2-2zM9 17H7v-7h2v7zm4 0h-2V7h2v10zm4 0h-2v-4h2v4z\"/>\n",
              "    </g>\n",
              "</svg>\n",
              "  </button>\n",
              "\n",
              "<style>\n",
              "  .colab-df-quickchart {\n",
              "      --bg-color: #E8F0FE;\n",
              "      --fill-color: #1967D2;\n",
              "      --hover-bg-color: #E2EBFA;\n",
              "      --hover-fill-color: #174EA6;\n",
              "      --disabled-fill-color: #AAA;\n",
              "      --disabled-bg-color: #DDD;\n",
              "  }\n",
              "\n",
              "  [theme=dark] .colab-df-quickchart {\n",
              "      --bg-color: #3B4455;\n",
              "      --fill-color: #D2E3FC;\n",
              "      --hover-bg-color: #434B5C;\n",
              "      --hover-fill-color: #FFFFFF;\n",
              "      --disabled-bg-color: #3B4455;\n",
              "      --disabled-fill-color: #666;\n",
              "  }\n",
              "\n",
              "  .colab-df-quickchart {\n",
              "    background-color: var(--bg-color);\n",
              "    border: none;\n",
              "    border-radius: 50%;\n",
              "    cursor: pointer;\n",
              "    display: none;\n",
              "    fill: var(--fill-color);\n",
              "    height: 32px;\n",
              "    padding: 0;\n",
              "    width: 32px;\n",
              "  }\n",
              "\n",
              "  .colab-df-quickchart:hover {\n",
              "    background-color: var(--hover-bg-color);\n",
              "    box-shadow: 0 1px 2px rgba(60, 64, 67, 0.3), 0 1px 3px 1px rgba(60, 64, 67, 0.15);\n",
              "    fill: var(--button-hover-fill-color);\n",
              "  }\n",
              "\n",
              "  .colab-df-quickchart-complete:disabled,\n",
              "  .colab-df-quickchart-complete:disabled:hover {\n",
              "    background-color: var(--disabled-bg-color);\n",
              "    fill: var(--disabled-fill-color);\n",
              "    box-shadow: none;\n",
              "  }\n",
              "\n",
              "  .colab-df-spinner {\n",
              "    border: 2px solid var(--fill-color);\n",
              "    border-color: transparent;\n",
              "    border-bottom-color: var(--fill-color);\n",
              "    animation:\n",
              "      spin 1s steps(1) infinite;\n",
              "  }\n",
              "\n",
              "  @keyframes spin {\n",
              "    0% {\n",
              "      border-color: transparent;\n",
              "      border-bottom-color: var(--fill-color);\n",
              "      border-left-color: var(--fill-color);\n",
              "    }\n",
              "    20% {\n",
              "      border-color: transparent;\n",
              "      border-left-color: var(--fill-color);\n",
              "      border-top-color: var(--fill-color);\n",
              "    }\n",
              "    30% {\n",
              "      border-color: transparent;\n",
              "      border-left-color: var(--fill-color);\n",
              "      border-top-color: var(--fill-color);\n",
              "      border-right-color: var(--fill-color);\n",
              "    }\n",
              "    40% {\n",
              "      border-color: transparent;\n",
              "      border-right-color: var(--fill-color);\n",
              "      border-top-color: var(--fill-color);\n",
              "    }\n",
              "    60% {\n",
              "      border-color: transparent;\n",
              "      border-right-color: var(--fill-color);\n",
              "    }\n",
              "    80% {\n",
              "      border-color: transparent;\n",
              "      border-right-color: var(--fill-color);\n",
              "      border-bottom-color: var(--fill-color);\n",
              "    }\n",
              "    90% {\n",
              "      border-color: transparent;\n",
              "      border-bottom-color: var(--fill-color);\n",
              "    }\n",
              "  }\n",
              "</style>\n",
              "\n",
              "  <script>\n",
              "    async function quickchart(key) {\n",
              "      const quickchartButtonEl =\n",
              "        document.querySelector('#' + key + ' button');\n",
              "      quickchartButtonEl.disabled = true;  // To prevent multiple clicks.\n",
              "      quickchartButtonEl.classList.add('colab-df-spinner');\n",
              "      try {\n",
              "        const charts = await google.colab.kernel.invokeFunction(\n",
              "            'suggestCharts', [key], {});\n",
              "      } catch (error) {\n",
              "        console.error('Error during call to suggestCharts:', error);\n",
              "      }\n",
              "      quickchartButtonEl.classList.remove('colab-df-spinner');\n",
              "      quickchartButtonEl.classList.add('colab-df-quickchart-complete');\n",
              "    }\n",
              "    (() => {\n",
              "      let quickchartButtonEl =\n",
              "        document.querySelector('#df-50c6cd7a-b352-4493-9fbd-327bdc69d942 button');\n",
              "      quickchartButtonEl.style.display =\n",
              "        google.colab.kernel.accessAllowed ? 'block' : 'none';\n",
              "    })();\n",
              "  </script>\n",
              "</div>\n",
              "    </div>\n",
              "  </div>\n"
            ]
          },
          "metadata": {},
          "execution_count": 64
        }
      ]
    },
    {
      "cell_type": "code",
      "source": [
        "dataframe_from_array.loc[['a','b'],['w','x']]"
      ],
      "metadata": {
        "colab": {
          "base_uri": "https://localhost:8080/",
          "height": 1000
        },
        "id": "jdIORDyX2h-Z",
        "outputId": "026c4bcc-705d-4972-c053-68eea30ef373"
      },
      "execution_count": null,
      "outputs": [
        {
          "output_type": "execute_result",
          "data": {
            "text/plain": [
              "   w  x\n",
              "a  0  1\n",
              "b  4  5"
            ],
            "text/html": [
              "\n",
              "  <div id=\"df-d361f16c-afd1-433f-ab98-5a153485cebe\" class=\"colab-df-container\">\n",
              "    <div>\n",
              "<style scoped>\n",
              "    .dataframe tbody tr th:only-of-type {\n",
              "        vertical-align: middle;\n",
              "    }\n",
              "\n",
              "    .dataframe tbody tr th {\n",
              "        vertical-align: top;\n",
              "    }\n",
              "\n",
              "    .dataframe thead th {\n",
              "        text-align: right;\n",
              "    }\n",
              "</style>\n",
              "<table border=\"1\" class=\"dataframe\">\n",
              "  <thead>\n",
              "    <tr style=\"text-align: right;\">\n",
              "      <th></th>\n",
              "      <th>w</th>\n",
              "      <th>x</th>\n",
              "    </tr>\n",
              "  </thead>\n",
              "  <tbody>\n",
              "    <tr>\n",
              "      <th>a</th>\n",
              "      <td>0</td>\n",
              "      <td>1</td>\n",
              "    </tr>\n",
              "    <tr>\n",
              "      <th>b</th>\n",
              "      <td>4</td>\n",
              "      <td>5</td>\n",
              "    </tr>\n",
              "  </tbody>\n",
              "</table>\n",
              "</div>\n",
              "    <div class=\"colab-df-buttons\">\n",
              "\n",
              "  <div class=\"colab-df-container\">\n",
              "    <button class=\"colab-df-convert\" onclick=\"convertToInteractive('df-d361f16c-afd1-433f-ab98-5a153485cebe')\"\n",
              "            title=\"Convert this dataframe to an interactive table.\"\n",
              "            style=\"display:none;\">\n",
              "\n",
              "  <svg xmlns=\"http://www.w3.org/2000/svg\" height=\"24px\" viewBox=\"0 -960 960 960\">\n",
              "    <path d=\"M120-120v-720h720v720H120Zm60-500h600v-160H180v160Zm220 220h160v-160H400v160Zm0 220h160v-160H400v160ZM180-400h160v-160H180v160Zm440 0h160v-160H620v160ZM180-180h160v-160H180v160Zm440 0h160v-160H620v160Z\"/>\n",
              "  </svg>\n",
              "    </button>\n",
              "\n",
              "  <style>\n",
              "    .colab-df-container {\n",
              "      display:flex;\n",
              "      gap: 12px;\n",
              "    }\n",
              "\n",
              "    .colab-df-convert {\n",
              "      background-color: #E8F0FE;\n",
              "      border: none;\n",
              "      border-radius: 50%;\n",
              "      cursor: pointer;\n",
              "      display: none;\n",
              "      fill: #1967D2;\n",
              "      height: 32px;\n",
              "      padding: 0 0 0 0;\n",
              "      width: 32px;\n",
              "    }\n",
              "\n",
              "    .colab-df-convert:hover {\n",
              "      background-color: #E2EBFA;\n",
              "      box-shadow: 0px 1px 2px rgba(60, 64, 67, 0.3), 0px 1px 3px 1px rgba(60, 64, 67, 0.15);\n",
              "      fill: #174EA6;\n",
              "    }\n",
              "\n",
              "    .colab-df-buttons div {\n",
              "      margin-bottom: 4px;\n",
              "    }\n",
              "\n",
              "    [theme=dark] .colab-df-convert {\n",
              "      background-color: #3B4455;\n",
              "      fill: #D2E3FC;\n",
              "    }\n",
              "\n",
              "    [theme=dark] .colab-df-convert:hover {\n",
              "      background-color: #434B5C;\n",
              "      box-shadow: 0px 1px 3px 1px rgba(0, 0, 0, 0.15);\n",
              "      filter: drop-shadow(0px 1px 2px rgba(0, 0, 0, 0.3));\n",
              "      fill: #FFFFFF;\n",
              "    }\n",
              "  </style>\n",
              "\n",
              "    <script>\n",
              "      const buttonEl =\n",
              "        document.querySelector('#df-d361f16c-afd1-433f-ab98-5a153485cebe button.colab-df-convert');\n",
              "      buttonEl.style.display =\n",
              "        google.colab.kernel.accessAllowed ? 'block' : 'none';\n",
              "\n",
              "      async function convertToInteractive(key) {\n",
              "        const element = document.querySelector('#df-d361f16c-afd1-433f-ab98-5a153485cebe');\n",
              "        const dataTable =\n",
              "          await google.colab.kernel.invokeFunction('convertToInteractive',\n",
              "                                                    [key], {});\n",
              "        if (!dataTable) return;\n",
              "\n",
              "        const docLinkHtml = 'Like what you see? Visit the ' +\n",
              "          '<a target=\"_blank\" href=https://colab.research.google.com/notebooks/data_table.ipynb>data table notebook</a>'\n",
              "          + ' to learn more about interactive tables.';\n",
              "        element.innerHTML = '';\n",
              "        dataTable['output_type'] = 'display_data';\n",
              "        await google.colab.output.renderOutput(dataTable, element);\n",
              "        const docLink = document.createElement('div');\n",
              "        docLink.innerHTML = docLinkHtml;\n",
              "        element.appendChild(docLink);\n",
              "      }\n",
              "    </script>\n",
              "  </div>\n",
              "\n",
              "\n",
              "<div id=\"df-605f51c5-fea1-449b-876c-866021ab6b56\">\n",
              "  <button class=\"colab-df-quickchart\" onclick=\"quickchart('df-605f51c5-fea1-449b-876c-866021ab6b56')\"\n",
              "            title=\"Suggest charts.\"\n",
              "            style=\"display:none;\">\n",
              "\n",
              "<svg xmlns=\"http://www.w3.org/2000/svg\" height=\"24px\"viewBox=\"0 0 24 24\"\n",
              "     width=\"24px\">\n",
              "    <g>\n",
              "        <path d=\"M19 3H5c-1.1 0-2 .9-2 2v14c0 1.1.9 2 2 2h14c1.1 0 2-.9 2-2V5c0-1.1-.9-2-2-2zM9 17H7v-7h2v7zm4 0h-2V7h2v10zm4 0h-2v-4h2v4z\"/>\n",
              "    </g>\n",
              "</svg>\n",
              "  </button>\n",
              "\n",
              "<style>\n",
              "  .colab-df-quickchart {\n",
              "      --bg-color: #E8F0FE;\n",
              "      --fill-color: #1967D2;\n",
              "      --hover-bg-color: #E2EBFA;\n",
              "      --hover-fill-color: #174EA6;\n",
              "      --disabled-fill-color: #AAA;\n",
              "      --disabled-bg-color: #DDD;\n",
              "  }\n",
              "\n",
              "  [theme=dark] .colab-df-quickchart {\n",
              "      --bg-color: #3B4455;\n",
              "      --fill-color: #D2E3FC;\n",
              "      --hover-bg-color: #434B5C;\n",
              "      --hover-fill-color: #FFFFFF;\n",
              "      --disabled-bg-color: #3B4455;\n",
              "      --disabled-fill-color: #666;\n",
              "  }\n",
              "\n",
              "  .colab-df-quickchart {\n",
              "    background-color: var(--bg-color);\n",
              "    border: none;\n",
              "    border-radius: 50%;\n",
              "    cursor: pointer;\n",
              "    display: none;\n",
              "    fill: var(--fill-color);\n",
              "    height: 32px;\n",
              "    padding: 0;\n",
              "    width: 32px;\n",
              "  }\n",
              "\n",
              "  .colab-df-quickchart:hover {\n",
              "    background-color: var(--hover-bg-color);\n",
              "    box-shadow: 0 1px 2px rgba(60, 64, 67, 0.3), 0 1px 3px 1px rgba(60, 64, 67, 0.15);\n",
              "    fill: var(--button-hover-fill-color);\n",
              "  }\n",
              "\n",
              "  .colab-df-quickchart-complete:disabled,\n",
              "  .colab-df-quickchart-complete:disabled:hover {\n",
              "    background-color: var(--disabled-bg-color);\n",
              "    fill: var(--disabled-fill-color);\n",
              "    box-shadow: none;\n",
              "  }\n",
              "\n",
              "  .colab-df-spinner {\n",
              "    border: 2px solid var(--fill-color);\n",
              "    border-color: transparent;\n",
              "    border-bottom-color: var(--fill-color);\n",
              "    animation:\n",
              "      spin 1s steps(1) infinite;\n",
              "  }\n",
              "\n",
              "  @keyframes spin {\n",
              "    0% {\n",
              "      border-color: transparent;\n",
              "      border-bottom-color: var(--fill-color);\n",
              "      border-left-color: var(--fill-color);\n",
              "    }\n",
              "    20% {\n",
              "      border-color: transparent;\n",
              "      border-left-color: var(--fill-color);\n",
              "      border-top-color: var(--fill-color);\n",
              "    }\n",
              "    30% {\n",
              "      border-color: transparent;\n",
              "      border-left-color: var(--fill-color);\n",
              "      border-top-color: var(--fill-color);\n",
              "      border-right-color: var(--fill-color);\n",
              "    }\n",
              "    40% {\n",
              "      border-color: transparent;\n",
              "      border-right-color: var(--fill-color);\n",
              "      border-top-color: var(--fill-color);\n",
              "    }\n",
              "    60% {\n",
              "      border-color: transparent;\n",
              "      border-right-color: var(--fill-color);\n",
              "    }\n",
              "    80% {\n",
              "      border-color: transparent;\n",
              "      border-right-color: var(--fill-color);\n",
              "      border-bottom-color: var(--fill-color);\n",
              "    }\n",
              "    90% {\n",
              "      border-color: transparent;\n",
              "      border-bottom-color: var(--fill-color);\n",
              "    }\n",
              "  }\n",
              "</style>\n",
              "\n",
              "  <script>\n",
              "    async function quickchart(key) {\n",
              "      const quickchartButtonEl =\n",
              "        document.querySelector('#' + key + ' button');\n",
              "      quickchartButtonEl.disabled = true;  // To prevent multiple clicks.\n",
              "      quickchartButtonEl.classList.add('colab-df-spinner');\n",
              "      try {\n",
              "        const charts = await google.colab.kernel.invokeFunction(\n",
              "            'suggestCharts', [key], {});\n",
              "      } catch (error) {\n",
              "        console.error('Error during call to suggestCharts:', error);\n",
              "      }\n",
              "      quickchartButtonEl.classList.remove('colab-df-spinner');\n",
              "      quickchartButtonEl.classList.add('colab-df-quickchart-complete');\n",
              "    }\n",
              "    (() => {\n",
              "      let quickchartButtonEl =\n",
              "        document.querySelector('#df-605f51c5-fea1-449b-876c-866021ab6b56 button');\n",
              "      quickchartButtonEl.style.display =\n",
              "        google.colab.kernel.accessAllowed ? 'block' : 'none';\n",
              "    })();\n",
              "  </script>\n",
              "</div>\n",
              "    </div>\n",
              "  </div>\n"
            ]
          },
          "metadata": {},
          "execution_count": 71
        },
        {
          "output_type": "display_data",
          "data": {
            "text/plain": [
              "<google.colab._quickchart_helpers.SectionTitle at 0x7b65c0d01210>"
            ],
            "text/html": [
              "<h4 class=\"colab-quickchart-section-title\">Values</h4>\n",
              "<style>\n",
              "  .colab-quickchart-section-title {\n",
              "      clear: both;\n",
              "  }\n",
              "</style>"
            ]
          },
          "metadata": {}
        },
        {
          "output_type": "display_data",
          "data": {
            "text/plain": [
              "import numpy as np\n",
              "from google.colab import autoviz\n",
              "\n",
              "def value_plot(df, y, figscale=1):\n",
              "  from matplotlib import pyplot as plt\n",
              "  df[y].plot(kind='line', figsize=(8 * figscale, 4 * figscale), title=y)\n",
              "  plt.gca().spines[['top', 'right']].set_visible(False)\n",
              "  plt.tight_layout()\n",
              "  return autoviz.MplChart.from_current_mpl_state()\n",
              "\n",
              "chart = value_plot(_df_0, *['w'], **{})\n",
              "chart"
            ],
            "text/html": [
              "      <div class=\"colab-quickchart-chart-with-code\" id=\"chart-0ce6012d-e84a-4074-b412-bd2770a36dda\">\n",
              "        <img src=\"data:image/png;base64,iVBORw0KGgoAAAANSUhEUgAAAYwAAADECAYAAACMRRb/AAAAOXRFWHRTb2Z0d2FyZQBNYXRwbG90\n",
              "bGliIHZlcnNpb24zLjcuMSwgaHR0cHM6Ly9tYXRwbG90bGliLm9yZy/bCgiHAAAACXBIWXMAAA9h\n",
              "AAAPYQGoP6dpAAAZbElEQVR4nO3dWXATh/0H8K98ybeNb1tarpiYGx/r1PnnKCQBAoRwWu5MZ1oe\n",
              "MmQy00k76Uxn8sC0vIQ8ZJghzUzL5CFN02lrCQcIR4sDgQItCVrbmPswYFj5ko3vQ7Il7f9BRrIT\n",
              "ApKwLuv7mckDP4T3xw74G+2X1aoURVFARET0BFHBXoCIiMIDA4OIiDzCwCAiIo8wMIiIyCMMDCIi\n",
              "8ggDg4iIPMLAICIijzAwiIjIIwwMIiLyCAODiIg8wsAgIiKPMDCIiMgjDAyiJzh06BAKCgpcP/78\n",
              "88+hUqlw8OBBAIDNZkNqairOnDkTrBWJAoKBQfQEy5cvR1dXFy5dugQAOHbsGObNm4fa2loAwLff\n",
              "fgsAeP7554O2I1EgMDCIniAlJQUVFRWora2Foig4fvw4PvzwQxw7dgwAUFtbixUrViAmJibImxL5\n",
              "FwODyAOrVq1CbW0tGhoakJ6ejk2bNmFgYAC3b9/G119/jVWrVgV7RSK/Y2AQeWDlypU4c+YMDh48\n",
              "iNWrV0OlUmHlypWorq6G0WjEypUrg70ikd+p+MQ9oidzOBzIysqCw+HAF198gfXr1+Ovf/0r3n33\n",
              "XcyYMQN3794N9opEfsd3GEQeiIqKwquvvorh4WGsWLECgPMyVX9/P99dUMTgOwwiIvII32EQEZFH\n",
              "GBhEROQRBgYREXmEgUFERB5hYBARkUcYGERE5BEGBhEReSSggbFnz55AHo6IiKZQQAPj3r17gTwc\n",
              "ERFNIV6SIiIij/gcGJ999hlUKhUOHDgwhesQEVGo8ikwmpub8emnn6KiomKq9yEiohDldWA4HA68\n",
              "9dZb+OMf/wi1Wu2PnYiIyANdg1Z8evoOTlzrCMjxvH6m5O7du/HCCy+grKzssa+zWq2wWq2TZna7\n",
              "3dvDERHRBDa7A/+52Qm9JOPENTNsDgU/mZOBVxfk+v3YXgXG5cuXUVNTg9OnTz/xtbt27cLOnTsn\n",
              "zXgJi4jIN3c6B2GoM6GmzgTzgPt/xpcJ6dhQrIGiKFCpVH7dwavAOHPmDJqbmzFv3jwAQHt7O7Zv\n",
              "3462tja88847k177/vvv47333ps027Fjx1OuS0QUOYasNhy91AaDZML55m7XPCMpDptKNNCJAory\n",
              "UgK2j1eB8c4770wKhuXLl+M3v/kNNm7c+IPXqtXqH3Qc0dHRvm1JRBQhFEVB/f1e6I0yDl9sxdCo\n",
              "81J+lApYXpQDnajFK/NzERcT+LsivO4wiIho6nUOWPFlvQl6ScbtziHXfHZmIipFAVtKtchLiw/i\n",
              "hk8ZGKdOnZqiNYiIIo/N7sDJG84C+5vrZtgdzidmJ8RGY+2SfOhELZ6bk+H3bsJTfIdBRBRgTeZB\n",
              "GOpkfFnfgs4JBXbJzHToRAFvLM1HSnxsEDd8NAYGEVEADFltOHKxDXpJhnSvxzXPTIrD5lJngT0v\n",
              "N3AFti8YGEREfqIoCuru9UAvyTh8sQ3DEwrsFUU50JULeGV+DmKjw+Nj/RgYRERTzDxgwZf1LdBL\n",
              "Mu5MKLDnZiWhUhSwuVSD3NTgFti+YGAQEU2BMbsDJ6+boZdknLzROanAfmNpPnTlAsRZM0KmwPYF\n",
              "A4OI6Ck0mQegl0z4st6ErsFR17xs1gzoRC3WLS1Asnp6fKudHr8LIqIAGrTacLixFXpJRv39Xtc8\n",
              "KzkOW0q1qBS1KMwJ7QLbFwwMIiIPKIoCY7OzwD5ysQ0jY84COzpK5SywRS1WhFGB7QsGBhHRY3T0\n",
              "W1BTb4JBMuFu14QCOzsJVaKATaUa5KSEX4HtCwYGEdH3jNoc+Oa6GQZJxskbZoz310iMcxbYVeUC\n",
              "SmeGd4HtCwYGEdG4Wx0D0EvOO7AfDLkL7PLZM1ApCli3JB9J06TA9kXk/s6JiAAMWMZw+GIbqo0y\n",
              "Lsi9rnl2itpVYD+TnRy8BUMIA4OIIo6iKDh/txvVkoyjl9pgGXMAAGKiVHhlfg50ooDlRdmImcYF\n",
              "ti8YGEQUMdr7HhbYMpofDLvmz2QnoapcwKYSLbJT1I/5CpGNgUFE09qozYET1zqgl2T852anq8BO\n",
              "iovG+mUF0JULKBHSI67A9gUDg4impRvtzgJ7f0MLuicU2M/NzoCuXMDaJXlIjOO3QG/wbBHRtNFv\n",
              "GcOhxlboJRMaJxTYOSlqbC3TYmuZFnNZYPuMgUFEYc3hUPDd3W7oJRn/ujy5wH5tQS505Vq8PI8F\n",
              "9lRgYBBRWGrrG0FNnQl6yYT73e4Ce15OMqrKBWws0SArmQX2VGJgEFHYsNrsOHHNjGqjjDO33AV2\n",
              "sjrGWWCLWhSzwPYbBgYRhbxrbf3QSzIONLSgZ3jMNf/JnAzoRAFrWGAHBM8wEYWkvpExfNXYCoMk\n",
              "46KpzzXPTXUW2JVlAmZnJQVxw8jjdWCsWrUK7e3tiIqKQkpKCj7++GOUlJT4YzciijAOh4Jv7zwY\n",
              "L7DbYbU5C+zY6IcFtoCX52UjOoqXnILB68DQ6/VIT08HAOzfvx/btm1DY2PjVO9FRBGkpddZYBvq\n",
              "ZMjdI655UW4KdOUCNhYXIJMFdtB5HRgPwwIA+vr6WC4RkU+sNju+vtqBaqOMs01dUMYL7BR1DN4s\n",
              "LoBOFLBUm8bvMSHEpw7jF7/4BU6ePAkAOHr06CNfY7VaYbVaJ83sdrsvhyOiaeRq63iBfaEFvRMK\n",
              "7OfnZkJXrsXri/KREBcdxA3px6gU5WGue+/zzz9HdXX1I0PjD3/4A3bu3DlpVlFRgXPnzvl6OCIK\n",
              "U33DYzjY2AK9JONyS79rnp8W7yqwZ2YmBnFD8sRTBQYAJCQkwGQyITMzc9L8Ue8wduzYgT179jzN\n",
              "4YgoTDgcCv5321lg//tKO0YnFNirFuZBVy7gxcIsFthhxKtLUr29vRgeHkZBQQEA4MCBA8jMzERG\n",
              "RsYPXqtWq6FWTy6poqP5NpNoujP1DGNfnfMZ2C297gJ7fl4KqsoFbCjWICMpLogbkq+8Coy+vj5U\n",
              "VlZiZGQEUVFRyM7OxuHDh1lKEUU4y5gdtVc7YJC+V2DHx2BjsQY6UcBiTSq/V4Q5rwJj1qxZOH/+\n",
              "vL92IaIwc7mlz3UHdr/F5pq/UJgJnShg9aI8xMfyysJ0wTu9icgrvcOjOHihFdVGGVfb3AV2QVo8\n",
              "tooCKsu0EDJYYE9HDAwieiKHQ8HZpi7oJRm1VzowancW2HHRUVi1KBc6UcALLLCnPQYGEf0ouXsY\n",
              "hjoTauomF9gL8lNRJWqxsUSD9EQW2JGCgUFEk1jG7Dh2pR16ScZ/mx645qnxMdhY8rDATgvihhQs\n",
              "DAwigqIouNzivAP74AV3ga1SAS88kwVduYBVC3NZYEc4BgZRBOsZGsWBCy2oNsq43j7gmmvSE1Ap\n",
              "arGllAU2uTEwiCKM/WGBbZTx9dUJBXZMFF5flAedKOD/nslEFAts+h4GBlGEuP9gGIY6GfvqTGjr\n",
              "s7jmizWp0IkCNizTIC0xNogbUqhjYBBNY5YxO/51uQ16ownn7rgL7LSEWGwq0aBS1GJRAQts8gwD\n",
              "g2iaURQFF03OO7C/amzFwIQC+8XCLFSVC3htAQts8h4Dg2ia6B4axf6GFhikyQW2dkYCdKKALWVa\n",
              "aNITgrghhTsGBlEYszsUnL7VCYPkLLDH7M5P/VPHRGHNYmeBXTGXBTZNDQYGURi692AIBsmEfXUm\n",
              "tPe7C+yl2jRUigLeXFaAtAQW2DS1GBhEYWJk1FlgVxtlfHe32zWfkRiLjSUaVJYJWFiQGsQNabpj\n",
              "YBCFMEVR0GjqQ7VRxuHGVgxY3QX2y/OyoRMFvLYwB+oYFtjkfwwMohD0YNCK/Q3OZ2Df7Bh0zWdm\n",
              "JKKyTIstZVoUsMCmAGNgEIUIm92B07c6oTeacPxaB2wOd4G9dkk+dKKAn8zJYIFNQcPAIAqyu11D\n",
              "MEgyaupN6Oi3uubLtGnQlQtYv6wAqfEssCn4GBhEQTA8asPRS86PED8/ocDOSIpz3YE9P48FNoUW\n",
              "BgZRgCiKgga5FwZJxqHGNgyOF9hRKuCnzzoL7FcX5CIuJirImxI9GgODyM86B6w4MF5g3zK7C+xZ\n",
              "mYnQiQI2l2qQn8YCm0IfA4PID2x2B/5zsxPVRhnfXDe7Cuz42MkFtkrFApvCh1eBYbFY8LOf/QxX\n",
              "r15FQkICcnJy8Kc//QmFhYX+2o8orNzpHIReMqGm3oTOAXeBXSyko6pcwBtL85HCApvClNfvMLZv\n",
              "3441a9ZApVLhk08+wVtvvYVTp075YTWi8DBkteHIpTYYJBnG5h7XPDMpDptLNagUBTybmxLEDYmm\n",
              "hleBER8fj7Vr17p+XFFRgY8++mjKlyIKdYqioP5+D/RGEw5fbMXQqB2As8BeUZSDSlHAK/NzWGDT\n",
              "tPJUHcaePXuwYcOGR/6c1WqF1WqdNLPb7U9zOKKgMw9YsL/eWWDf7hxyzedkJbmegZ2bGh/EDYn8\n",
              "x+fA+OCDD9DU1IQTJ0488ud37dqFnTt3TppVVFT4ejiioBmzO3DqRif0krPAto8X2Amx0Vi31Flg\n",
              "l8+ewQKbpj2VoiiKt7/oo48+wj//+U8cP34c6enpj3zNo95h7NixA3v27PFpUaJAazIPjt+B3YKu\n",
              "Qfef5dKZ6dCJAt5YVoBkNf+hIUUOr/+07969G//4xz8eGxYAoFaroVarJ82io/mJmhTaBq02HL3Y\n",
              "hmpJRt09d4GdlRyHzaVa6EQtCnNYYFNk8iowTCYTfvvb32Lu3LlYsWIFAGcwfPfdd35ZjigQFEWB\n",
              "dK8HeqOMI5faMDxeYEdHqbCiyHkH9or5OYiNZoFNkc2rwNBqtfDhChZRSDL3W1BT73wG9p0ud4E9\n",
              "NysJunIBm0s0yGGBTeTCC7AUUcbsDnxz3QyDJOPkjU5XgZ0YF403xgvsslkssIkehYFBEaHJPAC9\n",
              "ZMKX9SZ0DY665uKsGdCJAtYuzWeBTfQE/BtC09aAZQxHxgvshvu9rnlWshpbypzPwC7MSQ7egkRh\n",
              "hoFB04qiKDA296DaKOPopTaMjLkL7Ffm50AnClhelM0Cm8gHDAyaFtr7LKipN8EgyWh+MOyaP5Od\n",
              "BJ0oYFOpBjkpLLCJngYDg8LWqM2Bb653QC+ZcOqGGeP9NZLiorF+WQEqRQGlM9NZYBNNEQYGhZ2b\n",
              "HQPQG2Xsb2jBgyF3gV0+e7zAXpKPJBbYRFOOf6soLPRbxnC40VlgN8q9rnlOihpbyrSoLNNibjYL\n",
              "bCJ/YmBQyFIUBd/d7YZechbYljEHACAmSoVXFzgL7J8+m40YFthEAcHAoJDT3mfBvjoZhjoT7k0o\n",
              "sAtzklE1XmBnJasf8xWIyB8YGBQSRm0OHL/WAb0k4/TNTleBnayOwfplzjuwiwUW2ETBxMCgoLre\n",
              "3g+90YQDF1rQPaHAfm5OBqpEAWuW5CExjn9MiUIB/yZSwPWNjOFQYysMkoxGU59rnpuqxtYyLbaW\n",
              "CZiTlRTEDYnoURgYFBAOh4Jv7z6AQTLh6KU2WG3OAjs2WoXXFuRCJwp4aV4WC2yiEMbAIL9q7R1B\n",
              "TZ0JhjoT7ne7C+xnc5Odd2CXaJDJApsoLDAwaMpZbXYcv2pGtSTjzK1OPHyESoo6BuuLC6ATBSzT\n",
              "prHAJgozDAyaMtfa+lFtlHHgQgt6h8dc84q5GdCJAtYszkdCHB/TSxSuGBj0VPpGxvDVhRboJRMu\n",
              "tbgL7LzUeGwt06JS1GJWJgtsoumAgUFeczgUnLvzAHpJxr8vt08qsFctzEOlqMVL87IRHcVLTkTT\n",
              "CQODPNbSO4J9kgmGOhmmnhHXfH5eCnSigI0lGmQkxQVxQyLyJwYGPZZlzI6vrzrvwD7b1OUusONj\n",
              "sGG8wF6iYYFNFAkYGPRIV1r7YJBM2N/Qgr4Rd4H9f89kQicKeH1xHuJjWWATRRIGBrn0DY/hYGML\n",
              "qo0yrrT2u+YFaQ8LbAFCRmIQNySiYPIqMN5991189dVXuHfvHhoaGlBcXOyntShQHA4F/7v9ANWS\n",
              "jGNX2jE6XmDHRUdh5aJcVIkCXijMYoFNRN4FxtatW/G73/0OL774or/2oQAx9QzDIJmwr86Ell53\n",
              "gb0gPxVVohYbijWYwQKbiCbwKjBefvllf+1BAWAZs+PYlXYYJBP+e9tdYKfGx2BjiQY6UcCiglQW\n",
              "2ET0SH7rMKxWK6xW66SZ3W731+HoMS639EEvyTjQ0IJ+i801f7EwC5WiFqsXscAmoifzW2Ds2rUL\n",
              "O3funDSrqKjw1+Hoe3qGRnFw/A7sq23uAluTnjD+EeJaFthE5BW/Bcb777+P9957b9Jsx44d/joc\n",
              "AbA7FPy3qQt6SUbtlQ6M2scL7JgorF6UB52oxQvPZCGKBTYR+cBvgaFWq6FWT/7Y6uhoXvbwB7l7\n",
              "GIY6E/ZJMlr7LK75ooJUVJULeHNZAdITWWAT0dPxKjDefvttHDlyBO3t7Vi9ejVSUlLQ1NTkr93o\n",
              "MR4W2NVGGf+7/cA1T0uIxcbiAlSKAhZr0oK4IRFNN14Fxt69e/21B3lAURRcbulHtXQfBy+0YmC8\n",
              "wFapnAW2ThSwcmEuC2wi8gve6R0GuodGcaChBXpJxvX2AddcOyMBlWUCtpRpoJ3BApuI/IuBEaLs\n",
              "DgVnbnXCIJnw9dXJBfaaxXnQiQKen5vJApuIAoaBEWLuPxiGoU7GvjoT2iYU2Es0adCJWry5TIO0\n",
              "xNggbkhEkYqBEQJGRu3495U2VBtlfHun2zVPT4zFxmLnHdgLC1KDuCEREQMjaBRFwUWT8w7sry60\n",
              "YsDqLrBfmpeNKlHAawtzoI5hgU1EoYGBEWAPBq3Y39ACg2TCjQ53gS1kJEBXJmBLmRYF6QlB3JCI\n",
              "6NEYGAFgdyg4fbMTeknG8WsdGLM7P/VPHROFtUvyUSlqUTGHBTYRhTYGhh81dw3BUCejpq4F7f3u\n",
              "AnuZNg2VooD1ywqQlsACm4jCAwNjig2P2vCvS+3QSzK+u+susGckxmJTiRa6ci3m57HAJqLww8CY\n",
              "Aoqi4ILcC71kwqHGVgyOF9hRKuDlZ50F9qsLchEXExXkTYmIfMfAeApdg1bXHdg3OwZd81mZidCJ\n",
              "AjaXapCfxgKbiKYHBoaXbHYHTt/qRLVRxolrZtgczgI7PjYKaxfnQ1cu4LnZGSywiWjaYWB46G7X\n",
              "EPSSjJo6E8wD7icJFgvp0IkC3liWj9R4FthENH0xMB5jeNSGIxfbYJBMON/sLrAzkuKwuUSDSlFA\n",
              "UV5KEDckIgocBsb3KIqC+vu9MEgyDjW2YmjU+RzyKBWwvCgHOlGLV+azwCaiyMPAGNc5YMX+BhP0\n",
              "kglNZneBPTszEZWigK1lWuSmxgdxQyKi4IrowLDZHTh1oxPVkoyT190FdkJsNNYuyUdVuYDy2TOg\n",
              "UrHAJiKKyMC43TkIg2RCTb0JnRMK7JKZ6agSBaxbmo8UFthERJNETGAMWZ0Ftl6SId3rcc2zkuOw\n",
              "uVSLyjIt5uWywCYi+jHTOjAURUHdvR7oJRmHL7ZheLzAjo5SYUVRNipFAa/Mz0FsNAtsIqInmZaB\n",
              "YR6w4Mt65x3YdzqHXPO5WUmoHL8DmwU2EZF3pk1gjNkdOHndDL1kwskbZtjHC+zEuGisW+K8A1uc\n",
              "xQKbiMhXXgfGrVu38Mtf/hJdXV1IS0vDX/7yFyxatMgfu3mkyTwIgySjpr4FXYPuArts1gxUiQLW\n",
              "Ls1Hsnra5CIRUdB4/Z307bffxvbt27Ft2zbs27cP27Ztg9Fo9MduP2rQasORi62oNsqov9/rmmcl\n",
              "q7GlTIPKMgGFOckB3YmIaLrzKjDMZjMkSUJtbS0AYMuWLfjVr36FpqYmFBYW+mXBhxRFgXSvB9VG\n",
              "GUcutmFkbGKBnYOqcgHLi7JZYBMR+YlXgSHLMvLz8xET4/xlKpUKM2fOxP37938QGFarFVarddLM\n",
              "brf7tOSQ1Yb1n5ydXGBnJ6FKFLCpVIOcFBbYRET+5reL+7t27cLOnTsnzSoqKnz6WknqGGQlq9HR\n",
              "Z8EbSwugK9eidCYLbCKiQFIpiqJ4+mKz2YzCwkJ0d3cjJiYGiqIgPz8fZ8+e9egdxo4dO7Bnzx6f\n",
              "Fm3uGkJ2ihpJLLCJiILCqwv+OTk5KC0txd/+9jcAQE1NDbRa7SP7C7VajdTU1En/RUdH+7zo7Kwk\n",
              "hgURURB5/R1479692LZtGz744AOkpqbis88+88deREQUYrwOjKKiIpw7d84fuxARUQjjv0ElIiKP\n",
              "eFV6P63Nmzdj9uzZPv1au92O8+fP47nnnnuqLiSc8Rw48TzwHAA8Bw9NxXmYNWsWfv3rXz/xdQEN\n",
              "jKfR39+PtLQ09PX1ITU1NdjrBAXPgRPPA88BwHPwUCDPAy9JERGRRxgYRETkEQYGERF5JGwCQ61W\n",
              "4/e//z3UanWwVwkangMnngeeA4Dn4KFAnoewKb2JiCi4wuYdBhERBRcDg4iIPMLAICIijzAwiIjI\n",
              "IwwMIiLySFgExs9//nOIooilS5di3bp1aG9vD/ZKREQRJyz+WW1nZyeys7MBAB9++CGam5vx5z//\n",
              "OchbERFFlrB4hN3f//53fPHFF7BYLLBYLMjKygr2SkREESfkL0mdPXsWH3/8MY4ePYrLly9j9+7d\n",
              "sFgswV6LiCjihHxg9PT0ICUlBZmZmRgdHcXevXuDvRIRUUQK+cB4/fXXUVRUhKKiIrz00ksoLi4O\n",
              "9kpERBEpLEpvIiIKvpB/h0FERKGBgUFERB5hYBARkUcYGERE5BEGBhEReYSBQUREHmFgEBGRRxgY\n",
              "RETkEQYGERF5hIFBREQeYWAQEZFH/h9aeO0YLSTSYgAAAABJRU5ErkJggg==\n",
              "\">\n",
              "        \n",
              "      </div>\n",
              "      <script></script>\n",
              "      <script type=\"text/javascript\">\n",
              "        (() => {\n",
              "          const chartElement = document.getElementById(\"chart-0ce6012d-e84a-4074-b412-bd2770a36dda\");\n",
              "          async function getCodeForChartHandler(event) {\n",
              "            const chartCodeResponse =  await google.colab.kernel.invokeFunction(\n",
              "                'getCodeForChart', [\"chart-0ce6012d-e84a-4074-b412-bd2770a36dda\"], {});\n",
              "            const responseJson = chartCodeResponse.data['application/json'];\n",
              "            await google.colab.notebook.addCell(responseJson.code, 'code');\n",
              "          }\n",
              "          chartElement.onclick = getCodeForChartHandler;\n",
              "        })();\n",
              "      </script>\n",
              "      <style>\n",
              "        .colab-quickchart-chart-with-code  {\n",
              "            display: block;\n",
              "            float: left;\n",
              "            border: 1px solid transparent;\n",
              "        }\n",
              "\n",
              "        .colab-quickchart-chart-with-code:hover {\n",
              "            cursor: pointer;\n",
              "            border: 1px solid #aaa;\n",
              "        }\n",
              "      </style>"
            ]
          },
          "metadata": {}
        },
        {
          "output_type": "display_data",
          "data": {
            "text/plain": [
              "import numpy as np\n",
              "from google.colab import autoviz\n",
              "\n",
              "def value_plot(df, y, figscale=1):\n",
              "  from matplotlib import pyplot as plt\n",
              "  df[y].plot(kind='line', figsize=(8 * figscale, 4 * figscale), title=y)\n",
              "  plt.gca().spines[['top', 'right']].set_visible(False)\n",
              "  plt.tight_layout()\n",
              "  return autoviz.MplChart.from_current_mpl_state()\n",
              "\n",
              "chart = value_plot(_df_1, *['x'], **{})\n",
              "chart"
            ],
            "text/html": [
              "      <div class=\"colab-quickchart-chart-with-code\" id=\"chart-08fe0a3c-8b5e-4568-b0eb-0a69354e40f6\">\n",
              "        <img src=\"data:image/png;base64,iVBORw0KGgoAAAANSUhEUgAAAYwAAADECAYAAACMRRb/AAAAOXRFWHRTb2Z0d2FyZQBNYXRwbG90\n",
              "bGliIHZlcnNpb24zLjcuMSwgaHR0cHM6Ly9tYXRwbG90bGliLm9yZy/bCgiHAAAACXBIWXMAAA9h\n",
              "AAAPYQGoP6dpAAAZAklEQVR4nO3dW2xTh/0H8G/iJM49IffEPiSkgXAnl2OWQdtBr9xaKGBn0qRu\n",
              "4l916ss2rdK0PaCNl0Gliomu0jbtYeomrYtNCm2BtWu5jLJeyElCwv1SCBznTu43O7F9/g8OdtKm\n",
              "YDtxfPt+pD70h4l/HAFfzvnm+EQpiqKAiIjoEaIDvQAREYUGBgYREXmEgUFERB5hYBARkUcYGERE\n",
              "5BEGBhEReYSBQUREHmFgEBGRRxgYRETkEQYGERF5hIFBREQeYWAQEZFHGBhEHurs7IRGo8GhQ4dc\n",
              "szfeeAOFhYXo6ekJ4GZE8yOKn1ZL5LnPP/8czz77LD755BNYrVZs27YNZ86cgU6nC/RqRH4XE+gF\n",
              "iELJunXrcODAAej1ethsNhw8eJBhQRGDZxhEXhoeHsbChQuRnJyM27dvIyaG/+6iyMAOg8hLe/bs\n",
              "QUVFBdLS0vDrX/860OsQzRv+04jIC3/4wx/w5ZdfoqGhAb29vdDpdFi3bh127twZ6NWI/I6XpIg8\n",
              "dO7cOWzatAmnTp3C2rVrAQC1tbXYs2cP6urqsGTJkgBvSORfDAwiIvIIOwwiIvIIA4OIiDzCwCAi\n",
              "Io8wMIiIyCMMDCIi8ggDg4iIPMLAICIij8xrYEz9WGgiIgot8xoYd+/enc+3IyKiOcRLUkRE5BGv\n",
              "A6OoqAilpaUoKytDWVkZampq/LEXEREFGZ8+rbampgZlZWVzvAoREQUzXpIiIgpR94et+OvZ2zh5\n",
              "tXNe3s+nM4yXX34ZiqJg7dq1OHDgALKzs7/1GqvVCqvVOm1mt9t925KIiAAANrsD/73RDaMk4+TV\n",
              "LtgcCr63KANPL8v1+3t7fYZx9uxZNDc3o6GhAVlZWfjxj3884+v279+PtLS0af+dP39+1gsTEUWi\n",
              "293DeOOja1h34BT+7x0JH1/uhM2hYI2Qju1lGszHkypm9TyM9vZ2LFmyBENDQ9/6sZnOMPbu3ct7\n",
              "MYiIPDRiteHExXaYJDPOt/S65hlJcXipXAODKKA0L2Xe9vHqktTIyAgmJiaQnp4OAHj33XdRXl4+\n",
              "42vVajXUavW0mUql8m1LIqIIoSgKGu71w1gn41hzG0bGnZfyo6OADaU5MIhaPLU0F3Ex819BexUY\n",
              "nZ2d2LVrF+x2OxRFQXFxMf7+97/7azcioojRPWTFew1mGCUZX3ePuOZFmYnQiwJ2VWiRlxYfwA29\n",
              "DIzi4mI0Njb6axcioohisztw+rqzwD51rQt2h7MhSIhVYcuqfBhELdYuykBUVFSAN3Xy6bukiIjI\n",
              "d7e6hmGql/FeQyu6h9xdb/nCdBhEAdtW5yMlPjaAG86MgUFENA9GrDYcb26HUZIh3e1zzTOT4rCz\n",
              "wllgL86dvwLbFwwMIiI/URQF9Xf7YJRkHGtux+iUAntjaQ4MOgFPLc1BrCo07qFmYBARzbGuIQve\n",
              "a2iFUZJxe0qBXZyVBL0oYGeFBrmpgS2wfcHAICKaAxN2B05f64JRknH6eve0Anvb6nwYdALEwgVB\n",
              "U2D7goFBRDQLt7qGYJTMeK/BjPvD4655ZeECGEQttq4uQLI6PP6qDY9fBRHRPBq22nCsqQ1GSUbD\n",
              "vX7XPCs5DrsqtNCLWpTkBHeB7QsGBhGRBxRFQV2Ls8A+3tyOsQlnga2KjnIW2KIWG0OowPYFA4OI\n",
              "6CE6By2obTDDJJlx5/6UAjs7CdWigJcqNMhJCb0C2xcMDCKibxi3OXDqWhdMkozT17sw2V8jMc5Z\n",
              "YFfrBFQsDO0C2xcMDCKiSTc7h2CUnHdg94y4C2xd0QLoRQFbV+UjKUwKbF9E7q+ciAjAkGUCx5rb\n",
              "UVMn44Lc75pnp6hdBfZj2cmBWzCIMDCIKOIoioLzd3pRI8k4cbEdlgkHACAmOgpPLc2BQRSwoTQb\n",
              "MWFcYPuCgUFEEaNj4EGBLaOlZ9Q1fyw7CdU6AS+Va5Gdon7IV4hsDAwiCmvjNgdOXu2EUZLx3xvd\n",
              "rgI7KU6FF9YUwKATUC6kR1yB7QsGBhGFpesdzgL7SGMreqcU2GuLMmDQCdiyKg+Jcfwr0Bs8WkQU\n",
              "NgYtE/iwqQ1GyYymKQV2Tooauyu12F2pRTELbJ8xMIgopDkcCr660wujJOPfl6YX2M8sy4VBp8WT\n",
              "i1lgzwUGBhGFpPaBMdTWm2GUzLjX6y6wF+cko1onYEe5BlnJLLDnEgODiEKG1WbHyatdqKmT8dlN\n",
              "d4GdrI5xFtiiFmUssP2GgUFEQe9q+yCMkoyjja3oG51wzb+3KAMGUcBmFtjzgkeYiILSwNgEPmhq\n",
              "g0mS0WwecM1zU50Ftr5SQFFWUgA3jDw+B8bf/vY37NmzB0eOHMGOHTvmcCUiilQOh4Ivb/dMFtgd\n",
              "sNqcBXas6kGBLeDJxdlQRfOSUyD4FBgtLS3461//iqqqqrneh4giUGu/s8A21cuQe8dc89LcFBh0\n",
              "AnaUFSCTBXbAeR0YDocDr7zyCv74xz/i9ddf98dORBQBrDY7PrnSiZo6Gedu3YcyWWCnqGPwYlkB\n",
              "DKKA1do0FthBxOvAOHjwINavX4/KysqHvs5qtcJqtU6b2e12b9+OiMLMlbbJAvtCK/qnFNjfL86E\n",
              "QafFphX5SIhTBXBD+i5eBcalS5dQW1uLs2fPPvK1+/fvx759+6bNeAmLKDINjE7g/aZWGCUZl1oH\n",
              "XfP8tHhXgb0wMzGAG5InvAqMzz77DC0tLVi8eDEAoKOjA6+++ira29vx2muvTXvtb37zG/zyl7+c\n",
              "Ntu7d+8s1yWiUOFwKPj8a2eB/dHlDoxPKbCfW54Hg07A4yVZLLBDiFeB8dprr00Lhg0bNuAXv/jF\n",
              "jN8lpVaroVZPL6lUKp5mEoU7c98oDtc7n4Hd2u8usJfmpaBaJ2B7mQYZSXEB3JB8xfswiGjWLBN2\n",
              "/OdKJ0zSNwrs+BjsKNPAIApYqUllgR3iZhUYZ86cmaM1iCgUXWodcN2BPWixuebrSzJhEAU8vyIP\n",
              "8bG8shAueIZBRF7pHx3H+xfaUFMn40q7u8AuSIvHblGAvlILIYMFdjhiYBDRIzkcCs7dug+jJOM/\n",
              "lzsxbncW2HGqaDy3IhcGUcB6Fthhj4FBRN9J7h2Fqd6M2vrpBfay/FRUi1rsKNcgPZEFdqRgYBDR\n",
              "NJYJOz6+3AGjJON/t3pc89T4GOwof1BgpwVwQwoUBgYRQVEUXGp13oH9/gV3gR0VBax/LAsGnYDn\n",
              "lueywI5wDAyiCNY3Mo6jF1pRUyfjWseQa65JT4Be1GJXBQtscmNgEEUY+4MCu07GJ1emFNgx0di0\n",
              "Ig8GUcC6xzIRzQKbvoGBQRQh7vWMwlQv43C9Ge0DFtd8pSYVBlHA9jUapCXGBnBDCnYMDKIwZpmw\n",
              "49+X2mGsM+OL2+4COy0hFi+Va6AXtVhRwAKbPMPAIAoziqKg2ey8A/uDpjYMTSmwHy/JQrVOwDPL\n",
              "WGCT9xgYRGGid2QcRxpbYZKmF9jaBQkwiAJ2VWqhSU8I4IYU6hgYRCHM7lBw9mY3TJKzwJ6wOz/1\n",
              "Tx0Tjc0rnQV2VTELbJobDAyiEHS3ZwQmyYzD9WZ0DLoL7NXaNOhFAS+uKUBaAgtsmlsMDKIQMTbu\n",
              "LLBr6mR8dafXNV+QGIsd5RroKwUsL0gN4IYU7hgYREFMURQ0mQdQUyfjWFMbhqzuAvvJxdkwiAKe\n",
              "WZ4DdQwLbPI/BgZREOoZtuJIo/MZ2Dc6h13zhRmJ0FdqsatSiwIW2DTPGBhEQcJmd+DszW4Y68z4\n",
              "9GonbA53gb1lVT4MooDvLcpggU0Bw8AgCrA790dgkmTUNpjROWh1zddo02DQCXhhTQFS41lgU+Ax\n",
              "MIgCYHTchhMXnR8hfn5KgZ2RFOe6A3tpHgtsCi4MDKJ5oigKGuV+mCQZHza1Y3iywI6OAn6wxFlg\n",
              "P70sF3Ex0QHelGhmDAwiP+sesuLoZIF9s8tdYBdmJsIgCthZoUF+GgtsCn4MDCI/sNkd+O+NbtTU\n",
              "yTh1rctVYMfHTi+wo6JYYFPo8DownnvuOXR0dCA6OhopKSl46623UF5e7o/diELO7e5hGCUzahvM\n",
              "6B5yF9hlQjqqdQK2rc5HCgtsClFeB4bRaER6ejoA4MiRI/jJT36Cpqamud6LKGSMWG04frEdJklG\n",
              "XUufa56ZFIedFRroRQFLclMCuCHR3PA6MB6EBQAMDAzwlJoikqIoaLjXB2OdGcea2zAybgfgLLA3\n",
              "luZALwp4amkOC2wKKz51GC+//DJOnz4NADhx4sSMr7FarbBardNmdrvdl7cjChpdQxYcaXAW2F93\n",
              "j7jmi7KSXM/Azk2ND+CGRP4TpSiK4utPfuedd1BTUzNjaPzud7/Dvn37ps2qqqrwxRdf+Pp2RAEx\n",
              "YXfgzPVuGCVngW2fLLATYlXYutpZYOuKFvBsm8LerAIDABISEmA2m5GZmTltPtMZxt69e3Ho0KHZ\n",
              "vB3RvLnVNTx5B3Yr7g+7fy9XLEyHQRSwbU0BktX8RkOKHF79bu/v78fo6CgKCgoAAEePHkVmZiYy\n",
              "MjK+9Vq1Wg21Wj1tplLxEzUpuA1bbTjR3I4aSUb9XXeBnZUch50VWhhELUpyWGBTZPIqMAYGBqDX\n",
              "6zE2Nobo6GhkZ2fj2LFjPBWnkKYoCqS7fTDWyTh+sR2jkwW2KjoKG0udd2BvXJqDWBULbIpsXgVG\n",
              "YWEhzp8/769diOZV16AFtQ3OZ2Dfvu8usIuzkmDQCdhZrkEOC2wiF16ApYgyYXfg1LUumCQZp693\n",
              "uwrsxDgVtk0W2JWFLLCJZsLAoIhwq2sIRsmM9xrMuD887pqLhQtgEAVsWZ3PApvoEfgnhMLWkGUC\n",
              "xycL7MZ7/a55VrIauyqdz8AuyUkO3IJEIYaBQWFFURTUtfShpk7GiYvtGJtwF9hPLc2BQRSwoTSb\n",
              "BTaRDxgYFBY6BiyobTDDJMlo6Rl1zR/LToJBFPBShQY5KSywiWaDgUEha9zmwKlrnTBKZpy53oXJ\n",
              "/hpJcSq8sKYAelFAxcJ0FthEc4SBQSHnRucQjHUyjjS2omfEXWDriiYL7FX5SGKBTTTn+KeKQsKg\n",
              "ZQLHmpwFdpPc75rnpKixq1ILfaUWxdkssIn8iYFBQUtRFHx1pxdGyVlgWyYcAICY6Cg8vcxZYP9g\n",
              "STZiWGATzQsGBgWdjgELDtfLMNWbcXdKgV2Sk4zqyQI7K1n9kK9ARP7AwKCgMG5z4NOrnTBKMs7e\n",
              "6HYV2MnqGLywxnkHdpnAApsokBgYFFDXOgZhrDPj6IVW9E4psNcuykC1KGDzqjwkxvG3KVEw4J9E\n",
              "mncDYxP4sKkNJklGk3nANc9NVWN3pRa7KwUsykoK4IZENBMGBs0Lh0PBl3d6YJLMOHGxHVabs8CO\n",
              "VUXhmWW5MIgCnlicxQKbKIgxMMiv2vrHUFtvhqnejHu97gJ7SW6y8w7scg0yWWAThQQGBs05q82O\n",
              "T690oUaS8dnNbjx4CHCKOgYvlBXAIApYo01jgU0UYhgYNGeutg+ipk7G0Qut6B+dcM2rijNgEAVs\n",
              "XpmPhDg+ppcoVDEwaFYGxibwwYVWGCUzLra6C+y81HjsrtRCL2pRmMkCmygcMDDIaw6Hgi9u98Ao\n",
              "yfjoUse0Avu55XnQi1o8sTgbqmheciIKJwwM8lhr/xgOS2aY6mWY+8Zc86V5KTCIAnaUa5CRFBfA\n",
              "DYnInxgY9FCWCTs+ueK8A/vcrfvuAjs+BtsnC+xVGhbYRJGAgUEzutw2AJNkxpHGVgyMuQvsdY9l\n",
              "wiAK2LQyD/GxLLCJIgkDg1wGRifwflMraupkXG4bdM0L0h4U2AKEjMQAbkhEgeRVYFgsFvzwhz/E\n",
              "lStXkJCQgJycHPzpT39CSUmJv/YjP3M4FHz+dQ9qJBkfX+7A+GSBHaeKxrMrclEtClhfksUCm4i8\n",
              "P8N49dVXsXnzZkRFReHtt9/GK6+8gjNnzvhhNfInc98oTJIZh+vNaO13F9jL8lNRLWqxvUyDBSyw\n",
              "iWgKrwIjPj4eW7Zscf1/VVUV3nzzzTlfivzDMmHHx5c7YJLM+N/X7gI7NT4GO8o1MIgCVhSkssAm\n",
              "ohnNqsM4dOgQtm/fPuOPWa1WWK3WaTO73T6btyMfXWodgFGScbSxFYMWm2v+eEkW9KIWz69ggU1E\n",
              "j+ZzYPz+97/HrVu3cPLkyRl/fP/+/di3b9+0WVVVla9vR17qGxnH+5N3YF9pdxfYmvSEyY8Q17LA\n",
              "JiKvRCnKgwsTnnvzzTfxr3/9C59++inS09NnfM1MZxh79+7FoUOHfFqUHs3uUPC/W/dhlGT853In\n",
              "xu2TBXZMNJ5fkQeDqMX6x7IQzQKbiHzg9RnGwYMH8e677z40LABArVZDrZ7+sdUqFS97+IPcOwpT\n",
              "vRmHJRltAxbXfEVBKqp1Al5cU4D0RBbYRDQ7XgWG2WzG66+/juLiYmzcuBGAMxi++uorvyxH3+1B\n",
              "gV1TJ+Pzr3tc87SEWOwoK4BeFLBSkxbADYko3HgVGFqtFj5cwaI5oigKLrUOoka6h/cvtGFossCO\n",
              "inIW2AZRwLPLc1lgE5Ff8E7vENA7Mo6jja0wSjKudQy55toFCdBXCthVqYF2AQtsIvIvBkaQsjsU\n",
              "fHazGybJjE+uTC+wN6/Mg0EU8P3iTBbYRDRvGBhB5l7PKEz1Mg7Xm9E+pcBepUmDQdTixTUapCXG\n",
              "BnBDIopUDIwgMDZux0eX21FTJ+PL272ueXpiLHaUOe/AXl6QGsANiYgYGAGjKAqazc47sD+40IYh\n",
              "q7vAfmJxNqpFAc8sz4E6hgU2EQUHBsY86xm24khjK0ySGdc73QW2kJEAQ6WAXZVaFKQnBHBDIqKZ\n",
              "MTDmgd2h4OyNbhglGZ9e7cSE3fmtyeqYaGxZlQ+9qEXVIhbYRBTcGBh+1HJ/BKZ6GbX1regYdBfY\n",
              "a7Rp0IsCXlhTgLQEFthEFBoYGHNsdNyGf1/sgFGS8dUdd4G9IDEWL5VrYdBpsTSPBTYRhR4GxhxQ\n",
              "FAUX5H4YJTM+bGrD8GSBHR0FPLnEWWA/vSwXcTHRAd6UiMh3DIxZuD9sdd2BfaNz2DUvzEyEQRSw\n",
              "s0KD/DQW2EQUHhgYXrLZHTh7sxs1dTJOXu2CzeEssONjo7FlZT4MOgFrizJYYBNR2GFgeOjO/REY\n",
              "JRm19WZ0Dbmf81EmpMMgCti2Jh+p8SywiSh8MTAeYnTchuPN7TBJZpxvcRfYGUlx2FmugV4UUJqX\n",
              "EsANiYjmDwPjGxRFQcO9fpgkGR82tWFk3Pkc8ugoYENpDgyiFk8tZYFNRJGHgTGpe8iKI41mGCUz\n",
              "bnW5C+yizEToRQG7K7XITY0P4IZERIEV0YFhsztw5no3aiQZp6+5C+yEWBW2rMpHtU6ArmgBoqJY\n",
              "YBMRRWRgfN09DJNkRm2DGd1TCuzyhemoFgVsXZ2PFBbYRETTRExgjFidBbZRkiHd7XPNs5LjsLNC\n",
              "C32lFotzWWATEX2XsA4MRVFQf7cPRknGseZ2jE4W2KroKGwszYZeFPDU0hzEqlhgExE9SlgGRteQ\n",
              "Be81OO/Avt094poXZyVBP3kHNgtsIiLvhE1gTNgdOH2tC0bJjNPXu2CfLLAT41TYusp5B7ZYyAKb\n",
              "iMhXXgXGz372M3zwwQe4e/cuGhsbUVZW5qe1PHeraxgmSUZtQyvuD7sL7MrCBagWBWxZnY9kddjk\n",
              "IhFRwHj1N+nu3bvxq1/9Co8//ri/9vHIsNWG481tqKmT0XCv3zXPSlZjV6UG+koBJTnJgVuQiCgM\n",
              "eRUYTz75pL/2eCRFUSDd7UNNnYzjze0Ym5haYOegWidgQ2k2C2wiIj/x27Uaq9UKq9U6bWa32336\n",
              "WiNWG154+9z0Ajs7CdWigJcqNMhJYYFNRORvfguM/fv3Y9++fdNmVVVVPn2tJHUMspLV6BywYNvq\n",
              "Ahh0WlQsZIFNRDSfohRFUbz9SUVFRTh69OhDS++ZzjD27t2LQ4cOeb0k4Hw+dnaKGkkssImIAsJv\n",
              "f/uq1Wqo1eppM5VK5fPXK8pKmu1KREQ0C141xD/96U+h1WphNpvx/PPPo6SkxF97ERFRkPHqDOMv\n",
              "f/mLv/YgIqIgx+9BJSIij/hUevtq586dKCoq8unn2u12nD9/HmvXrp1VFxLKeAyceBx4DAAegwfm\n",
              "4jgUFhbi5z//+SNfN6+BMRuDg4NIS0vDwMAAUlNTA71OQPAYOPE48BgAPAYPzOdx4CUpIiLyCAOD\n",
              "iIg8wsAgIiKPhExgqNVq/Pa3v/3WzYCRhMfAiceBxwDgMXhgPo9DyJTeREQUWCFzhkFERIHFwCAi\n",
              "Io8wMIiIyCMMDCIi8ggDg4iIPBISgfGjH/0Ioihi9erV2Lp1Kzo6OgK9EhFRxAmJb6vt7u5GdnY2\n",
              "AODAgQNoaWnBn//85wBvRUQUWULieaf//Oc/8Y9//AMWiwUWiwVZWVmBXomIKOIE/SWpc+fO4a23\n",
              "3sKJEydw6dIlHDx4EBaLJdBrERFFnKAPjL6+PqSkpCAzMxPj4+N86h8RUYAEfWBs2rQJpaWlKC0t\n",
              "xRNPPIGysrJAr0REFJFCovQmIqLAC/ozDCIiCg4MDCIi8ggDg4iIPMLAICIijzAwiIjIIwwMIiLy\n",
              "CAODiIg8wsAgIiKPMDCIiMgjDAwiIvIIA4OIiDzy/7+b2eLtonUPAAAAAElFTkSuQmCC\n",
              "\">\n",
              "        \n",
              "      </div>\n",
              "      <script></script>\n",
              "      <script type=\"text/javascript\">\n",
              "        (() => {\n",
              "          const chartElement = document.getElementById(\"chart-08fe0a3c-8b5e-4568-b0eb-0a69354e40f6\");\n",
              "          async function getCodeForChartHandler(event) {\n",
              "            const chartCodeResponse =  await google.colab.kernel.invokeFunction(\n",
              "                'getCodeForChart', [\"chart-08fe0a3c-8b5e-4568-b0eb-0a69354e40f6\"], {});\n",
              "            const responseJson = chartCodeResponse.data['application/json'];\n",
              "            await google.colab.notebook.addCell(responseJson.code, 'code');\n",
              "          }\n",
              "          chartElement.onclick = getCodeForChartHandler;\n",
              "        })();\n",
              "      </script>\n",
              "      <style>\n",
              "        .colab-quickchart-chart-with-code  {\n",
              "            display: block;\n",
              "            float: left;\n",
              "            border: 1px solid transparent;\n",
              "        }\n",
              "\n",
              "        .colab-quickchart-chart-with-code:hover {\n",
              "            cursor: pointer;\n",
              "            border: 1px solid #aaa;\n",
              "        }\n",
              "      </style>"
            ]
          },
          "metadata": {}
        },
        {
          "output_type": "display_data",
          "data": {
            "text/plain": [
              "<google.colab._quickchart_helpers.SectionTitle at 0x7b65c0bc6fe0>"
            ],
            "text/html": [
              "<h4 class=\"colab-quickchart-section-title\">Distributions</h4>\n",
              "<style>\n",
              "  .colab-quickchart-section-title {\n",
              "      clear: both;\n",
              "  }\n",
              "</style>"
            ]
          },
          "metadata": {}
        },
        {
          "output_type": "display_data",
          "data": {
            "text/plain": [
              "import numpy as np\n",
              "from google.colab import autoviz\n",
              "\n",
              "def histogram(df, colname, num_bins=20, figscale=1):\n",
              "  from matplotlib import pyplot as plt\n",
              "  df[colname].plot(kind='hist', bins=num_bins, title=colname, figsize=(8*figscale, 4*figscale))\n",
              "  plt.gca().spines[['top', 'right',]].set_visible(False)\n",
              "  plt.tight_layout()\n",
              "  return autoviz.MplChart.from_current_mpl_state()\n",
              "\n",
              "chart = histogram(_df_2, *['w'], **{})\n",
              "chart"
            ],
            "text/html": [
              "      <div class=\"colab-quickchart-chart-with-code\" id=\"chart-9af1a138-a481-4e20-9f0b-2734e6cb62fe\">\n",
              "        <img src=\"data:image/png;base64,iVBORw0KGgoAAAANSUhEUgAAAYwAAADECAYAAACMRRb/AAAAOXRFWHRTb2Z0d2FyZQBNYXRwbG90\n",
              "bGliIHZlcnNpb24zLjcuMSwgaHR0cHM6Ly9tYXRwbG90bGliLm9yZy/bCgiHAAAACXBIWXMAAA9h\n",
              "AAAPYQGoP6dpAAAYAklEQVR4nO3df1AU5+EG8GeB9mJaD1BhuAInw081CSAIg2iTEAdj8q1gwEmT\n",
              "Dlaq/LCxtR3TSoh1Um0KZlrbWDoGCA4NYZqkBQyUYCUm1GKCQYwxikkBBe80KG2InK1yyvF+/7Be\n",
              "vRyY3fOWu8DzmdkZbnnZe2678enee7crCSEEiIiIvoCHqwMQEdGXAwuDiIhkYWEQEZEsLAwiIpKF\n",
              "hUFERLKwMIiISBYWBhERycLCICIiWVgYREQkCwuDiIhkYWEQEZEsLAwiIpKFhUHkRH/5y1/wjW98\n",
              "w/r4pZdegiRJqK+vBwCMjIxAq9WitbXVVRGJHMbCIHKi+++/H//6179w/PhxAMC+ffsQERGB5uZm\n",
              "AMChQ4cAAAsXLnRZRiJHsTCInGj69OlISkpCc3MzhBDYv38/tm/fjn379gEAmpubkZKSAi8vLxcn\n",
              "JVKOhUHkZEuXLkVzczOOHj0KHx8fPPLII7h06RJOnTqFN998E0uXLnV1RCKHsDCInCw1NRWtra2o\n",
              "r6/Hgw8+CEmSkJqaitdeew2HDx9GamqqqyMSOUTiHfeInGt0dBSzZs3C6OgoXn75ZSxfvhxVVVXY\n",
              "sGEDfH190dvb6+qIRA7hGQaRk3l4eGDJkiW4fPkyUlJSAFx/m8pkMvHsgr7UeIZBRESy8AyDiIhk\n",
              "YWEQEZEsLAwiIpKFhUFERLKwMIiISBYWBhERycLCICIiWSZFYezcudPVEYiIJr1JURhnzpxxdQQi\n",
              "oklvUhQGERGpT9XC2LBhA0JCQiBJEj744INxx+3evRsREREICwtDbm4url27pmYsIiJygKqFsXLl\n",
              "Shw8eBCzZ88ed0xvby+2bNmC1tZW9PT04MKFCygvL1czFhEROUDVwrj33nsRFBR0yzE1NTVIS0tD\n",
              "QEAAJEnCunXr8Morr6gZi4iIHODy+0QaDAabM5CQkBAYDIZxx5vNZpjNZpt1FotFtXxERHSdywtD\n",
              "qeLiYmzdutVmXVJSksPbC3nqjdvK07f9/27r74mIgC/Hv0Uu/5SUXq+3+VhsX18f9Hr9uOMLCwsx\n",
              "NDRksyQmJk5EVCKiKc3lhZGZmYmGhgacP38eQgiUlpbiscceG3e8RqOBVqu1WTw9PScwMRHR1KRq\n",
              "YeTn5yMoKAhnz57Fgw8+iPDwcABATk4OGhoaAAChoaHYunUrFi1ahPDwcPj5+SE/P1/NWERE5ABV\n",
              "5zDKysrGXF9RUWHzODc3F7m5uWpGISKi2+Tyt6SIiOjLgYVBRESysDCIiEgWFgYREcnCwiAiIllY\n",
              "GEREJAsLg4iIZGFhEBGRLCwMIiKShYVBRESysDCIiEgWFgYREcnCwiAiIllYGEREJAsLg4iIZGFh\n",
              "EBGRLCwMIiKSRdXC6O7uRnJyMiIjI5GQkIDOzk67MaOjo9i4cSPmzZuH6OhopKSkoKenR81YRETk\n",
              "ANXv6Z2Xl4euri4UFBQgOzvbbkxDQwPeeecdHDt2DB9++CGWLFmCp59+Ws1YRETkANUKY2BgAB0d\n",
              "HcjKygIAZGZmwmg02p09SJIEs9mM4eFhCCFgMpkQFBSkViwiInKQl1obNhqN0Ol08PK6/hSSJEGv\n",
              "18NgMCA8PNw6bvny5WhpaUFAQACmT5+OwMBAHDhwYNztms1mmM1mm3UWi0WdF0FERFYun/Tu6OjA\n",
              "iRMncO7cOXzyySdYsmQJ1q1bN+744uJieHt72yzt7e0TmJiIaGpSrTCCg4PR39+PkZERAIAQAgaD\n",
              "AXq93mZcVVUVHnjgAfj4+MDDwwOrV69GS0vLuNstLCzE0NCQzZKYmKjWyyAiov9SrTD8/f0RFxeH\n",
              "6upqAEBtbS2CgoJs3o4CgNDQULz99tu4evUqAKCxsRF33333uNvVaDTQarU2i6enp1ovg4iI/ku1\n",
              "OQwAKCsrQ3Z2NoqKiqDValFZWQkAyMnJQVpaGtLS0rB+/Xp89NFHiImJwVe+8hUEBASgtLRUzVhE\n",
              "ROQAVQsjKioKbW1tdusrKiqsP2s0Grz44otqxiAiIidw+aQ3ERF9ObAwiIhIFhYGERHJwsIgIiJZ\n",
              "WBhERCSL4sLYt2+fGjmIiMjNKS6Mbdu2ISoqCjt37oTJZFIjExERuSHFhfHOO+/g1VdfxYkTJxAZ\n",
              "GYknnngCJ0+eVCMbERG5EYfmMObPn48XX3wRf/3rX9HY2Ijo6Gikpqbi+PHjzs5HRERuwqHC2L9/\n",
              "P9LT05GRkYH169fj/PnzyM/PxyOPPOLsfERE5CYUXxpk7ty5mDVrFjZs2ICMjAzrhf9WrlyJ3bt3\n",
              "Oz0gERG5B8WFUV1djfj4+DF/t3fv3tsORERE7knxW1JHjhzB4OCg9fGnn37KiwcSEU0Bigtj165d\n",
              "mDFjhvXxzJkzsWvXLqeGIiIi96O4MIQQdut4T20ioslPcWHodDr86U9/sj5+7bXXoNPpnBqKiIjc\n",
              "j+JJ7+effx7p6enYtGkTAODOO+9EfX2904MREZF7UXyGMWfOHJw8eRJNTU1oamrC8ePHERERMebY\n",
              "7u5uJCcnIzIyEgkJCejs7Bxz3PHjx3H//fdj7ty5mDt3Lurq6pTGIiIilTl0i1ZJkuDj44ORkRGc\n",
              "O3cOAKDX6+3G5efnIy8vD9nZ2aipqUF2djYOHz5sM+by5ctIT09HVVUVFi9eDIvFYvMpLCIicg+K\n",
              "zzD+8Ic/wMfHB/fccw/i4+MRHx+PBQsW2I0bGBhAR0cHsrKyAACZmZkwGo3o6emxGffHP/4RSUlJ\n",
              "WLx4MQDA09MTfn5+jrwWIiJSkeIzjF/84hc4fPgwoqKibjnOaDRCp9PBy+v6U0iSBL1eD4PBgPDw\n",
              "cOu4kydPQqPR4Fvf+hbOnj2L6Oho7NixY9zSMJvNMJvNNuv4KS0iIvUpPsOYNWvWF5aFEiMjI9i/\n",
              "fz/Kyspw9OhRBAYG4vvf//6444uLi+Ht7W2ztLe3Oy0PERGNTXFhrFixAs8//zwGBgZgMpmsy+cF\n",
              "Bwejv78fIyMjAK5/f8NgMNjNdej1eqSkpCAwMBCSJCErKwuHDh0a9/kLCwsxNDRksyQmJip9GURE\n",
              "pJDiwti8eTM2btyIgIAA+Pr6wsfHB76+vnbj/P39ERcXh+rqagBAbW0tgoKCbN6OAoBHH30Uhw8f\n",
              "tpZOU1MTYmJixn1+jUYDrVZrs9y4ACIREalH8RzG6Oio7LFlZWXIzs5GUVERtFotKisrAQA5OTlI\n",
              "S0tDWloa9Ho9nn76aSQnJ8PDwwOBgYEoLy9XGouIiFTm0Mdqjxw5gpMnT2LVqlW4ePEirly5Mua3\n",
              "vaOiotDW1ma3vqKiwubxqlWrsGrVKkeiEBHRBHHo4oNr1qzBz3/+cwDXr1b7ne98x9m5iIjIzSgu\n",
              "jPLychw6dAharRYAEBYWhn/+859OD0ZERO5FcWFoNBpMmzbNZt2N71oQEdHkpbgw/Pz80NXVBUmS\n",
              "AFz/5vdYlwUhIqLJxaGr1T7++OP4+OOPERwcDK1Wi8bGRjWyERGRG1FcGOHh4Xjvvffwj3/8A0II\n",
              "REVF8XsQRERTgOLCMBgMAICvfe1rAHDLq9USEdHkobgw4uPjIUkShBAYHh7G5cuXMXPmTAwMDKiR\n",
              "j4iI3ITiwvj8R2jr6upw7NgxpwUiIiL3pPhTUp+XkZGBN954wxlZiIjIjSk+w7j5yrQWiwXvvffe\n",
              "mFerJSKiyUVxYfj4+FjnMDw9PREREYHf/e53amQjIiI3ourVaomIaPK47TkMIiKaGhSfYXh4eFgv\n",
              "C3IzIQQkSeL9tYmIJinFhbFt2zZcuXLFet/t0tJSTJs2DT/+8Y+dnY2IiNyI4sLYs2cPjhw5Yn38\n",
              "7LPPIj4+Hps3b3ZqMCIici+K5zAuXbpk863ugYEBXLp0yamhiIjI/SgujCeffBIxMTFYu3Yt1q5d\n",
              "i/nz5+OnP/3pmGO7u7uRnJyMyMhIJCQkoLOzc9ztCiHwwAMPwMfHR2kkIiKaAIoLIz8/H2+++SZi\n",
              "Y2MRGxuL5uZm5Obmjjs2Ly8PXV1dKCgoQHZ29rjb/e1vf4uwsDClcYiIaII49LHamTNn4p577sEP\n",
              "f/hDREVF4erVq3ZjBgYG0NHRgaysLABAZmYmjEYjenp67MZ2dnbi9ddfx1NPPeVIHCIimgCKC6Om\n",
              "pgZJSUn43ve+B+D6P/YrVqywG2c0GqHT6ay3b5UkCXq93np59BuuXbuG3NxclJWVybqvhtlshslk\n",
              "sln4UV4iIvUpLozi4mK8//771rmGmJgYnDlzxuEAW7duRUZGBubOnSv7+b29vW2W9vZ2h5+fiIjk\n",
              "UVwYnp6emDlzps26r371q3bjgoOD0d/fj5GREQDXJ7UNBoPdjZYOHDiAkpIShISEYPHixTCZTAgJ\n",
              "CbG7jPoNhYWFGBoaslkSExOVvgwiIlJI8fcwpk+fjgsXLli/7f3WW29hxowZduP8/f0RFxeH6upq\n",
              "ZGdno7a2FkFBQQgPD7cZ19raav25r68PsbGx6OvrG/f5NRoNNBqNzTreIpaISH2KC+O5557DQw89\n",
              "hNOnT2Px4sXo7e0d934YZWVlyM7ORlFREbRaLSorKwEAOTk5SEtLQ1pa2u2lJyKiCaOoMEZHR2Gx\n",
              "WNDS0oJ3330XQggkJyeP+92JqKgotLW12a2vqKgYc3xISAguXryoJBIREU0QRYXh4eGBvLw8HDt2\n",
              "DA899JBamYiIyA0pnvSOiIgY87sUREQ0uSmewxgcHERsbCySk5Px9a9/3bq+rq7OqcGIiMi9yC6M\n",
              "vLw8lJeXY/Xq1UhLS4Ovr6+auYiIyM3ILoyOjg4AwOrVqxEXF4f3339ftVBEROR+HLqWlBDC2TmI\n",
              "iMjNyT7DuHLlCo4fPw4hBIaHh60/3xAdHa1KQCIicg+KCuPmL9rd/LMkSTh9+rRzkxERkVuRXRi3\n",
              "ulwHERFNfg7NYRAR0dTDwiAiIllYGEREJAsLg4iIZGFhEBGRLCwMIiKShYVBRESysDCIiEgWVQuj\n",
              "u7sbycnJiIyMREJCAjo7O+3GvP3220hMTMS8efNw1113YdOmTRgdHVUzFhEROUDVwsjPz0deXh66\n",
              "urpQUFCA7OxsuzG+vr549dVXcfLkSRw5cgTvvvsuqqqq1IxFREQOUK0wBgYG0NHRgaysLABAZmYm\n",
              "jEaj3d365s+fj9DQUADAHXfcgdjYWF6GhIjIDSm+455cRqMROp0OXl7Xn0KSJOj1ehgMBoSHh4/5\n",
              "N+fPn0dNTQ0aGxvH3a7ZbIbZbLZZZ7FYnBeciIjG5DaT3iaTCcuXL8emTZuwYMGCcccVFxfD29vb\n",
              "Zmlvb5/ApEREU5NqhREcHIz+/n6MjIwAuH7TJYPBAL1ebzf20qVLWLZsGdLT07Fx48ZbbrewsBBD\n",
              "Q0M2S2JioiqvgYiI/ke1wvD390dcXByqq6sBALW1tQgKCrJ7O+rf//43li1bhmXLluFnP/vZF25X\n",
              "o9FAq9XaLJ6enqq8BiIi+h9V35IqKytDWVkZIiMjsX37dlRWVgIAcnJy0NDQAADYuXMn2tvbUVdX\n",
              "h9jYWMTGxuKXv/ylmrGIiMgBqk16A0BUVBTa2trs1ldUVFh/3rx5MzZv3qxmDCIicgK3mfQmIiL3\n",
              "xsIgIiJZWBhERCQLC4OIiGRhYRARkSwsDCIikoWFQUREsrAwiIhIFhYGERHJwsIgIiJZWBhERCQL\n",
              "C4OIiGRhYRARkSwsDCIikoWFQUREsrAwiIhIFhYGERHJomphdHd3Izk5GZGRkUhISEBnZ+eY43bv\n",
              "3o2IiAiEhYUhNzcX165dUzMWERE5QNXCyM/PR15eHrq6ulBQUIDs7Gy7Mb29vdiyZQtaW1vR09OD\n",
              "CxcuoLy8XM1YRETkANUKY2BgAB0dHcjKygIAZGZmwmg0oqenx2ZcTU0N0tLSEBAQAEmSsG7dOrzy\n",
              "yitqxSIiIgd5qbVho9EInU4HL6/rTyFJEvR6PQwGA8LDw63jDAYDZs+ebX0cEhICg8Ew7nbNZjPM\n",
              "ZrPNOovF4uT0RET0eaoVhlqKi4uxdetWm3Vz5szBxo0bFW/LYrFA196OxMREeHp6OpRn48a3HPq7\n",
              "W7FYLGi/zVxqcddszKWcu2abqrkybuNvLRYLFi581uFss2fPxo9+9KMvHCcJIYQjAb/IwMAAwsPD\n",
              "MTg4CC8vLwghoNPpcPDgQZszjF/96lc4deoUSktLAQBNTU0oKirCwYMHx9zuWGcYGo0GGo1GcUaT\n",
              "yQRvb28MDQ1Bq9Uq/nu1uGsuwH2zMZdy7pqNuZSbqGyqzWH4+/sjLi4O1dXVAIDa2loEBQXZlAVw\n",
              "fW6joaEB58+fhxACpaWleOyxx8bdrkajgVartVkcKQsiIlJG1U9JlZWVoaysDJGRkdi+fTsqKysB\n",
              "ADk5OWhoaAAAhIaGYuvWrVi0aBHCw8Ph5+eH/Px8NWMREZEDVJ3DiIqKQltbm936iooKm8e5ubnI\n",
              "zc1VMwoREd2mKf1Nb41Gg2eeecbt3tJy11yA+2ZjLuXcNRtzKTdR2VSb9CYiosllSp9hEBGRfCwM\n",
              "IiKShYVBRESyTInCcNer5srJ9be//Q3Tpk1DbGysdbly5YqquTZs2ICQkBBIkoQPPvhg3HETvb/k\n",
              "5HLF/hoeHsaKFSsQGRmJmJgYpKam2l0z7YbGxkbMmTMHERERyMjIgMlkcotsfX198PT0tNlvp06d\n",
              "UjXb0qVLER0djdjYWHzzm9/E0aNHxxw30ceZnFyuOM5uqKyshCRJeP3118f8varHmJgCUlJSRGVl\n",
              "pRBCiD//+c9iwYIFdmNOnz4tdDqd6O/vF6Ojo2L58uXi97//vctztbS0iJiYGFVzfN6BAweE0WgU\n",
              "s2fPFkePHh1zjCv2l5xcrthfV65cEW+88YYYHR0VQghRUlIi7rvvPrtxly5dEv7+/uKjjz4SQgix\n",
              "fv168ZOf/MQtsvX29gpvb29Vs3zeZ599Zv25rq5OREdH241xxXEmJ5crjjMhrv/vtHDhQpGUlCT2\n",
              "7Nlj93u1j7FJf4bhrlfNlZvLFe69914EBQXdcowrrjIsJ5cr3HHHHXj44YchSRIAICkpCX19fXbj\n",
              "9u7di/nz52POnDkAgCeeeEL1fSY3myv4+PhYfx4aGrJmvJkrjjM5uVxhdHQUOTk5KCkpGffjs2of\n",
              "Y5O+MG511dybKb1q7kTlAoBTp04hLi4OCQkJ2LVrl2qZlJjo/aWEq/fXzp07kZ6ebrd+rH3W39+P\n",
              "kZERl2cDgP/85z9ISEhAXFwctm3bNiFXgf7ud7+L4OBgbNmyBS+//LLd7111nH1RLmDij7Pf/OY3\n",
              "WLRoEeLj48cdo/Yx9qW7Wu1UExcXh7Nnz8Lb2xtnz57Fww8/jFmzZuHRRx91dTS35Or9VVRUhJ6e\n",
              "Hrz1lvOvYny7bpVNp9Ph3Llz8Pf3x+DgIL797W9jx44d2LRpk6qZqqqqAAAvvfQSCgoK0NTUpOrz\n",
              "yfVFuSb6ODtx4gRqa2vx97//XZXtyzXpzzCCg4NtGlYIAYPBAL1ebzNOr9fjzJkz1sd9fX12Y1yR\n",
              "S6vVwtvbGwAQFBSExx9/HK2trarlkmui95dcrtxfv/71r1FXV4e9e/fizjvvtPv9WPvs5rNMV2bT\n",
              "aDTw9/cHAMyYMQNr1qyZ0ONs9erVaGlpwaeffmqz3tXH2Xi5Jvo4a21tRV9fHyIiIhASEoJDhw4h\n",
              "Ly8PL7zwgs041Y8xp82GuLH77rvPZnI5Pj7ebsypU6fsJtdKSkpcnuuTTz4RFotFCCGEyWQSycnJ\n",
              "Yvfu3armuuFWk8uu2F9ycrlqf+3YsUPExcWJwcHBcceYTCbh5+dnMyH55JNPukW2CxcuiKtXrwoh\n",
              "hBgeHhYrV64UW7ZsUS3TZ599Js6dO2d9vGfPHhEYGGidnL9hoo8zublc+d+lENf/7Rhr0lvtY2xK\n",
              "FMbHH38skpKSREREhIiPjxcffvihEEKItWvXivr6euu48vJyERoaKkJDQ8WaNWus/wG5MldJSYmY\n",
              "N2+eiI6OFvPmzRPPPPOM3cHrbHl5eSIwMFB4enoKf39/ERYWZpdLiInfX3JyuWJ/GY1GAUCEhoaK\n",
              "mJgYERMTIxITE4UQQmzZskW88MIL1rH19fUiKipKhIWFifT0dHHx4kW3yFZbWyvuuusu6377wQ9+\n",
              "IIaHh1XL1dfXJxISEsTdd98toqOjxZIlS6z/J8CVx5ncXK44zm52c2FM5DHGa0kREZEsk34Og4iI\n",
              "nIOFQUREsrAwiIhIFhYGERHJwsIgIiJZWBhERCQLC4OIiGRhYRARkSwsDCIikoWFQUREsrAwiIhI\n",
              "lv8HmGywym40w50AAAAASUVORK5CYII=\n",
              "\">\n",
              "        \n",
              "      </div>\n",
              "      <script></script>\n",
              "      <script type=\"text/javascript\">\n",
              "        (() => {\n",
              "          const chartElement = document.getElementById(\"chart-9af1a138-a481-4e20-9f0b-2734e6cb62fe\");\n",
              "          async function getCodeForChartHandler(event) {\n",
              "            const chartCodeResponse =  await google.colab.kernel.invokeFunction(\n",
              "                'getCodeForChart', [\"chart-9af1a138-a481-4e20-9f0b-2734e6cb62fe\"], {});\n",
              "            const responseJson = chartCodeResponse.data['application/json'];\n",
              "            await google.colab.notebook.addCell(responseJson.code, 'code');\n",
              "          }\n",
              "          chartElement.onclick = getCodeForChartHandler;\n",
              "        })();\n",
              "      </script>\n",
              "      <style>\n",
              "        .colab-quickchart-chart-with-code  {\n",
              "            display: block;\n",
              "            float: left;\n",
              "            border: 1px solid transparent;\n",
              "        }\n",
              "\n",
              "        .colab-quickchart-chart-with-code:hover {\n",
              "            cursor: pointer;\n",
              "            border: 1px solid #aaa;\n",
              "        }\n",
              "      </style>"
            ]
          },
          "metadata": {}
        },
        {
          "output_type": "display_data",
          "data": {
            "text/plain": [
              "import numpy as np\n",
              "from google.colab import autoviz\n",
              "\n",
              "def histogram(df, colname, num_bins=20, figscale=1):\n",
              "  from matplotlib import pyplot as plt\n",
              "  df[colname].plot(kind='hist', bins=num_bins, title=colname, figsize=(8*figscale, 4*figscale))\n",
              "  plt.gca().spines[['top', 'right',]].set_visible(False)\n",
              "  plt.tight_layout()\n",
              "  return autoviz.MplChart.from_current_mpl_state()\n",
              "\n",
              "chart = histogram(_df_3, *['x'], **{})\n",
              "chart"
            ],
            "text/html": [
              "      <div class=\"colab-quickchart-chart-with-code\" id=\"chart-dcc377b8-8827-4ad8-970c-183d1d561318\">\n",
              "        <img src=\"data:image/png;base64,iVBORw0KGgoAAAANSUhEUgAAAYwAAADECAYAAACMRRb/AAAAOXRFWHRTb2Z0d2FyZQBNYXRwbG90\n",
              "bGliIHZlcnNpb24zLjcuMSwgaHR0cHM6Ly9tYXRwbG90bGliLm9yZy/bCgiHAAAACXBIWXMAAA9h\n",
              "AAAPYQGoP6dpAAAX60lEQVR4nO3df1CT9+EH8HeELrVrA/6AIwcEDgJRq4BQOBptu9Zzs/3W4MB1\n",
              "7Q4HRX443VzPblJKvY6uA3ubbR27Figem8et7Q6wcqjb2kotViyi1il0AxRMtAg7qaArRAmf7x/M\n",
              "zDRgnyfykAjv191zRx4+PHmHfsrb5Ek+j0oIIUBERPQNZrg7ABER3R5YGEREJAkLg4iIJGFhEBGR\n",
              "JCwMIiKShIVBRESSsDCIiEgSFgYREUnCwiAiIklYGEREJAkLg4iIJGFhEBGRJCwMIgX09PQgMDAQ\n",
              "27dvt+975ZVXEBISgosXL7oxGZHrVFytlkgZhw4dwvLly/H+++/DarXi8ccfx0cffYT4+Hh3RyNy\n",
              "ibe7AxBNVUajEVu3bsUPfvADDA8P49VXX2VZ0G2NzzCIFHTlyhXodDrcfffdOHPmDLy9+W80un3x\n",
              "HAaRgjIyMhAbGwsfHx8899xz7o5DdEv4zx0ihbz22ms4fPgwjh07hr6+PsTHx8NoNCI5Odnd0Yhc\n",
              "wpekiBRw8OBBrFixAvv370dCQgIAoLq6GhkZGThy5AgiIyPdnJBIPhYGERFJwnMYREQkCQuDiIgk\n",
              "YWEQEZEkLAwiIpKEhUFERJKwMIiISBIWBhERSTIlCuPGJaSJiEgZU6Iwzp496+4IRERT3pQoDCIi\n",
              "Up6ihbFx40aEhoZCpVLhs88+G3fcjh07EBERgfDwcGRlZeHatWtKxiIiIhcoWhirV6/GwYMHERIS\n",
              "Mu6Yzs5ObNmyBQ0NDejo6EBPTw/KysqUjEVERC5QtDAefPBBBAUF3XRMVVUVTCYTAgICoFKpsG7d\n",
              "Orz99ttKxiIiIhe4/XoYZrPZ4RlIaGgozGbzuOOtViusVqvDPpvNplg+IiIa5fbCkKuoqAgFBQUO\n",
              "+xITE10+Xuhze24pT9fW/7ulnyciAm6Pv0Vuf5eUTqdzeFtsV1cXdDrduOPz8vLQ39/vsF2/QA0R\n",
              "ESnH7YWRkpKC2tpaXLhwAUIIlJSU4Mknnxx3vFqthkajcdi8vLwmMTER0fSkaGHk5OQgKCgI586d\n",
              "w/e+9z3o9XoAQGZmJmprawEAYWFhKCgowJIlS6DX6+Hn54ecnBwlYxERkQsUPYdRWlo65v7y8nKH\n",
              "21lZWcjKylIyChER3SK3vyRFRES3BxYGERFJwsIgIiJJWBhERCQJC4OIiCRhYRARkSQsDCIikoSF\n",
              "QUREkrAwiIhIEhYGERFJwsIgIiJJWBhERCQJC4OIiCRhYRARkSQsDCIikoSFQUREkrAwiIhIEkUL\n",
              "o729HUajEZGRkYiPj0dLS4vTmJGREWzatAkLFixAVFQUHn74YXR0dCgZi4iIXKD4Nb2zs7PR1taG\n",
              "3NxcpKenO42pra3FJ598ghMnTuAf//gHli1bhueff17JWERE5ALFCqO3txfNzc1ITU0FAKSkpMBi\n",
              "sTg9e1CpVLBarRgaGoIQAgMDAwgKClIqFhERuchbqQNbLBZotVp4e4/ehUqlgk6ng9lshl6vt49b\n",
              "uXIl6uvrERAQgHvuuQeBgYE4cODAuMe1Wq2wWq0O+2w2mzIPgoiI7Nx+0ru5uRmnTp3C+fPn8cUX\n",
              "X2DZsmVYt27duOOLiorg4+PjsDU1NU1iYiKi6UmxwggODkZ3dzeGh4cBAEIImM1m6HQ6h3E7d+7E\n",
              "I488Al9fX8yYMQNpaWmor68f97h5eXno7+932BISEpR6GERE9F+KFYa/vz9iY2NRWVkJAKiurkZQ\n",
              "UJDDy1EAEBYWhv379+Pq1asAgLq6OixcuHDc46rVamg0GofNy8tLqYdBRET/pdg5DAAoLS1Feno6\n",
              "CgsLodFoUFFRAQDIzMyEyWSCyWTChg0b8PnnnyM6Ohp33HEHAgICUFJSomQsIiJygaKFYTAY0NjY\n",
              "6LS/vLzc/rVarcZbb72lZAwiIpoAbj/pTUREtwcWBhERScLCICIiSVgYREQkCQuDiIgkkV0Yf/vb\n",
              "35TIQUREHk52Ybz00kswGAzYvn07BgYGlMhEREQeSHZhfPLJJ3jnnXdw6tQpREZGYv369WhtbVUi\n",
              "GxEReRCXzmEsXrwYb731Fv7617+irq4OUVFRWL58OU6ePDnR+YiIyEO4VBgffPABkpKSkJycjA0b\n",
              "NuDChQvIycnB97///YnOR0REHkL20iDz58/H3LlzsXHjRiQnJ9sX/lu9ejV27Ngx4QGJiMgzyC6M\n",
              "yspKxMXFjfm9ffv23XIgIiLyTLJfkjp69Cj6+vrsty9evMjFA4mIpgHZhfHGG29g9uzZ9ttz5szB\n",
              "G2+8MaGhiIjI88guDCGE0z5eU5uIaOqTXRharRZ/+ctf7LffffddaLXaCQ1FRESeR/ZJ79dffx1J\n",
              "SUnYvHkzAOCuu+7C7t27JzwYERF5FtnPMObNm4fW1lbs3bsXe/fuxcmTJxERETHm2Pb2dhiNRkRG\n",
              "RiI+Ph4tLS1jjjt58iS+853vYP78+Zg/fz5qamrkxiIiIoW5dIlWlUoFX19fDA8P4/z58wAAnU7n\n",
              "NC4nJwfZ2dlIT09HVVUV0tPTceTIEYcxX331FZKSkrBz504sXboUNpvN4V1YRETkGWQ/w/jjH/8I\n",
              "X19fLFq0CHFxcYiLi8N9993nNK63txfNzc1ITU0FAKSkpMBisaCjo8Nh3J///GckJiZi6dKlAAAv\n",
              "Ly/4+fm58liIiEhBsp9h/PrXv8aRI0dgMBhuOs5isUCr1cLbe/QuVCoVdDodzGYz9Hq9fVxrayvU\n",
              "ajUef/xxnDt3DlFRUdi2bdu4pWG1WmG1Wh328V1aRETKk/0MY+7cud9YFnIMDw/jgw8+QGlpKY4f\n",
              "P47AwED85Cc/GXd8UVERfHx8HLampqYJy0NERGOTXRirVq3C66+/jt7eXgwMDNi3rwsODkZ3dzeG\n",
              "h4cBjH5+w2w2O53r0Ol0ePjhhxEYGAiVSoXU1FQcPnx43PvPy8tDf3+/w5aQkCD3YRARkUyyCyM/\n",
              "Px+bNm1CQEAAZs2aBV9fX8yaNctpnL+/P2JjY1FZWQkAqK6uRlBQkMPLUQDwxBNP4MiRI/bS2bt3\n",
              "L6Kjo8e9f7VaDY1G47BdXwCRiIiUI/scxsjIiOSxpaWlSE9PR2FhITQaDSoqKgAAmZmZMJlMMJlM\n",
              "0Ol0eP7552E0GjFjxgwEBgairKxMbiwiIlKYS2+rPXr0KFpbW7FmzRpcunQJg4ODY37a22AwoLGx\n",
              "0Wl/eXm5w+01a9ZgzZo1rkQhIqJJ4tLigxkZGfjVr34FYHS12h/96EcTnYuIiDyM7MIoKyvD4cOH\n",
              "odFoAADh4eH497//PeHBiIjIs8guDLVajZkzZzrsu/5ZCyIimrpkF4afnx/a2tqgUqkAjH7ye6xl\n",
              "QYiIaGpxabXap556Cv/85z8RHBwMjUaDuro6JbIREZEHkV0Yer0en376Kf71r39BCAGDwcDPQRAR\n",
              "TQOyC8NsNgMAvv3tbwPATVerJSKiqUN2YcTFxUGlUkEIgaGhIXz11VeYM2cOent7lchHREQeQnZh\n",
              "fP0ttDU1NThx4sSEBSIiIs8k+11SX5ecnIw9e/ZMRBYiIvJgsp9h3Lgyrc1mw6effjrmarVERDS1\n",
              "yC4MX19f+zkMLy8vRERE4Pe//70S2YiIyIMoulotERFNHbd8DoOIiKYH2c8wZsyYYV8W5EZCCKhU\n",
              "Kl5fm4hoipJdGC+99BIGBwft190uKSnBzJkz8cwzz0x0NiIi8iCyC2PXrl04evSo/fbLL7+MuLg4\n",
              "5OfnT2gwIiLyLLLPYVy+fNnhU929vb24fPnyhIYiIiLPI7swnn32WURHR2Pt2rVYu3YtFi9ejF/+\n",
              "8pdjjm1vb4fRaERkZCTi4+PR0tIy7nGFEHjkkUfg6+srNxIREU0C2YWRk5OD999/HzExMYiJicHf\n",
              "//53ZGVljTs2OzsbbW1tyM3NRXp6+rjHfe211xAeHi43DhERTRKX3lY7Z84cLFq0CD/72c9gMBhw\n",
              "9epVpzG9vb1obm5GamoqACAlJQUWiwUdHR1OY1taWvDee+/hueeecyUOERFNAtmFUVVVhcTERDz9\n",
              "9NMARv/Yr1q1ymmcxWKBVqu1X75VpVJBp9PZl0e/7tq1a8jKykJpaamk62pYrVYMDAw4bHwrLxGR\n",
              "8mQXRlFREY4dO2Y/1xAdHY2zZ8+6HKCgoADJycmYP3++5Pv38fFx2Jqamly+fyIikkZ2YXh5eWHO\n",
              "nDkO+771rW85jQsODkZ3dzeGh4cBjJ7UNpvNThdaOnDgAIqLixEaGoqlS5diYGAAoaGhTsuoX5eX\n",
              "l4f+/n6HLSEhQe7DICIimWR/DuOee+5BT0+P/dPeH374IWbPnu00zt/fH7GxsaisrER6ejqqq6sR\n",
              "FBQEvV7vMK6hocH+dVdXF2JiYtDV1TXu/avVaqjVaod9vEQsEZHyZBfGK6+8gkcffRRnzpzB0qVL\n",
              "0dnZOe71MEpLS5Geno7CwkJoNBpUVFQAADIzM2EymWAymW4tPRERTRpZhTEyMgKbzYb6+nocOnQI\n",
              "QggYjcZxPzthMBjQ2NjotL+8vHzM8aGhobh06ZKcSERENElkFcaMGTOQnZ2NEydO4NFHH1UqExER\n",
              "eSDZJ70jIiLG/CwFERFNbbLPYfT19SEmJgZGoxF33323fX9NTc2EBiMiIs8iuTCys7NRVlaGtLQ0\n",
              "mEwmzJo1S8lcRETkYSQXRnNzMwAgLS0NsbGxOHbsmGKhiIjI87i0lpQQYqJzEBGRh5P8DGNwcBAn\n",
              "T56EEAJDQ0P2r6+LiopSJCAREXkGWYVx4wftbvxapVLhzJkzE5uMiIg8iuTCuNlyHURENPW5dA6D\n",
              "iIimHxYGERFJwsIgIiJJWBhERCQJC4OIiCRhYRARkSQsDCIikoSFQUREkihaGO3t7TAajYiMjER8\n",
              "fDxaWlqcxuzfvx8JCQlYsGAB7r33XmzevBkjIyNKxiIiIhcoWhg5OTnIzs5GW1sbcnNzkZ6e7jRm\n",
              "1qxZeOedd9Da2oqjR4/i0KFD2Llzp5KxiIjIBYoVRm9vL5qbm5GamgoASElJgcVicbpa3+LFixEW\n",
              "FgYAuPPOOxETE8NlSIiIPJDsK+5JZbFYoNVq4e09ehcqlQo6nQ5msxl6vX7Mn7lw4QKqqqpQV1c3\n",
              "7nGtViusVqvDPpvNNnHBiYhoTB5z0ntgYAArV67E5s2bcd999407rqioCD4+Pg5bU1PTJCYlIpqe\n",
              "FCuM4OBgdHd3Y3h4GMDoRZfMZjN0Op3T2MuXL2PFihVISkrCpk2bbnrcvLw89Pf3O2wJCQmKPAYi\n",
              "IvofxQrD398fsbGxqKysBABUV1cjKCjI6eWoK1euYMWKFVixYgVeeOGFbzyuWq2GRqNx2Ly8vBR5\n",
              "DERE9D+KviRVWlqK0tJSREZGYuvWraioqAAAZGZmora2FgCwfft2NDU1oaamBjExMYiJicFvfvMb\n",
              "JWMREZELFDvpDQAGgwGNjY1O+8vLy+1f5+fnIz8/X8kYREQ0ATzmpDcREXk2FgYREUnCwiAiIklY\n",
              "GEREJAkLg4iIJGFhEBGRJCwMIiKShIVBRESSsDCIiEgSFgYREUnCwiAiIklYGEREJAkLg4iIJGFh\n",
              "EBGRJCwMIiKShIVBRESSsDCIiEgSRQujvb0dRqMRkZGRiI+PR0tLy5jjduzYgYiICISHhyMrKwvX\n",
              "rl1TMhYREblA0cLIyclBdnY22trakJubi/T0dKcxnZ2d2LJlCxoaGtDR0YGenh6UlZUpGYuIiFyg\n",
              "WGH09vaiubkZqampAICUlBRYLBZ0dHQ4jKuqqoLJZEJAQABUKhXWrVuHt99+W6lYRETkIm+lDmyx\n",
              "WKDVauHtPXoXKpUKOp0OZrMZer3ePs5sNiMkJMR+OzQ0FGazedzjWq1WWK1Wh302m22C0xMR0dcp\n",
              "VhhKKSoqQkFBgcO+efPmYdOmTbKPZbPZoG1qQkJCAry8vFzKs2nThy793M3YbDY03WIupXhqNuaS\n",
              "z1OzTddcybfwszabDfff/7LL2UJCQvDzn//8G8ephBDClYDfpLe3F3q9Hn19ffD29oYQAlqtFgcP\n",
              "HnR4hvHb3/4Wp0+fRklJCQBg7969KCwsxMGDB8c87ljPMNRqNdRqteyMAwMD8PHxQX9/PzQajeyf\n",
              "V4qn5gI8Nxtzyeep2ZhLvsnKptg5DH9/f8TGxqKyshIAUF1djaCgIIeyAEbPbdTW1uLChQsQQqCk\n",
              "pARPPvnkuMdVq9XQaDQOmytlQURE8ij6LqnS0lKUlpYiMjISW7duRUVFBQAgMzMTtbW1AICwsDAU\n",
              "FBRgyZIl0Ov18PPzQ05OjpKxiIjIBYqewzAYDGhsbHTaX15e7nA7KysLWVlZSkYhIqJbNK0/6a1W\n",
              "q/Hiiy963EtanpoL8NxszCWfp2ZjLvkmK5tiJ72JiGhqmdbPMIiISDoWBhERScLCICIiSaZFYWzc\n",
              "uBGhoaFQqVT47LPPxh032avmSsn10UcfYebMmYiJibFvg4ODiuYaGhrCqlWrEBkZiejoaCxfvtxp\n",
              "DbDr6urqMG/ePERERCA5ORkDAwNuz9XV1QUvLy+H39np06cVywUA3/3udxEVFYWYmBg88MADOH78\n",
              "+Jjj3LEys5Rs7phn11VUVEClUuG9994b8/uTOcek5nLHHANGl04yGAz2+3z33XfHHKfYPBPTwIED\n",
              "B4TFYhEhISHi+PHjY445c+aM0Gq1oru7W4yMjIiVK1eKP/zhD27PVV9fL6KjoxXN8XWDg4Niz549\n",
              "YmRkRAghRHFxsXjooYecxl2+fFn4+/uLzz//XAghxIYNG8QvfvELt+fq7OwUPj4+iuUYy5dffmn/\n",
              "uqamRkRFRTmNcccck5rNHfNMiNH/Vvfff79ITEwUu3btcvr+ZM8xqbncMceEEDf9W3GdkvNsWjzD\n",
              "ePDBBxEUFHTTMe5YNVdKLne488478dhjj0GlUgEAEhMT0dXV5TRu3759WLx4MebNmwcAWL9+vaK/\n",
              "M6m53MHX19f+dX9/vz3jjdy1MrOUbO4wMjKCzMxMFBcXj/t20MmeY1JzeTIl59ltt/igUuSumjuZ\n",
              "Tp8+jdjYWHh5eeHpp5/G+vXrJ/X+t2/fjqSkJKf9Y/3Ouru7MTw8bF+l2B25AOA///kP4uPjYbPZ\n",
              "sGrVKuTn5yu+kN2Pf/xj1NfXAxhdE+3r3DnHvikbMPnz7NVXX8WSJUsQFxc37hh3zDEpuQD3zDFg\n",
              "9L+lEAIJCQnYunUr/Pz8HL6v5DxjYXi42NhYnDt3Dj4+Pjh37hwee+wxzJ07F0888cSk3H9hYSE6\n",
              "Ojrw4YcTvyrvrbhZLq1Wi/Pnz8Pf3x99fX344Q9/iG3btmHz5s2KZtq5cycA4E9/+hNyc3PH/cPs\n",
              "Dt+UbbLn2alTp1BdXY2PP/5YkeO7Smoud82xjz/+GDqdDteuXcMLL7yAtLS0SZ1n0+IlKSl0Oh3O\n",
              "nj1rv93V1QWdTufGRKM0Gg18fHwAAEFBQXjqqafQ0NAwKff9u9/9DjU1Ndi3bx/uuusup++P9Tu7\n",
              "8Roo7sqlVqvh7+8PAJg9ezYyMjIm7XcGAGlpaaivr8fFixcd9nvCHBsv22TPs4aGBnR1dSEiIgKh\n",
              "oaE4fPgwsrOz8eabbzqMm+w5JjWXu+bY9flyxx134JlnnhnzPhWdZxNyJuQ2cbMTRqdPn3Y6UVRc\n",
              "XOz2XF988YWw2WxCCCEGBgaE0WgUO3bsUDzTtm3bRGxsrOjr6xt3zMDAgPDz83M4Ifnss8+6PVdP\n",
              "T4+4evWqEEKIoaEhsXr1arFlyxbFMn355Zfi/Pnz9tu7du0SgYGB9pPz17ljjknN5q55dt1DDz00\n",
              "5slld8wxKbkme44JIcSVK1cc3sCwbds28cADDziNU3KeTYvCyM7OFoGBgcLLy0v4+/uL8PBwIYQQ\n",
              "a9euFbt377aPKysrE2FhYSIsLExkZGTYJ4Q7cxUXF4sFCxaIqKgosWDBAvHiiy86/c8+0SwWiwAg\n",
              "wsLCRHR0tIiOjhYJCQlCCCG2bNki3nzzTfvY3bt3C4PBIMLDw0VSUpK4dOmS23NVV1eLe++91/47\n",
              "++lPfyqGhoYUy9XV1SXi4+PFwoULRVRUlFi2bJn9HwDunmNSs7ljnt3oxj/M7pxjUnNN9hwTYrQI\n",
              "YmJixKJFi8TChQuFyWQSnZ2dQojJm2dcS4qIiCThOQwiIpKEhUFERJKwMIiISBIWBhERScLCICIi\n",
              "SVgYREQkCQuDiIgkYWEQEZEkLAwiIpKEhUFERJKwMIiISJL/B8X8nef2nZgDAAAAAElFTkSuQmCC\n",
              "\">\n",
              "        \n",
              "      </div>\n",
              "      <script></script>\n",
              "      <script type=\"text/javascript\">\n",
              "        (() => {\n",
              "          const chartElement = document.getElementById(\"chart-dcc377b8-8827-4ad8-970c-183d1d561318\");\n",
              "          async function getCodeForChartHandler(event) {\n",
              "            const chartCodeResponse =  await google.colab.kernel.invokeFunction(\n",
              "                'getCodeForChart', [\"chart-dcc377b8-8827-4ad8-970c-183d1d561318\"], {});\n",
              "            const responseJson = chartCodeResponse.data['application/json'];\n",
              "            await google.colab.notebook.addCell(responseJson.code, 'code');\n",
              "          }\n",
              "          chartElement.onclick = getCodeForChartHandler;\n",
              "        })();\n",
              "      </script>\n",
              "      <style>\n",
              "        .colab-quickchart-chart-with-code  {\n",
              "            display: block;\n",
              "            float: left;\n",
              "            border: 1px solid transparent;\n",
              "        }\n",
              "\n",
              "        .colab-quickchart-chart-with-code:hover {\n",
              "            cursor: pointer;\n",
              "            border: 1px solid #aaa;\n",
              "        }\n",
              "      </style>"
            ]
          },
          "metadata": {}
        },
        {
          "output_type": "display_data",
          "data": {
            "text/plain": [
              "<google.colab._quickchart_helpers.SectionTitle at 0x7b65c0af4df0>"
            ],
            "text/html": [
              "<h4 class=\"colab-quickchart-section-title\">2-d distributions</h4>\n",
              "<style>\n",
              "  .colab-quickchart-section-title {\n",
              "      clear: both;\n",
              "  }\n",
              "</style>"
            ]
          },
          "metadata": {}
        },
        {
          "output_type": "display_data",
          "data": {
            "text/plain": [
              "import numpy as np\n",
              "from google.colab import autoviz\n",
              "\n",
              "def scatter_plots(df, colname_pairs, figscale=1, alpha=.8):\n",
              "  from matplotlib import pyplot as plt\n",
              "  plt.figure(figsize=(len(colname_pairs) * 6 * figscale, 6 * figscale))\n",
              "  for plot_i, (x_colname, y_colname) in enumerate(colname_pairs, start=1):\n",
              "    ax = plt.subplot(1, len(colname_pairs), plot_i)\n",
              "    df.plot(kind='scatter', x=x_colname, y=y_colname, s=(32 * figscale), alpha=alpha, ax=ax)\n",
              "    ax.spines[['top', 'right',]].set_visible(False)\n",
              "  plt.tight_layout()\n",
              "  return autoviz.MplChart.from_current_mpl_state()\n",
              "\n",
              "chart = scatter_plots(_df_4, *[[['w', 'x']]], **{})\n",
              "chart"
            ],
            "text/html": [
              "      <div class=\"colab-quickchart-chart-with-code\" id=\"chart-dfcce4f7-82a1-4ea4-a9b1-c2e94fd09445\">\n",
              "        <img src=\"data:image/png;base64,iVBORw0KGgoAAAANSUhEUgAAASgAAAEoCAYAAADrB2wZAAAAOXRFWHRTb2Z0d2FyZQBNYXRwbG90\n",
              "bGliIHZlcnNpb24zLjcuMSwgaHR0cHM6Ly9tYXRwbG90bGliLm9yZy/bCgiHAAAACXBIWXMAAA9h\n",
              "AAAPYQGoP6dpAAAW0ElEQVR4nO3df0xV9/3H8dct2oumgvXX0Fi4RVH/qPLDiSiz1Vbr6hIkWjeX\n",
              "Nf6oCOqWzmA2S6w2tpssqb2JcZnM1jhdG6ITSgxKMt20XtMpXdQ612wTyvVKRZ1dvaiVW7me7x9N\n",
              "ye4XrtV5D+dz8flITtJ774fD+/yx5869XvJxWZZlCQAM9JDTAwBANAQKgLEIFABjESgAxiJQAIxF\n",
              "oAAYi0ABMBaBAmAsAgXAWD0iUJs2bXJ6BAA26BGBOnfunNMjALBBjwgUgJ6JQAEwFoECYCwCBcBY\n",
              "BAqAsWwNlMfj0ejRo5WVlaWsrCzt2rWry3Xbtm1TRkaGRowYoaVLl+rWrVt2jgUgTvSy+xfs2rVL\n",
              "WVlZUV9vamrS2rVrdeLECX3rW9/S7NmztXXrVv34xz+2ezQAMfBBwxW9czygpivX9figR/TCxFRN\n",
              "HjkoJud2/C3enj17VFBQoJSUFLlcLi1btkyVlZVOjwXgLnzQcEUvV/9N9U2f6Vpbu+qbPtPL1X/T\n",
              "Bw1XYnJ+2wO1YMECjR07VkuWLNG///3vTq8HAgGlpaV1PPZ4PAoEAlHPFwqF1NraGnGEw2FbZgdw\n",
              "Z+8cD+iLL9uVkpSoR/s+rJSkRH3xZbvePR79f8P3wtZAHTlyRKdPn9aJEyc0aNAgLVy48L7PWV5e\n",
              "ruTk5Iijvr4+BtMCuFdNV64rsXeCXC6XJMnlcimxd4I+uXI9Jue3NVCpqamSpN69e2vlypXy+Xxd\n",
              "rvnvP1Xx+/0dP9eVsrIyBYPBiCM3Nzf2wwP4Ro8PekRtt8L6enMoy7LUdius9MGPxOT8tgXqxo0b\n",
              "unr1asfjyspKZWdnd1o3d+5c7d27VxcvXpRlWaqoqND8+fOjntftdispKSniSEhIsOMSAHyDFyam\n",
              "qu/DvXSxtU2ff/GlLra2qe/DvfSjidFvMu6Fbf+Kd+nSJc2dO1fh8Fd1TU9P186dOyVJRUVFKigo\n",
              "UEFBgdLT07V+/Xrl5+dLkqZOnaqSkhK7xgIQQ5NHDtKv5ozVu8cD+uTKdWUO768f5aVq8ojY/Cue\n",
              "qyds3FlaWiqv1+v0GABizPGvGQBANAQKgLEIFABjESgAxiJQAIxFoAAYi0ABMBaBAmAsAgXAWAQK\n",
              "gLEIFABjESgAxiJQAIxFoAAYi0ABMBaBAmAsAgXAWAQKgLEIFABjdUugtm/fLpfLpZqamk6v+f1+\n",
              "JSQkKCsrq+NobGzsjrEAGM62XV2+5vf79dZbbykvLy/qmn79+unUqVN2jwIgzth6B3X79m0VFRVp\n",
              "8+bNcrvddv4qAD2QrXdQXq9X+fn5Gj9+/B3X3bhxQxMmTFA4HFZhYaHWrFkTdTPOUCikUCgU8Vw4\n",
              "HI7ZzADMYdsd1JkzZ1RVVaVXXnnljuuGDh2qTz/9VB9++KEOHjwon8+nN998M+r68vJyJScnRxz1\n",
              "9fWxHh+AAWwLlM/nk9/vV0ZGhjwej44dO6bi4mJt2bIlYp3b7daQIUMkSQMGDNCLL74on88X9bxl\n",
              "ZWUKBoMRR25url2XAcBBtr3FW758uZYvX97xeOrUqVq5cqUKCwsj1l2+fFmPPvqoevfurVAopOrq\n",
              "amVnZ0c9r9vt7vR5VrS3gwDimyPfg1q3bp0qKiokSUePHlV2drYyMzOVk5OjlJQUrVmzxomxABjG\n",
              "ZVmW5fQQ96u0tFRer9fpMQDEGN8kB2AsAgXAWAQKgLEIFABjESgAxiJQAIxFoAAYi0ABMBaBAmAs\n",
              "AgXAWAQKgLEIFABjESgAxiJQAIxFoAAYi0ABMBaBAmAsAgXAWAQKgLG6JVDbt2+Xy+VSTU1Nl6/X\n",
              "1tZqzJgxysjI0Jw5c9Ta2todYwEwnO2B8vv9euutt5SXl9fl69evX9eSJUtUU1Ojs2fPatiwYXr9\n",
              "9dftHgtAHLA1ULdv31ZRUZE2b97caS+7r9XV1Sk7O1tjxoyRJK1YsUKVlZV2jgUgTti2cackeb1e\n",
              "5efna/z48VHXBAIBpaWldTz2eDxqaWlRe3u7evXqPF4oFFIoFIp4LhwOx25oAMaw7Q7qzJkzqqqq\n",
              "0iuvvBLT85aXlys5OTniqK+vj+nvAGAG2wLl8/nk9/uVkZEhj8ejY8eOqbi4WFu2bIlYl5qaqnPn\n",
              "znU89vv9Gjp0aJd3T5JUVlamYDAYceTm5tp1GQAc1G07C0+dOlUrV65UYWFhxPPXrl3TiBEjdOTI\n",
              "EY0ZM0Y/+clPlJiYqI0bN971udlZGOiZbP0MKpp169Zp2LBhWrZsmfr166e3335bhYWFam9v1xNP\n",
              "PKEdO3Y4MRYAw3TbHZSduIMCeia+SQ7AWAQKgLEIFABjESgAxiJQAIxFoAAYi0ABMBaBAmAsAgXA\n",
              "WAQKgLEIFABjESgAxiJQAIxFoAAYi0ABMBaBAmAsAgXAWAQKgLEIFABj2RqoZ599VuPGjVNWVpam\n",
              "TJmikydPdlpz+PBh9enTR1lZWR3HzZs37RwLQJywdVeX3bt3q3///pKk9957T4sWLdJHH33Uad3o\n",
              "0aN16tQpO0cBEIdsvYP6Ok6SFAwG5XK57Px1AHoY2/fFW7BggQ4dOiRJ2r9/f5drGhsblZOTo4SE\n",
              "BC1evFgrVqyIer5QKKRQKBTxXDgcjt3AAMxhdZPf/e531nPPPdfp+WAwaF29etWyLMs6f/68NXbs\n",
              "WGvXrl1Rz/Pqq69akiKOvLw82+YG4Jxu3bizT58+am5u1sCBA6OuKS8v14ULF7R58+YuX+/qDmrt\n",
              "2rXatGlTTGcF4DzbPoO6evWqLly40PG4pqZGAwcO1IABAyLWtbS06Pbt25Kka9euqba2VtnZ2VHP\n",
              "63a7lZSUFHEkJCTYcxEAHGXbZ1DBYFDz5s3TzZs39dBDD2nw4MGqra2Vy+VSUVGRCgoKVFBQoKqq\n",
              "Km3ZskW9evVSe3u75s2bp8WLF9s1FoA40q1v8exSWloqr9fr9BgAYoxvkgMwFoECYCwCBcBYBAqA\n",
              "sQgUAGMRKADGIlAAjEWgABiLQAEwFoECYCwCBcBYBAqAsQgUAGMRKADGIlAAjEWgABiLQAEwFoEC\n",
              "YCzHtz6XpG3btikjI0MjRozQ0qVLdevWLTvHAhAnbA3U7t27dfr0aZ06dUqlpaVatGhRpzVNTU1a\n",
              "u3atfD6fGhoadOnSJW3dutXOsQDEifsO1Jdffhn1tbvZ+nzPnj0qKChQSkqKXC6Xli1bpsrKyvsd\n",
              "C0APcE+BmjVrlv7zn/90PG5sbNTkyZPv+DMLFizQY489prVr1+r3v/99p9cDgYDS0tI6Hns8HgUC\n",
              "gajnC4VCam1tjTjY+hzome4pUE8//bQmTJigv/zlL9q9e7emTZuml19++Y4/s3PnTp0/f16/+MUv\n",
              "tHr16vsaVvpq5+Hk5OSIo76+/r7PC8A897wv3vvvv6+ZM2dq4MCB8vl8Sk9Pv+uf7Wrr8zfeeEON\n",
              "jY2qqKiQJO3fv18bNmzQ0aNHuzwHW58DD457uoPy+/362c9+poULF8rj8eiXv/yl2traulx7t1uf\n",
              "z507V3v37tXFixdlWZYqKio0f/78qDOw9Tnw4Linrc+nTJmijRs36gc/+IHC4bBWr16t3NxcnT59\n",
              "utPau936PD09XevXr1d+fr4kaerUqSopKYnN1QGIa/f0Fu9f//qXRo0aFfHcvn379L3vfS/mg90L\n",
              "tj4HeqZ7eov3/+MkyfE4Aei5+FMXAMYiUACMRaAAGItAATAWgQJgLAIFwFgECoCxCBQAYxEoAMYi\n",
              "UACMRaAAGItAATAWgQJgLAIFwFgECoCxCBQAYxEoAMYiUACMZVug2traVFhYqFGjRikzM1MzZsxQ\n",
              "Q0NDp3V+v18JCQnKysrqOBobG+0aC0AcuaddXe5VcXGxnnvuOblcLv36179WUVGRDh8+3Gldv379\n",
              "dOrUKTtHARCHbLuDSkxM1KxZs+RyuSRJeXl58vv9dv06AD2QrXdQ/23Tpk2aPXt2l6/duHFDEyZM\n",
              "UDgcVmFhodasWRN1M86udhYOh8MxnxeA87rlQ/INGzaooaFB5eXlnV4bOnSoPv30U3344Yc6ePCg\n",
              "fD6f3nzzzajnKi8vV3JycsRRX19v5/gAHGJ7oDZu3Kjq6mrV1dWpb9++nV53u90aMmSIJGnAgAF6\n",
              "8cUX5fP5op6vrKxMwWAw4sjNzbVtfgDOsfUtntfrVWVlpQ4ePKj+/ft3ueby5ct69NFH1bt3b4VC\n",
              "IVVXVys7OzvqOd1ut9xud8Rz0d4OAohvtt1BNTc3a9WqVbp69aqmTZumrKwsTZw4UZK0bt06VVRU\n",
              "SJKOHj2q7OxsZWZmKicnRykpKVqzZo1dYwGIIy7Lsiynh7hfpaWl8nq9To8BIMb4JjkAYxEoAMYi\n",
              "UACMRaAAGItAATAWgQJgLAIFwFgECoCxCBQAYxEoAMYiUACMRaAAGItAATAWgQJgLAIFwFgECoCx\n",
              "CBQAYxEoAMYiUACMZVug2traVFhYqFGjRikzM1MzZsxQQ0NDl2tra2s1ZswYZWRkaM6cOWptbbVr\n",
              "LABxxNY7qOLiYv3zn//URx99pNmzZ6uoqKjTmuvXr2vJkiWqqanR2bNnNWzYML3++ut2jgUgTtgW\n",
              "qMTERM2aNUsul0uSlJeXJ7/f32ldXV2dsrOzNWbMGEnSihUrVFlZaddYAOKIrRt3/rdNmzZp9uzZ\n",
              "nZ4PBAJKS0vreOzxeNTS0qL29nb16tV5vFAopFAoFPFcOByO/cAAHNctH5Jv2LBBDQ0NKi8vv+9z\n",
              "lZeXKzk5OeKor6+PwZQATGN7oDZu3Kjq6mrV1dWpb9++nV5PTU3VuXPnOh77/X4NHTq0y7snSSor\n",
              "K1MwGIw4cnNzbZsfgHNsDZTX61VlZaUOHDig/v37d7nmu9/9rk6cOKF//OMfkqTf/OY3mj9/ftRz\n",
              "ut1uJSUlRRwJCQl2jA/AYbZ9BtXc3KxVq1YpPT1d06ZNk/RVXI4fP65169Zp2LBhWrZsmfr166e3\n",
              "335bhYWFam9v1xNPPKEdO3bYNRaAOOKyLMtyeoj7VVpaKq/X6/QYAGKMb5IDMBaBAmAsAgXAWAQK\n",
              "gLEIFABjESgAxiJQAIxFoAAYi0ABMBaBAmAsAgXAWAQKgLEIFABjESgAxiJQAIxFoAAYi0ABMBaB\n",
              "AmAsAgXAWLYG6qWXXpLH45HL5dKpU6e6XHP48GH16dNHWVlZHcfNmzftHAtAnLB1Z+Hnn39eP//5\n",
              "z/Wd73znjutGjx4dNWAAHly2BurJJ5+08/QAejhbA3W3GhsblZOTo4SEBC1evFgrVqyIujYUCikU\n",
              "CkU8Fw6H7R4RgAMcD1ROTo6am5uVnJys5uZmzZo1S4MGDdL3v//9LteXl5dr/fr1Ec/l5eV1x6gA\n",
              "upnj/4qXlJSk5ORkSdLw4cP1wx/+UD6fL+r6srIyBYPBiCM3N7e7xgXQjRwPVEtLi27fvi1Junbt\n",
              "mmpra5WdnR11vdvtVlJSUsSRkJDQXeMC6Ea2BqqkpETDhw9Xc3OzZs6cqZEjR0qSioqKtHfvXklS\n",
              "VVWVxo4dq8zMTOXl5WnGjBlavHixnWMBiBMuy7Isp4e4X6WlpfJ6vU6PASDGHH+LBwDRECgAxiJQ\n",
              "AIxFoAAYi0ABMBaBAmAsAgXAWAQKgLEIFABjESgAxiJQAIxFoAAYi0ABMBaBAmAsAgXAWAQKgLEI\n",
              "FABjESgAxiJQAIxla6BeeukleTweuVyuO25tvm3bNmVkZGjEiBFaunSpbt26ZedYAOKErYF6/vnn\n",
              "dfToUaWlpUVd09TUpLVr18rn86mhoUGXLl3S1q1bYz7LBw1XtOLdE3pu0xGtePeEPmi4EvPfASC2\n",
              "bA3Uk08+qeHDh99xzZ49e1RQUKCUlBS5XC4tW7ZMlZWVMZ3jg4Yrern6b6pv+kzX2tpV3/SZXq7+\n",
              "G5ECDOf41ueBQCDiDsvj8SgQCERdHwqFFAqFIp4Lh8N3/B3vHA/oiy/blZKUKJfLJcuydLG1Te8e\n",
              "D2jyyEH3dwEAbBN3H5KXl5crOTk54qivr7/jzzRdua7E3glyuVySJJfLpcTeCfrkyvXuGBnA/8jx\n",
              "QKWmpurcuXMdj/1+v1JTU6OuLysrUzAYjDhyc3Pv+DseH/SI2m6F9fUepZZlqe1WWOmDH4nNRQCw\n",
              "heOBmjt3rvbu3auLFy/KsixVVFRo/vz5Ude73W4lJSVFHAkJCXf8HS9MTFXfh3vpYmubPv/iS11s\n",
              "bVPfh3vpRxOjhxCA82wNVElJiYYPH67m5mbNnDlTI0eOlCQVFRVp7969kqT09HStX79e+fn5Gjly\n",
              "pAYPHqySkpKYzjF55CD9as5YTXx8oPol9tLExwfqV3PHavIIPn8CTOayvn7fE8dKS0vl9XqdHgNA\n",
              "jDn+Fg8AoiFQAIxFoAAYi0ABMBaBAmAsAgXAWD3iawZz5syRx+P5xnXhcFj19fXKzc39xi93xpOe\n",
              "eF098ZokrutraWlp+ulPf/qN63pEoO5Wa2urkpOTFQwGlZSU5PQ4MdMTr6snXpPEdd0r3uIBMBaB\n",
              "AmAsAgXAWA9UoNxut1599VW53W6nR4mpnnhdPfGaJK7rXj1QH5IDiC8P1B0UgPhCoAAYi0ABMNYD\n",
              "E6izZ89q8uTJGjVqlCZMmKC///3vTo903+52Y9R409bWpsLCQo0aNUqZmZmaMWOGGhoanB4rJp59\n",
              "9lmNGzdOWVlZmjJlik6ePOn0SDGzfft2uVwu1dTUxO6k1gNi2rRp1vbt2y3Lsqw//OEP1re//W1n\n",
              "B4qB999/3zp//ryVlpZmnTx50ulxYubmzZvWvn37rNu3b1uWZVmbN2+2nnrqKWeHipHPP/+847+r\n",
              "q6utcePGOTdMDDU1NVmTJk2y8vLyrPfeey9m530g7qAuX76sv/71r3rhhRckfbVRw/nz5+P+/5Xv\n",
              "ZmPUeJSYmKhZs2Z1bBOWl5cnv9/v7FAx0r9//47/DgaDHdcYz27fvq2ioiJt3rw55l8zcHzjzu5w\n",
              "/vx5DR06VL16fXW5LpdLqampCgQCHRs5wFybNm3S7NmznR4jZhYsWKBDhw5Jkvbv3+/wNPfP6/Uq\n",
              "Pz9f48ePj/m5H4hAIX5t2LBBDQ0N+tOf/uT0KDGzc+dOSdKOHTu0evXquI7UmTNnVFVVpSNHjthy\n",
              "/gfiLd5jjz2mlpYWtbe3S/pq485AIHDHDULhvI0bN6q6ulp1dXXq27ev0+PE3MKFC3Xo0CF99tln\n",
              "To/yP/P5fPL7/crIyJDH49GxY8dUXFysLVu2xOT8D0SghgwZopycHL3zzjuSpKqqKg0fPpy3dwbz\n",
              "er2qrKzUgQMHIj63iWdXr17VhQsXOh7X1NRo4MCBGjBggINT3Z/ly5erpaVFfr9ffr9feXl52rp1\n",
              "q5YvXx6T8z8wb/F++9vfatGiRdqwYYOSkpK0fft2p0e6byUlJdq3b58uXryomTNnql+/fnH/wb8k\n",
              "NTc3a9WqVUpPT9e0adMkffW3XsePH3d4svsTDAY1b9483bx5Uw899JAGDx6s2traHvFBuV34WzwA\n",
              "xnog3uIBiE8ECoCxCBQAYxEoAMYiUDDG1q1bVVxcLEn6+OOP5XK59Mc//lGS9Nprr+m1115zcjw4\n",
              "gEDBGNOnT9fBgwclSQcOHNCkSZMiHk+fPt3J8eAAAgVjpKenS5I++eQTHTx4UOXl5frzn/+s69ev\n",
              "6+OPP1Zubq7DE6K7ESgYZfr06aqrq9PZs2f11FNPybIsVVVVadKkSR1/7I0HB4GCUaZPn6433nij\n",
              "427p6aef1quvvsrbuwcUgYJRnnnmGQUCgY4gzZgxQ+fOndMzzzzj8GRwAn/qAsBY3EEBMBaBAmAs\n",
              "AgXAWAQKgLEIFABjESgAxiJQAIxFoAAYi0ABMBaBAmAsAgXAWP8Hgpm4QJHdyWEAAAAASUVORK5C\n",
              "YII=\n",
              "\">\n",
              "        \n",
              "      </div>\n",
              "      <script></script>\n",
              "      <script type=\"text/javascript\">\n",
              "        (() => {\n",
              "          const chartElement = document.getElementById(\"chart-dfcce4f7-82a1-4ea4-a9b1-c2e94fd09445\");\n",
              "          async function getCodeForChartHandler(event) {\n",
              "            const chartCodeResponse =  await google.colab.kernel.invokeFunction(\n",
              "                'getCodeForChart', [\"chart-dfcce4f7-82a1-4ea4-a9b1-c2e94fd09445\"], {});\n",
              "            const responseJson = chartCodeResponse.data['application/json'];\n",
              "            await google.colab.notebook.addCell(responseJson.code, 'code');\n",
              "          }\n",
              "          chartElement.onclick = getCodeForChartHandler;\n",
              "        })();\n",
              "      </script>\n",
              "      <style>\n",
              "        .colab-quickchart-chart-with-code  {\n",
              "            display: block;\n",
              "            float: left;\n",
              "            border: 1px solid transparent;\n",
              "        }\n",
              "\n",
              "        .colab-quickchart-chart-with-code:hover {\n",
              "            cursor: pointer;\n",
              "            border: 1px solid #aaa;\n",
              "        }\n",
              "      </style>"
            ]
          },
          "metadata": {}
        },
        {
          "output_type": "display_data",
          "data": {
            "text/plain": [
              "<google.colab._quickchart_helpers.SectionTitle at 0x7b65c09cad70>"
            ],
            "text/html": [
              "<h4 class=\"colab-quickchart-section-title\">Time series</h4>\n",
              "<style>\n",
              "  .colab-quickchart-section-title {\n",
              "      clear: both;\n",
              "  }\n",
              "</style>"
            ]
          },
          "metadata": {}
        },
        {
          "output_type": "display_data",
          "data": {
            "text/plain": [
              "import numpy as np\n",
              "from google.colab import autoviz\n",
              "\n",
              "def time_series_multiline(df, timelike_colname, value_colname, series_colname, figscale=1, mpl_palette_name='Dark2'):\n",
              "  from matplotlib import pyplot as plt\n",
              "  import seaborn as sns\n",
              "  figsize = (10 * figscale, 5.2 * figscale)\n",
              "  palette = list(sns.palettes.mpl_palette(mpl_palette_name))\n",
              "  def _plot_series(series, series_name, series_index=0):\n",
              "    if value_colname == 'count()':\n",
              "      counted = (series[timelike_colname]\n",
              "                 .value_counts()\n",
              "                 .reset_index(name='counts')\n",
              "                 .rename({'index': timelike_colname}, axis=1)\n",
              "                 .sort_values(timelike_colname, ascending=True))\n",
              "      xs = counted[timelike_colname]\n",
              "      ys = counted['counts']\n",
              "    else:\n",
              "      xs = series[timelike_colname]\n",
              "      ys = series[value_colname]\n",
              "    plt.plot(xs, ys, label=series_name, color=palette[series_index % len(palette)])\n",
              "\n",
              "  fig, ax = plt.subplots(figsize=figsize, layout='constrained')\n",
              "  df = df.sort_values(timelike_colname, ascending=True)\n",
              "  if series_colname:\n",
              "    for i, (series_name, series) in enumerate(df.groupby(series_colname)):\n",
              "      _plot_series(series, series_name, i)\n",
              "    fig.legend(title=series_colname, bbox_to_anchor=(1, 1), loc='upper left')\n",
              "  else:\n",
              "    _plot_series(df, '')\n",
              "  sns.despine(fig=fig, ax=ax)\n",
              "  plt.xlabel(timelike_colname)\n",
              "  plt.ylabel(value_colname)\n",
              "  return autoviz.MplChart.from_current_mpl_state()\n",
              "\n",
              "chart = time_series_multiline(_df_5, *['w', 'count()', None], **{})\n",
              "chart"
            ],
            "text/html": [
              "      <div class=\"colab-quickchart-chart-with-code\" id=\"chart-a74b873b-8a7b-4d65-95ad-041a3e572261\">\n",
              "        <img src=\"data:image/png;base64,iVBORw0KGgoAAAANSUhEUgAAAf8AAAEPCAYAAABMY82nAAAAOXRFWHRTb2Z0d2FyZQBNYXRwbG90\n",
              "bGliIHZlcnNpb24zLjcuMSwgaHR0cHM6Ly9tYXRwbG90bGliLm9yZy/bCgiHAAAACXBIWXMAAA9h\n",
              "AAAPYQGoP6dpAAAZz0lEQVR4nO3de3BU9fnH8c8mkRWoCTiESw2bNDcx3AnJcLFEBculJQqhSltK\n",
              "U25hKgNjSqFMmx+XTsG2QqU4CnQyjOgUxwIq42Wm9VIMUCdQQFsClSDLJshFFBKlJOTy/f3hsMOa\n",
              "BDa6J5vN9/2aOTPuOY9nn2eOx8/uycmJyxhjBAAArBEV7gYAAEDbIvwBALAM4Q8AgGUIfwAALEP4\n",
              "AwBgGcIfAADLEP4AAFiG8AcAwDIdPvzXr18f7hYAAGhXOnz4nzp1KtwtAADQrnT48AcAAIEIfwAA\n",
              "LEP4AwBgGcIfAADLEP4AAFiG8AcAwDKEPwAAliH8AQCwDOEPAIBlCH8AACxD+AMAYBnCHwAAyxD+\n",
              "AABYhvAHAMAyhD8AAJYh/AEAsAzhDwCAZQh/AAAsQ/gDAGAZwh8AAMsQ/gAAWIbwBwDAMoQ/AACW\n",
              "IfwBALAM4Q8AgGUcDf+FCxcqKSlJLpdLhw8fbrGuuLhYaWlpSklJ0dy5c1VXVxew3Rij++67T926\n",
              "dXOyXQAArOBo+E+bNk179uxRYmJiizUnT55UUVGRSkpKVF5ernPnzmnz5s0BNX/84x+VkpLiZKsA\n",
              "AFjD0fAfM2aMEhISblizfft25ebmqnfv3nK5XJo/f762bdvm337kyBG99NJL+uUvf3nT96utrVV1\n",
              "dXXA0tDQ8LXnAACgIwn7z/x9Pl/AlYGkpCT5fD5JUl1dnebOnatNmzYpOjr6pvtas2aN4uLiApbS\n",
              "0lLHegcAIBKFPfxvZOXKlZo6daruuuuuoOqXLVumqqqqgCU7O9vhLgEAiCwx4W7A4/HoxIkT/tde\n",
              "r1cej0eStHv3bvl8Pj355JOqr69XdXW1kpKStH//fsXHxzfZl9vtltvtDlgXzBUDAABsEvZv/nl5\n",
              "edq1a5fOnj0rY4w2btyo6dOnS5JKSkp06tQpeb1e7dmzR7GxsfJ6vc0GPwAACI6j4V9QUKCEhARV\n",
              "VlZq/PjxSk1NlSTNmTNHu3btkiQlJydr5cqVGj16tFJTUxUfH6+CggIn2wIAwGouY4wJdxNOKiws\n",
              "1Lp168LdBgAA7UbYL/sDAIC2RfgDAGAZwh8AAMsQ/gAAWIbwBwDAMoQ/AACWIfwBALAM4Q8AgGUI\n",
              "fwAALEP4AwBgGcIfAADLEP4AAFiG8AcAwDKEPwAAliH8AQCwDOEPAIBlCH8AACxD+AMAYBnCHwAA\n",
              "yxD+AABYhvAHAMAyhD8AAJYh/AEAsAzhDwCAZQh/AAAsQ/gDAGAZwh8AAMsQ/gAAWIbwBwDAMoQ/\n",
              "AACWIfwBALCMo+G/cOFCJSUlyeVy6fDhwy3WFRcXKy0tTSkpKZo7d67q6uokSW+99Zays7OVkZGh\n",
              "/v37a8mSJWpsbHSyZQAAOjxHw3/atGnas2ePEhMTW6w5efKkioqKVFJSovLycp07d06bN2+WJHXv\n",
              "3l3PP/+8ysrK9K9//Uv79u3T1q1bnWwZAIAOz9HwHzNmjBISEm5Ys337duXm5qp3795yuVyaP3++\n",
              "tm3bJkkaOnSokpOTJUm33nqrhgwZIq/X62TLAAB0eDHhbsDn8wVcGUhKSpLP52tSd/bsWW3fvl2v\n",
              "vPJKi/uqra1VbW1twLqGhobQNQsAQAcQETf8VVdXa/LkyVqyZImGDx/eYt2aNWsUFxcXsJSWlrZh\n",
              "pwAAtH9hD3+Px6NTp075X3u9Xnk8Hv/rzz77TBMmTNADDzygwsLCG+5r2bJlqqqqCliys7Md6x0A\n",
              "gEgU9vDPy8vTrl27dPbsWRljtHHjRk2fPl2S9Pnnn2vChAmaMGGCfv3rX990X263W7GxsQFLdHS0\n",
              "0yMAABBRHA3/goICJSQkqLKyUuPHj1dqaqokac6cOdq1a5ckKTk5WStXrtTo0aOVmpqq+Ph4FRQU\n",
              "SJLWr1+v0tJS7dy5U0OGDNGQIUP029/+1smWAQDo8FzGGBPuJpxUWFiodevWhbsNAADajbBf9gcA\n",
              "AG2L8AcAwDKEPwAAliH8AQCwDOEPAIBlCH8AACxD+AMAYBnCHwAAyxD+AABYhvAHAMAyhD8AAJYh\n",
              "/AEAsAzhDwCAZQh/AAAsQ/gDAGAZwh8AAMsQ/gAAWCbmq/xLZWVlqqysVOfOnTVw4EB169YtxG0B\n",
              "AACnBB3+n332mR5//HH9+c9/VpcuXdSrVy/V1NToxIkTys7O1tKlSzV27FgnewUAACEQdPjfe++9\n",
              "mjlzpg4dOqRevXr51zc2NqqkpEQbN25UeXm5CgoKHGkUAACERtDhv3fvXrnd7ibro6KilJOTo5yc\n",
              "HNXW1oa0OQAAEHpB3/DXXPB/lRoAABBeQYf/9773Pe3bt6/ZbZcuXdLatWu1adOmkDUGAACcEfRl\n",
              "/9WrV2vZsmUqKytTVlaW/4a/Y8eO6fTp03rkkUc0a9YsJ3sFAAAhEHT4Dxo0SK+++qoqKiq0e/du\n",
              "VVZWqkuXLvrRj36ku+++WzExX+m3BgEAQBtrdWJfvHhRM2bMCFj3/vvva9CgQSFrCgAAOKfVT/jL\n",
              "z88Pah0AAGifgv7mf/78eZ09e1ZXrlzRv//9bxljJElVVVW6fPmyYw0CAIDQCjr8t23bpieeeEIf\n",
              "ffSRcnNz/evj4uK0ZMkSR5oDAAChF3T4L1q0SIsWLdJvfvMbFRUVOdkTAABwUKtv+CsqKlJjY6PO\n",
              "nj2r+vp6/3qPxxPSxgAAgDNafcPfM888o27dumngwIHKzMxUZmamhg8f3mztwoULlZSUJJfLpcOH\n",
              "D7e4z+LiYqWlpSklJUVz585VXV1dUNsAAEDrtTr8V61apf379+uTTz7Rxx9/rI8//ljnz59vtnba\n",
              "tGnas2ePEhMTW9zfyZMnVVRUpJKSEpWXl+vcuXPavHnzTbcBAICvptWX/Xv06KE777wzqNoxY8bc\n",
              "tGb79u3Kzc1V7969JUnz58/X6tWr9cgjj9xwW1szxuhKPVcdAACh1TnmFrlcrjZ9z1aH/4MPPqgn\n",
              "nnhCP/zhD3Xrrbf618fGxn6lBnw+X8CVgaSkJPl8vptua05tbW2TvyzY0NDwlfr6siv1dUp/7v9C\n",
              "si8AAK75YMYqdbmlU5u+Z6sv+//qV79SYWGhevfure7du6tbt27q3r27E7212po1axQXFxewlJaW\n",
              "hrstAADalVZ/829sbAxpAx6PRydOnPC/9nq9/t8cuNG25ixbtkyFhYUB60L1a4mdY27RBzNWhWRf\n",
              "AABc0znmljZ/z7D/NZ68vDzdfffdWrFihXr16qWNGzdq+vTpN93WHLfbLbfbHbAuOjo6JH26XK42\n",
              "vywDAIATWn3ZPyoqStHR0U2W5hQUFCghIUGVlZUaP368UlNTJUlz5szRrl27JEnJyclauXKlRo8e\n",
              "rdTUVMXHx6ugoOCm2wAAwFfjMtce0h+k65/jf+XKFW3dulUNDQ36xS9+EfLmQqGwsFDr1q0LdxsA\n",
              "ALQbrf7m37VrV//So0cPFRYWavv27U70BgAAHNDq8P+yY8eO6cKFC6HoBQAAtIFW3/DXvXt3/8MI\n",
              "rj3bf8OGDaHtCgAAOKbV4X/9M/pjYmLUu3fvkN1RDwAAnNfq8E9MTNT//vc//4eA7t27q0uXLqHu\n",
              "CwAAOKTV4b9v3z7l5eX5n7d/7tw57dixQyNHjgx5cwAAIPRaHf7X7u4fPXq0pC8+DDz66KN69913\n",
              "Q94cAAAIvVbf7X/lyhV/8EvSqFGjVFNTE9KmAACAc1od/t/4xjf0xhtv+F+/+eab6tq1a0ibAgAA\n",
              "zmn1Zf8//elPmjp1qv8O/8bGRu3cuTPkjQEAAGe0Ovw/+ugjHThwQOfOnZMk9erViz+bCwBABGn1\n",
              "Zf+ioiLFx8drwIABGjBggHr06BGyP5sLAACc97Uf7+tyudTQ0BCKXgAAQBtodfjfdttt2rdvn//1\n",
              "3r17ddttt4W0KQAA4JxW/8z/97//vaZMmaJ+/fpJko4fP64XX3wx5I0BAABntDr8R44cqaNHj+qf\n",
              "//ynpC9+z79bt26h7gsAADik1eEvffE8/0mTJoW6FwAA0Aa+9g1/AAAgshD+AABYhvAHAMAyhD8A\n",
              "AJYh/AEAsAzhDwCAZQh/AAAsQ/gDAGAZwh8AAMsQ/gAAWIbwBwDAMoQ/AACWIfwBALAM4Q8AgGUc\n",
              "Df/jx49r1KhRSk9PV1ZWlo4cOdKkprGxUYsXL9aAAQPUr18/zZ49W1evXvVv/93vfqeMjAwNGTJE\n",
              "I0aMUGlpqZMtAwDQ4Tka/gUFBZo3b54++OADLV26VPn5+U1qiouLdfDgQR08eFBHjx5VVFSU1q9f\n",
              "L0k6fPiwnnrqKZWWlurw4cNasGCBFixY4GTLAAB0eI6F//nz53XgwAHNmDFDkpSXl6eKigqVl5cH\n",
              "1L333nsaN26cOnXqJJfLpYkTJ+rZZ5+VJLlcLtXV1eny5cuSpEuXLikhIcGplgEAsEKMUzuuqKhQ\n",
              "nz59FBPzxVu4XC55PB75fD6lpqb66zIzM7Vp0yYtWLBAnTt31gsvvCCv1ytJGjx4sB599FF961vf\n",
              "0u233y6326133nmnxfesra1VbW1twLqGhobQDwcAQAQL+w1/+fn5mjBhgnJycpSTk6P09HT/B4aT\n",
              "J09q586dKi8vV2VlpR599FE9/PDDLe5rzZo1iouLC1i4RwAAgECOhX/fvn115swZ1dfXS5KMMfL5\n",
              "fPJ4PAF1LpdLK1as0KFDh7Rv3z5lZGSof//+kqQdO3Zo4MCB+uY3vylJ+ulPf6q9e/cG3BB4vWXL\n",
              "lqmqqipgyc7OdmpEAAAikmPh37NnTw0bNkzPPfecpC+CPCEhIeCSvyTV1NTo4sWLkqQLFy7oscce\n",
              "05IlSyRJycnJ2rt3rz7//HNJ0iuvvKL09HR16tSp2fd0u92KjY0NWKKjo50aEQCAiOTYz/wladOm\n",
              "TcrPz9fq1asVGxurLVu2SJLmzJmj3Nxc5ebmqqqqSvfcc4+ioqLU2NioRYsWafLkyZKkKVOmaP/+\n",
              "/Ro+fLjcbre6du2qv/zlL062DABAh+cyxphwN+GkwsJCrVu3LtxtAADQboT9hj8AANC2CH8AACxD\n",
              "+AMAYBnCHwAAyxD+AABYhvAHAMAyhD8AAJYh/AEAsAzhDwCAZQh/AAAsQ/gDAGAZwh8AAMsQ/gAA\n",
              "WIbwBwDAMoQ/AACWIfwBALAM4Q8AgGUIfwAALEP4AwBgGcIfAADLEP4AAFiG8AcAwDKEPwAAliH8\n",
              "AQCwDOEPAIBlCH8AACxD+AMAYBnCHwAAyxD+AABYhvAHAMAyhD8AAJZxNPyPHz+uUaNGKT09XVlZ\n",
              "WTpy5EiTmsbGRi1evFgDBgxQv379NHv2bF29etW/3efzafLkybrzzjuVkZGhDRs2ONkyAAAdnqPh\n",
              "X1BQoHnz5umDDz7Q0qVLlZ+f36SmuLhYBw8e1MGDB3X06FFFRUVp/fr1kiRjjKZMmaKZM2fqv//9\n",
              "r8rKyvTQQw852TIAAB2eY+F//vx5HThwQDNmzJAk5eXlqaKiQuXl5QF17733nsaNG6dOnTrJ5XJp\n",
              "4sSJevbZZyVJb775ptxut77//e/763v16uVUywAAWMGx8K+oqFCfPn0UExMjSXK5XPJ4PPL5fAF1\n",
              "mZmZ2rVrl6qrq1VXV6cXXnhBXq9XklRWVqb4+HhNnz5dQ4cO1ZQpU/Thhx+2+J61tbWqrq4OWBoa\n",
              "GpwaEQCAiBT2G/7y8/M1YcIE5eTkKCcnR+np6f4PDPX19XrrrbdUVFSkQ4cOafz48Te87L9mzRrF\n",
              "xcUFLKWlpW01CgAAEcGx8O/bt6/OnDmj+vp6SV/8/N7n88nj8QTUuVwurVixQocOHdK+ffuUkZGh\n",
              "/v37S5I8Ho+GDh3qf/3jH/9YBw8eVF1dXbPvuWzZMlVVVQUs2dnZTo0IAEBEciz8e/bsqWHDhum5\n",
              "556TJO3YsUMJCQlKTU0NqKupqdHFixclSRcuXNBjjz2mJUuWSJImTpyoyspKnT59WpL02muv6a67\n",
              "7tItt9zS7Hu63W7FxsYGLNHR0U6NCABARIpxcuebNm1Sfn6+Vq9erdjYWG3ZskWSNGfOHOXm5io3\n",
              "N1dVVVW65557FBUVpcbGRi1atEiTJ0+WJHXt2lUbN27Ud7/7XRljFBcXp+eff97JlgEA6PBcxhgT\n",
              "7iacVFhYqHXr1oW7DQAA2o2w3/AHAADaFuEPAIBlCH8AACxD+AMAYBnCHwAAyxD+AABYhvAHAMAy\n",
              "hD8AAJYh/AEAsAzhDwCAZQh/AAAsQ/gDAGAZwh8AAMsQ/gAAWIbwBwDAMoQ/AACWIfwBALAM4Q8A\n",
              "gGUIfwAALEP4AwBgGcIfAADLEP4AAFiG8AcAwDKEPwAAliH8AQCwjMsYY8LdhJOmTp2qpKSkkOyr\n",
              "oaFBpaWlys7OVnR0dEj2GS7M0v50lDmkjjNLR5lDYpb2yKk5EhMTtWjRohvWdPjwD6Xq6mrFxcWp\n",
              "qqpKsbGx4W7na2GW9qejzCF1nFk6yhwSs7RH4ZyDy/4AAFiG8AcAwDKEPwAAliH8W8Htdmv58uVy\n",
              "u93hbuVrY5b2p6PMIXWcWTrKHBKztEfhnIMb/gAAsAzf/AEAsAzhDwCAZQh/AAAsQ/g34/jx4xo1\n",
              "apTS09OVlZWlI0eONFtXXFystLQ0paSkaO7cuaqrq2vjTm8umFn+8Y9/qHPnzhoyZIh/uXLlShi6\n",
              "bdnChQuVlJQkl8ulw4cPt1gXCcckmFki4ZjU1NTowQcfVHp6ugYPHqz7779f5eXlzda+8sor6tev\n",
              "n9LS0jR16lRVV1e3cbctC3YOr9er6OjogGNy4sSJMHR8Y9/5znc0aNAgDRkyRN/+9rd16NChZusi\n",
              "4VwJZpZIOFeu2bJli1wul1566aVmt7fpeWLQxL333mu2bNlijDHmr3/9qxk+fHiTmg8//ND06dPH\n",
              "nDlzxjQ2NprJkyebJ598so07vblgZnn77bfN4MGD27axVtq9e7epqKgwiYmJ5tChQ83WRMoxCWaW\n",
              "SDgmV65cMa+++qppbGw0xhizYcMGk5OT06Tus88+Mz179jRHjx41xhjzyCOPmMWLF7dlqzcU7Bwn\n",
              "T540cXFxbdvcV3Dx4kX/P+/cudMMGjSoSU2knCvBzBIJ54oxX/z3M3LkSDNixAjz4osvNtne1ucJ\n",
              "3/y/5Pz58zpw4IBmzJghScrLy1NFRUWTbwLbt29Xbm6uevfuLZfLpfnz52vbtm3haLlFwc4SCcaM\n",
              "GaOEhIQb1kTCMZGCmyUS3HrrrZo0aZJcLpckacSIEfJ6vU3qXn/9dQ0dOlT9+vWTJP3sZz9rV8cl\n",
              "2DkiRbdu3fz/XFVV5Z/repFyrgQzSyRobGzUnDlztGHDhhZ/ra+tzxPC/0sqKirUp08fxcTESJJc\n",
              "Lpc8Ho98Pl9Anc/nU2Jiov91UlJSk5pwC3YWSTpx4oSGDRumrKwsPfXUU23dakhEwjFpjUg7JuvX\n",
              "r9cDDzzQZH1zx+XMmTOqr69vy/aC1tIcknT58mVlZWVp2LBhWrVqlRoaGtq4u+DMnDlTffv2VVFR\n",
              "kZ599tkm2yPpXLnZLFL7P1fWrVun0aNHKzMzs8Watj5PYhzZKyLKsGHDVFlZqbi4OFVWVmrSpEnq\n",
              "0aOHHnrooXC3Zq1IOyarV69WeXm53nzzzXC38rXcaI4+ffro9OnT6tmzpz799FM9/PDDWrt2rZYs\n",
              "WRKGTm9s69atkqRnnnlGS5cu1WuvvRbmjr66m83S3s+V//znP9qxY4feeeedcLcSgG/+X9K3b9+A\n",
              "T1vGGPl8Pnk8noA6j8ejU6dO+V97vd4mNeEW7CyxsbGKi4uTJCUkJOgHP/iBSkpK2rzfrysSjkmw\n",
              "IumYPP7449q5c6def/11denSpcn25o7L9Vek2oubzeF2u9WzZ09J0u23365Zs2a122NyzU9+8hO9\n",
              "/fbb+uSTTwLWR+K50tIs7f1cKSkpkdfrVVpampKSkvTuu+9q3rx5evrppwPq2vw8cexuggiWk5MT\n",
              "cJNcZmZmk5oTJ040uWFmw4YNbdzpzQUzy0cffWQaGhqMMcZUV1ebUaNGmeLi4rZsM2g3ukkuUo7J\n",
              "NTeaJVKOydq1a82wYcPMp59+2mJNdXW1iY+PD7iR6ec//3lbtRiUYOY4d+6cuXr1qjHGmJqaGjNt\n",
              "2jRTVFTUVi0G5eLFi+b06dP+1y+++KK54447/DczXhMJ50qws0TKuXJNTk5Oszf8tfV5Qvg349ix\n",
              "Y2bEiBEmLS3NZGZmmvfff98YY8zs2bPNyy+/7K/bvHmzSU5ONsnJyWbWrFn+/zG0J8HMsmHDBpOR\n",
              "kWEGDRpkMjIyzPLly5ucYOE2b948c8cdd5jo6GjTs2dPk5KSYoyJzGMSzCyRcEwqKiqMJJOcnGwG\n",
              "Dx5sBg8ebLKzs40xxhQVFZmnn37aX/vyyy+bO++806SkpJgHHnjAXLp0KVxtNxHsHDt27DD9+/f3\n",
              "H5MFCxaYmpqacLbehNfrNVlZWWbAgAFm0KBBZuzYsf4PmJF2rgQ7SyScK9e7PvzDeZ7wbH8AACzD\n",
              "z/wBALAM4Q8AgGUIfwAALEP4AwBgGcIfAADLEP4AQmLz5s2aN2+eJKmsrEwul0t/+9vfJEmrVq3S\n",
              "qlWrwtkegOsQ/gBCYty4cXrjjTckSX//+981cuTIgNfjxo0LZ3sArkP4AwiJ5ORkSdKHH36oN954\n",
              "Q2vWrNFbb72lzz//XGVlZcrOzg5zhwCuIfwBhMy4ceP0+uuv6/jx48rJyZExRjt27NDIkSPb3bP8\n",
              "AZsR/gBCZty4cfrDH/7g/5Z/3333afny5VzyB9oZwh9AyIwdO1Y+n88f9vfff79OnTqlsWPHhrkz\n",
              "ANfj2f4AAFiGb/4AAFiG8AcAwDKEPwAAliH8AQCwDOEPAIBlCH8AACxD+AMAYBnCHwAAyxD+AABY\n",
              "hvAHAMAy/w8SiNXkIGV0EwAAAABJRU5ErkJggg==\n",
              "\">\n",
              "        \n",
              "      </div>\n",
              "      <script></script>\n",
              "      <script type=\"text/javascript\">\n",
              "        (() => {\n",
              "          const chartElement = document.getElementById(\"chart-a74b873b-8a7b-4d65-95ad-041a3e572261\");\n",
              "          async function getCodeForChartHandler(event) {\n",
              "            const chartCodeResponse =  await google.colab.kernel.invokeFunction(\n",
              "                'getCodeForChart', [\"chart-a74b873b-8a7b-4d65-95ad-041a3e572261\"], {});\n",
              "            const responseJson = chartCodeResponse.data['application/json'];\n",
              "            await google.colab.notebook.addCell(responseJson.code, 'code');\n",
              "          }\n",
              "          chartElement.onclick = getCodeForChartHandler;\n",
              "        })();\n",
              "      </script>\n",
              "      <style>\n",
              "        .colab-quickchart-chart-with-code  {\n",
              "            display: block;\n",
              "            float: left;\n",
              "            border: 1px solid transparent;\n",
              "        }\n",
              "\n",
              "        .colab-quickchart-chart-with-code:hover {\n",
              "            cursor: pointer;\n",
              "            border: 1px solid #aaa;\n",
              "        }\n",
              "      </style>"
            ]
          },
          "metadata": {}
        },
        {
          "output_type": "display_data",
          "data": {
            "text/plain": [
              "import numpy as np\n",
              "from google.colab import autoviz\n",
              "\n",
              "def time_series_multiline(df, timelike_colname, value_colname, series_colname, figscale=1, mpl_palette_name='Dark2'):\n",
              "  from matplotlib import pyplot as plt\n",
              "  import seaborn as sns\n",
              "  figsize = (10 * figscale, 5.2 * figscale)\n",
              "  palette = list(sns.palettes.mpl_palette(mpl_palette_name))\n",
              "  def _plot_series(series, series_name, series_index=0):\n",
              "    if value_colname == 'count()':\n",
              "      counted = (series[timelike_colname]\n",
              "                 .value_counts()\n",
              "                 .reset_index(name='counts')\n",
              "                 .rename({'index': timelike_colname}, axis=1)\n",
              "                 .sort_values(timelike_colname, ascending=True))\n",
              "      xs = counted[timelike_colname]\n",
              "      ys = counted['counts']\n",
              "    else:\n",
              "      xs = series[timelike_colname]\n",
              "      ys = series[value_colname]\n",
              "    plt.plot(xs, ys, label=series_name, color=palette[series_index % len(palette)])\n",
              "\n",
              "  fig, ax = plt.subplots(figsize=figsize, layout='constrained')\n",
              "  df = df.sort_values(timelike_colname, ascending=True)\n",
              "  if series_colname:\n",
              "    for i, (series_name, series) in enumerate(df.groupby(series_colname)):\n",
              "      _plot_series(series, series_name, i)\n",
              "    fig.legend(title=series_colname, bbox_to_anchor=(1, 1), loc='upper left')\n",
              "  else:\n",
              "    _plot_series(df, '')\n",
              "  sns.despine(fig=fig, ax=ax)\n",
              "  plt.xlabel(timelike_colname)\n",
              "  plt.ylabel(value_colname)\n",
              "  return autoviz.MplChart.from_current_mpl_state()\n",
              "\n",
              "chart = time_series_multiline(_df_6, *['x', 'count()', None], **{})\n",
              "chart"
            ],
            "text/html": [
              "      <div class=\"colab-quickchart-chart-with-code\" id=\"chart-5e5a36ff-b6bb-46c7-b64a-6253322e3e03\">\n",
              "        <img src=\"data:image/png;base64,iVBORw0KGgoAAAANSUhEUgAAAf8AAAEPCAYAAABMY82nAAAAOXRFWHRTb2Z0d2FyZQBNYXRwbG90\n",
              "bGliIHZlcnNpb24zLjcuMSwgaHR0cHM6Ly9tYXRwbG90bGliLm9yZy/bCgiHAAAACXBIWXMAAA9h\n",
              "AAAPYQGoP6dpAAAZsklEQVR4nO3de3BU9f3/8dcmgeVSk+AQLjVu0iQEDLcAkkFQYqstYEuUSxFb\n",
              "qpFbGGWgpBRkND/FToF2IJXiVKCTcbxMsQ4XZVD7R5FqIHUCBWwFVBJZNkEuopCoJTHJfr5/+GPH\n",
              "bRLY4J5sNp/nY+bMsOd8OPt+z+aTV/bksycuY4wRAACwRkykCwAAAO2L8AcAwDKEPwAAliH8AQCw\n",
              "DOEPAIBlCH8AACxD+AMAYBnCHwAAy3T68F+/fn2kSwAAoEPp9OF/8uTJSJcAAECH0unDHwAABCP8\n",
              "AQCwDOEPAIBlCH8AACxD+AMAYBnCHwAAyxD+AABYhvAHAMAyhD8AAJYh/AEAsAzhDwCAZQh/AAAs\n",
              "Q/gDAGAZwh8AAMsQ/gAAWIbwBwDAMoQ/AACWIfwBALAM4Q8AgGUIfwAALEP4AwBgGcIfAADLEP4A\n",
              "AFiG8AcAwDKEPwAAlnE0/BctWqTU1FS5XC4dPny41XElJSUaMGCA0tPTNW/ePDU0NAQdN8boBz/4\n",
              "gRITE50sFwAAKzga/tOnT9fevXuVkpLS6pgTJ06oqKhIpaWlqqio0NmzZ7V58+agMX/4wx+Unp7u\n",
              "ZKkAAFjD0fAfP368kpOTrzhm69atysvLU79+/eRyubRgwQJt2bIlcPzIkSN65ZVX9Mgjj1z1+err\n",
              "61VbWxu0NTU1fes+AADoTCL+O3+fzxd0ZSA1NVU+n0+S1NDQoHnz5mnTpk2KjY296rlWr16thISE\n",
              "oK28vNyx2gEAiEYRD/8rWblypaZOnaqbbroppPErVqxQTU1N0JaTk+NwlQAARJe4SBfg8XhUWVkZ\n",
              "eOz1euXxeCRJb731lnw+n55++mk1NjaqtrZWqamp2r9/v5KSkpqdy+12y+12B+0L5YoBAAA2ifg7\n",
              "/2nTpmnnzp06c+aMjDHauHGjZs6cKUkqLS3VyZMn5fV6tXfvXsXHx8vr9bYY/AAAIDSOhn9BQYGS\n",
              "k5NVXV2tCRMmKCMjQ5I0d+5c7dy5U5KUlpamlStXaty4ccrIyFBSUpIKCgqcLAsAAKu5jDEm0kU4\n",
              "qbCwUMXFxZEuAwCADiPil/0BAED7IvwBALAM4Q8AgGUIfwAALEP4AwBgGcIfAADLEP4AAFiG8AcA\n",
              "wDKEPwAAliH8AQCwDOEPAIBlCH8AACxD+AMAYBnCHwAAyxD+AABYhvAHAMAyhD8AAJYh/AEAsAzh\n",
              "DwCAZQh/AAAsQ/gDAGAZwh8AAMsQ/gAAWIbwBwDAMoQ/AACWIfwBALAM4Q8AgGUIfwAALEP4AwBg\n",
              "GcIfAADLEP4AAFjG0fBftGiRUlNT5XK5dPjw4VbHlZSUaMCAAUpPT9e8efPU0NAgSXrzzTeVk5Oj\n",
              "rKwsDR48WMuWLZPf73eyZAAAOj1Hw3/69Onau3evUlJSWh1z4sQJFRUVqbS0VBUVFTp79qw2b94s\n",
              "SerVq5deeuklHT16VP/6179UVlam559/3smSAQDo9BwN//Hjxys5OfmKY7Zu3aq8vDz169dPLpdL\n",
              "CxYs0JYtWyRJI0aMUFpamiSpW7duys7OltfrdbJkAAA6vbhIF+Dz+YKuDKSmpsrn8zUbd+bMGW3d\n",
              "ulW7du1q9Vz19fWqr68P2tfU1BS+YgEA6ASiYsFfbW2tJk+erGXLlunmm29uddzq1auVkJAQtJWX\n",
              "l7djpQAAdHwRD3+Px6OTJ08GHnu9Xnk8nsDjzz//XBMnTtTdd9+twsLCK55rxYoVqqmpCdpycnIc\n",
              "qx0AgGgU8fCfNm2adu7cqTNnzsgYo40bN2rmzJmSpC+++EITJ07UxIkT9dhjj131XG63W/Hx8UFb\n",
              "bGys0y0AABBVHA3/goICJScnq7q6WhMmTFBGRoYkae7cudq5c6ckKS0tTStXrtS4ceOUkZGhpKQk\n",
              "FRQUSJLWr1+v8vJybd++XdnZ2crOztZvf/tbJ0sGAKDTcxljTKSLcFJhYaGKi4sjXQYAAB1GxC/7\n",
              "AwCA9kX4AwBgGcIfAADLEP4AAFiG8AcAwDKEPwAAliH8AQCwDOEPAIBlCH8AACxD+AMAYBnCHwAA\n",
              "yxD+AABYhvAHAMAyhD8AAJYh/AEAsAzhDwCAZQh/AAAsE3ct/+no0aOqrq5W9+7dNXToUCUmJoa5\n",
              "LAAA4JSQw//zzz/X2rVr9ec//1k9evRQ3759VVdXp8rKSuXk5Gj58uW64447nKwVAACEQcjh//3v\n",
              "f1/333+/Dh06pL59+wb2+/1+lZaWauPGjaqoqFBBQYEjhQIAgPAIOfz37dsnt9vdbH9MTIxyc3OV\n",
              "m5ur+vr6sBYHAADCL+QFfy0F/7WMAQAAkRVy+P/kJz9RWVlZi8cuXryodevWadOmTWErDAAAOCPk\n",
              "y/6rVq3SihUrdPToUY0ePTqw4O/999/XqVOn9PDDD2v27NlO1goAAMIg5PAfNmyYXnvtNVVVVemt\n",
              "t95SdXW1evTooZ///Oe69dZbFRd3TZ8aBAAA7azNiX3hwgXNmjUraN+///1vDRs2LGxFAQAA57T5\n",
              "Dn/5+fkh7QMAAB1TyO/8z507pzNnzujSpUv6z3/+I2OMJKmmpkZffvmlYwUCAIDwCjn8t2zZoqee\n",
              "ekoff/yx8vLyAvsTEhK0bNkyR4oDAADhF3L4L168WIsXL9ZvfvMbFRUVOVkTAABwUJsX/BUVFcnv\n",
              "9+vMmTNqbGwM7Pd4PGEtDAAAOKPNC/6ee+45JSYmaujQoRo1apRGjRqlm2++ucWxixYtUmpqqlwu\n",
              "lw4fPtzqOUtKSjRgwAClp6dr3rx5amhoCOkYAABouzaH/5NPPqn9+/fr008/1SeffKJPPvlE586d\n",
              "a3Hs9OnTtXfvXqWkpLR6vhMnTqioqEilpaWqqKjQ2bNntXnz5qseAwAA16bNl/179+6tgQMHhjR2\n",
              "/PjxVx2zdetW5eXlqV+/fpKkBQsWaNWqVXr44YeveKy9GWN0qZGrDgCA8Ooe10Uul6tdn7PN4X/P\n",
              "Pffoqaee0s9+9jN169YtsD8+Pv6aCvD5fEFXBlJTU+Xz+a56rCX19fXN/rJgU1PTNdX1vy41Nijz\n",
              "xf8XlnMBAHDZh7OeVI8uXdv1Odt82f/RRx9VYWGh+vXrp169eikxMVG9evVyorY2W716tRISEoK2\n",
              "8vLySJcFAECH0uZ3/n6/P6wFeDweVVZWBh57vd7AJweudKwlK1asUGFhYdC+cH0ssXtcF30468mw\n",
              "nAsAgMu6x3Vp9+eM+F/jmTZtmm699VY98cQT6tu3rzZu3KiZM2de9VhL3G633G530L7Y2Niw1Oly\n",
              "udr9sgwAAE5o82X/mJgYxcbGNttaUlBQoOTkZFVXV2vChAnKyMiQJM2dO1c7d+6UJKWlpWnlypUa\n",
              "N26cMjIylJSUpIKCgqseAwAA18ZlLt+kP0TfvI//pUuX9Pzzz6upqUm//vWvw15cOBQWFqq4uDjS\n",
              "ZQAA0GG0+Z1/z549A1vv3r1VWFiorVu3OlEbAABwQJvD/3+9//77On/+fDhqAQAA7aDNC/569eoV\n",
              "uBnB5Xv7b9iwIbxVAQAAx7Q5/L95j/64uDj169cvbCvqAQCA89oc/ikpKfrvf/8b+CGgV69e6tGj\n",
              "R7jrAgAADmlz+JeVlWnatGmB++2fPXtW27Zt0y233BL24gAAQPi1Ofwvr+4fN26cpK9/GFiyZIne\n",
              "eeedsBcHAADCr82r/S9duhQIfkkaO3as6urqwloUAABwTpvD/zvf+Y7+/ve/Bx7v3r1bPXv2DGtR\n",
              "AADAOW2+7P/HP/5RU6dODazw9/v92r59e9gLAwAAzmhz+H/88cc6cOCAzp49K0nq27cvfzYXAIAo\n",
              "0ubL/kVFRUpKStKQIUM0ZMgQ9e7dO2x/NhcAADjvW9/e1+VyqampKRy1AACAdtDm8L/uuutUVlYW\n",
              "eLxv3z5dd911YS0KAAA4p82/8//973+vKVOmaNCgQZKk48ePa8eOHWEvDAAAOKPN4X/LLbfo2LFj\n",
              "+uc//ynp68/5JyYmhrsuAADgkDaHv/T1/fzvuuuucNcCAADawbde8AcAAKIL4Q8AgGUIfwAALEP4\n",
              "AwBgGcIfAADLEP4AAFiG8AcAwDKEPwAAliH8AQCwDOEPAIBlCH8AACxD+AMAYBnCHwAAyxD+AABY\n",
              "xtHwP378uMaOHavMzEyNHj1aR44caTbG7/dr6dKlGjJkiAYNGqQ5c+boq6++Chz/3e9+p6ysLGVn\n",
              "Z2vMmDEqLy93smQAADo9R8O/oKBA8+fP14cffqjly5crPz+/2ZiSkhIdPHhQBw8e1LFjxxQTE6P1\n",
              "69dLkg4fPqw//elPKi8v1+HDh7Vw4UItXLjQyZIBAOj0HAv/c+fO6cCBA5o1a5Ykadq0aaqqqlJF\n",
              "RUXQuHfffVd33nmnunbtKpfLpUmTJumFF16QJLlcLjU0NOjLL7+UJF28eFHJyclOlQwAgBXinDpx\n",
              "VVWV+vfvr7i4r5/C5XLJ4/HI5/MpIyMjMG7UqFHatGmTFi5cqO7du+vll1+W1+uVJA0fPlxLlizR\n",
              "9773PV1//fVyu916++23W33O+vp61dfXB+1ramoKf3MAAESxiC/4y8/P18SJE5Wbm6vc3FxlZmYG\n",
              "fmA4ceKEtm/froqKClVXV2vJkiW69957Wz3X6tWrlZCQELSxRgAAgGCOhf+NN96o06dPq7GxUZJk\n",
              "jJHP55PH4wka53K59MQTT+jQoUMqKytTVlaWBg8eLEnatm2bhg4dqu9+97uSpAcffFD79u0LWhD4\n",
              "TStWrFBNTU3QlpOT41SLAABEJcfCv0+fPho5cqRefPFFSV8HeXJyctAlf0mqq6vThQsXJEnnz5/X\n",
              "mjVrtGzZMklSWlqa9u3bpy+++EKStGvXLmVmZqpr164tPqfb7VZ8fHzQFhsb61SLAABEJcd+5y9J\n",
              "mzZtUn5+vlatWqX4+Hg9++yzkqS5c+cqLy9PeXl5qqmp0e23366YmBj5/X4tXrxYkydPliRNmTJF\n",
              "+/fv18033yy3262ePXvqL3/5i5MlAwDQ6bmMMSbSRTipsLBQxcXFkS4DAIAOI+IL/gAAQPsi/AEA\n",
              "sAzhDwCAZQh/AAAsQ/gDAGAZwh8AAMsQ/gAAWIbwBwDAMoQ/AACWIfwBALAM4Q8AgGUIfwAALEP4\n",
              "AwBgGcIfAADLEP4AAFiG8AcAwDKEPwAAliH8AQCwDOEPAIBlCH8AACxD+AMAYBnCHwAAyxD+AABY\n",
              "hvAHAMAyhD8AAJYh/AEAsAzhDwCAZQh/AAAsQ/gDAGAZwh8AAMsQ/gAAWMbR8D9+/LjGjh2rzMxM\n",
              "jR49WkeOHGk2xu/3a+nSpRoyZIgGDRqkOXPm6Kuvvgoc9/l8mjx5sgYOHKisrCxt2LDByZIBAOj0\n",
              "HA3/goICzZ8/Xx9++KGWL1+u/Pz8ZmNKSkp08OBBHTx4UMeOHVNMTIzWr18vSTLGaMqUKbr//vv1\n",
              "wQcf6OjRo5oxY4aTJQMA0Ok5Fv7nzp3TgQMHNGvWLEnStGnTVFVVpYqKiqBx7777ru6880517dpV\n",
              "LpdLkyZN0gsvvCBJ2r17t9xut376058Gxvft29epkgEAsIJj4V9VVaX+/fsrLi5OkuRyueTxeOTz\n",
              "+YLGjRo1Sjt37lRtba0aGhr08ssvy+v1SpKOHj2qpKQkzZw5UyNGjNCUKVP00Ucftfqc9fX1qq2t\n",
              "DdqampqcahEAgKgU8QV/+fn5mjhxonJzc5Wbm6vMzMzADwyNjY168803VVRUpEOHDmnChAlXvOy/\n",
              "evVqJSQkBG3l5eXt1QoAAFHBsfC/8cYbdfr0aTU2Nkr6+vf3Pp9PHo8naJzL5dITTzyhQ4cOqays\n",
              "TFlZWRo8eLAkyePxaMSIEYHHv/jFL3Tw4EE1NDS0+JwrVqxQTU1N0JaTk+NUiwAARCXHwr9Pnz4a\n",
              "OXKkXnzxRUnStm3blJycrIyMjKBxdXV1unDhgiTp/PnzWrNmjZYtWyZJmjRpkqqrq3Xq1ClJ0uuv\n",
              "v66bbrpJXbp0afE53W634uPjg7bY2FinWgQAICrFOXnyTZs2KT8/X6tWrVJ8fLyeffZZSdLcuXOV\n",
              "l5envLw81dTU6Pbbb1dMTIz8fr8WL16syZMnS5J69uypjRs36sc//rGMMUpISNBLL73kZMkAAHR6\n",
              "LmOMiXQRTiosLFRxcXGkywAAoMOI+II/AADQvgh/AAAsQ/gDAGAZwh8AAMsQ/gAAWIbwBwDAMoQ/\n",
              "AACWIfwBALAM4Q8AgGUIfwAALEP4AwBgGcIfAADLEP4AAFiG8AcAwDKEPwAAliH8AQCwDOEPAIBl\n",
              "CH8AACxD+AMAYBnCHwAAyxD+AABYhvAHAMAyhD8AAJYh/AEAsAzhDwCAZVzGGBPpIpw0depUpaam\n",
              "huVcTU1NKi8vV05OjmJjY8Nyzkihl46ns/QhdZ5eOksfEr10RE71kZKSosWLF19xTKcP/3Cqra1V\n",
              "QkKCampqFB8fH+lyvhV66Xg6Sx9S5+mls/Qh0UtHFMk+uOwPAIBlCH8AACxD+AMAYBnCvw3cbrce\n",
              "f/xxud3uSJfyrdFLx9NZ+pA6Ty+dpQ+JXjqiSPbBgj8AACzDO38AACxD+AMAYBnCHwAAyxD+LVi0\n",
              "aJFSU1Plcrl0+PDhVseVlJRowIABSk9P17x589TQ0NB+RYYglD7+8Y9/qHv37srOzg5sly5dat9C\n",
              "Q1BXV6d77rlHmZmZGj58uH74wx+qoqKixbG7du3SoEGDNGDAAE2dOlW1tbXtXG3rQu3D6/UqNjY2\n",
              "6HWprKyMQMVX9qMf/UjDhg1Tdna2brvtNh06dKjFcR19roTSR7TMlcueffZZuVwuvfLKKy0e78jz\n",
              "5Juu1Ee0zJPU1FQNHDgwUONf//rXFse16zwxaOatt94yVVVVJiUlxRw6dKjFMR999JHp37+/OX36\n",
              "tPH7/Wby5Mnm6aefbt9CryKUPvbs2WOGDx/ernVdi0uXLpnXXnvN+P1+Y4wxGzZsMLm5uc3Gff75\n",
              "56ZPnz7m2LFjxhhjHn74YbN06dL2LPWKQu3jxIkTJiEhoX2LuwYXLlwI/Hv79u1m2LBhzcZEw1wJ\n",
              "pY9omSvGfP31c8stt5gxY8aYHTt2NDve0efJZVfrI1rmyZW+B1/W3vOEd/4tGD9+vJKTk684ZuvW\n",
              "rcrLy1O/fv3kcrm0YMECbdmypZ0qDE0ofUSLbt266a677pLL5ZIkjRkzRl6vt9m4N954QyNGjNCg\n",
              "QYMkSQ899FCHel1C7SNaJCYmBv5dU1MT6OubomGuhNJHtPD7/Zo7d642bNjQ6kfIOvo8kULrozNp\n",
              "73kS59iZOzmfz6eUlJTA49TUVPl8vghWdO0qKys1cuRIxcbG6sEHH9RDDz0U6ZKuav369br77rub\n",
              "7W/pdTl9+rQaGxsVF9fxvtxb60OSvvzyS40ePVpNTU2655579Oijj3bIP2Jy//33a8+ePZKk119/\n",
              "vdnxaJkrV+tDio65UlxcrHHjxmnUqFGtjomGeRJKH1J0zRNjjHJycrRmzRolJSUFHW/vedIxXmVE\n",
              "zMiRI1VdXa2EhARVV1frrrvuUu/evTVjxoxIl9aqVatWqaKiQrt37450Kd/Klfro37+/Tp06pT59\n",
              "+uizzz7Tvffeq3Xr1mnZsmURqPTKnn/+eUnSc889p+XLl7canB3d1fqIhrny3nvvadu2bXr77bcj\n",
              "Xcq3Emof0TJP3n77bXk8HjU0NOixxx7TAw88EPF5wmX/a+TxeHTy5MnAY6/XK4/HE8GKrk18fLwS\n",
              "EhIkScnJybrvvvtUWloa4apat3btWm3fvl1vvPGGevTo0ex4S69L//79O8y7mcuu1ofb7VafPn0k\n",
              "Sddff71mz57doV8XSXrggQe0Z88effrpp0H7o22utNZHNMyV0tJSeb1eDRgwQKmpqXrnnXc0f/58\n",
              "PfPMM0HjOvo8CbWPaJknl7/eu3Tpol/+8pct1tju88Sx1QSdwJUWaVRWVjZbnLFhw4b2LTBEV+rj\n",
              "448/Nk1NTcYYY2pra83YsWNNSUlJO1YXunXr1pmRI0eazz77rNUxtbW1JikpKWgh069+9av2KjEk\n",
              "ofRx9uxZ89VXXxljjKmrqzPTp083RUVF7VViSC5cuGBOnToVeLxjxw5zww03BBYzXtbR50qofUTT\n",
              "XLksNze3xYVy0TBPvqm1PqJhnnzxxRdBC0rXrVtnbrvttmbj2nueEP4tmD9/vrnhhhtMbGys6dOn\n",
              "j0lPTzfGGDNnzhzz6quvBsZt3rzZpKWlmbS0NDN79uzAF2FHEUofGzZsMFlZWWbYsGEmKyvLPP74\n",
              "482+6XUEVVVVRpJJS0szw4cPN8OHDzc5OTnGGGOKiorMM888Exj76quvmoEDB5r09HRz9913m4sX\n",
              "L0aq7GZC7WPbtm1m8ODBgddl4cKFpq6uLpKlN+P1es3o0aPNkCFDzLBhw8wdd9wR+CEzmuZKqH1E\n",
              "y1z5pm+GZjTNk//VWh/RME8qKytNdna2GTp0qBkyZIjJy8szJ06cMMZEdp5wb38AACzD7/wBALAM\n",
              "4Q8AgGUIfwAALEP4AwBgGcIfAADLEP4AwuaDDz5QcnKyPvroI0lf38xo4sSJ8vv9Ea4MwDfxUT8A\n",
              "YbVlyxatW7dOa9eu1YMPPqjy8vJm9zEHEFkd416OADqN++67T3v27NGECRO0e/dugh/ogLjsDyCs\n",
              "Ghsb9d577+n666/XqVOnIl0OgBYQ/gDC6pFHHtHAgQNVWlqqpUuXqqKiItIlAfgfXPYHEDa7du3S\n",
              "3/72N5WXl6tHjx4qLi7WjBkzVFZWpm7dukW6PAD/Hwv+AACwDJf9AQCwDOEPAIBlCH8AACxD+AMA\n",
              "YBnCHwAAyxD+AABYhvAHAMAyhD8AAJYh/AEAsAzhDwCAZf4PRbXTB9AraLEAAAAASUVORK5CYII=\n",
              "\">\n",
              "        \n",
              "      </div>\n",
              "      <script></script>\n",
              "      <script type=\"text/javascript\">\n",
              "        (() => {\n",
              "          const chartElement = document.getElementById(\"chart-5e5a36ff-b6bb-46c7-b64a-6253322e3e03\");\n",
              "          async function getCodeForChartHandler(event) {\n",
              "            const chartCodeResponse =  await google.colab.kernel.invokeFunction(\n",
              "                'getCodeForChart', [\"chart-5e5a36ff-b6bb-46c7-b64a-6253322e3e03\"], {});\n",
              "            const responseJson = chartCodeResponse.data['application/json'];\n",
              "            await google.colab.notebook.addCell(responseJson.code, 'code');\n",
              "          }\n",
              "          chartElement.onclick = getCodeForChartHandler;\n",
              "        })();\n",
              "      </script>\n",
              "      <style>\n",
              "        .colab-quickchart-chart-with-code  {\n",
              "            display: block;\n",
              "            float: left;\n",
              "            border: 1px solid transparent;\n",
              "        }\n",
              "\n",
              "        .colab-quickchart-chart-with-code:hover {\n",
              "            cursor: pointer;\n",
              "            border: 1px solid #aaa;\n",
              "        }\n",
              "      </style>"
            ]
          },
          "metadata": {}
        }
      ]
    },
    {
      "cell_type": "code",
      "source": [
        "dataframe_from_array.iloc[1] ## it needs position as integer"
      ],
      "metadata": {
        "colab": {
          "base_uri": "https://localhost:8080/"
        },
        "id": "iPTlROGv2r7M",
        "outputId": "e7cb1906-cb29-46e7-b9df-88efa88d465c"
      },
      "execution_count": null,
      "outputs": [
        {
          "output_type": "execute_result",
          "data": {
            "text/plain": [
              "w    4\n",
              "x    5\n",
              "y    6\n",
              "z    7\n",
              "Name: b, dtype: int64"
            ]
          },
          "metadata": {},
          "execution_count": 73
        }
      ]
    },
    {
      "cell_type": "code",
      "source": [
        "dataframe_from_array.iloc[1,3] #second row and last column"
      ],
      "metadata": {
        "colab": {
          "base_uri": "https://localhost:8080/"
        },
        "id": "PI4cRSO526jo",
        "outputId": "ccb76f4e-c76c-4f5c-e3c5-faebcc7653d8"
      },
      "execution_count": null,
      "outputs": [
        {
          "output_type": "execute_result",
          "data": {
            "text/plain": [
              "7"
            ]
          },
          "metadata": {},
          "execution_count": 67
        }
      ]
    },
    {
      "cell_type": "code",
      "source": [
        "dataframe_from_array.iloc[::2,::2]"
      ],
      "metadata": {
        "colab": {
          "base_uri": "https://localhost:8080/",
          "height": 112
        },
        "id": "-BpY8Prl3GQX",
        "outputId": "ccb61111-d67d-4564-e02f-9404a3837911"
      },
      "execution_count": null,
      "outputs": [
        {
          "output_type": "execute_result",
          "data": {
            "text/plain": [
              "   w   y\n",
              "a  0   2\n",
              "c  8  10"
            ],
            "text/html": [
              "\n",
              "  <div id=\"df-b9510105-b97d-4c84-b8de-2803b28ce051\" class=\"colab-df-container\">\n",
              "    <div>\n",
              "<style scoped>\n",
              "    .dataframe tbody tr th:only-of-type {\n",
              "        vertical-align: middle;\n",
              "    }\n",
              "\n",
              "    .dataframe tbody tr th {\n",
              "        vertical-align: top;\n",
              "    }\n",
              "\n",
              "    .dataframe thead th {\n",
              "        text-align: right;\n",
              "    }\n",
              "</style>\n",
              "<table border=\"1\" class=\"dataframe\">\n",
              "  <thead>\n",
              "    <tr style=\"text-align: right;\">\n",
              "      <th></th>\n",
              "      <th>w</th>\n",
              "      <th>y</th>\n",
              "    </tr>\n",
              "  </thead>\n",
              "  <tbody>\n",
              "    <tr>\n",
              "      <th>a</th>\n",
              "      <td>0</td>\n",
              "      <td>2</td>\n",
              "    </tr>\n",
              "    <tr>\n",
              "      <th>c</th>\n",
              "      <td>8</td>\n",
              "      <td>10</td>\n",
              "    </tr>\n",
              "  </tbody>\n",
              "</table>\n",
              "</div>\n",
              "    <div class=\"colab-df-buttons\">\n",
              "\n",
              "  <div class=\"colab-df-container\">\n",
              "    <button class=\"colab-df-convert\" onclick=\"convertToInteractive('df-b9510105-b97d-4c84-b8de-2803b28ce051')\"\n",
              "            title=\"Convert this dataframe to an interactive table.\"\n",
              "            style=\"display:none;\">\n",
              "\n",
              "  <svg xmlns=\"http://www.w3.org/2000/svg\" height=\"24px\" viewBox=\"0 -960 960 960\">\n",
              "    <path d=\"M120-120v-720h720v720H120Zm60-500h600v-160H180v160Zm220 220h160v-160H400v160Zm0 220h160v-160H400v160ZM180-400h160v-160H180v160Zm440 0h160v-160H620v160ZM180-180h160v-160H180v160Zm440 0h160v-160H620v160Z\"/>\n",
              "  </svg>\n",
              "    </button>\n",
              "\n",
              "  <style>\n",
              "    .colab-df-container {\n",
              "      display:flex;\n",
              "      gap: 12px;\n",
              "    }\n",
              "\n",
              "    .colab-df-convert {\n",
              "      background-color: #E8F0FE;\n",
              "      border: none;\n",
              "      border-radius: 50%;\n",
              "      cursor: pointer;\n",
              "      display: none;\n",
              "      fill: #1967D2;\n",
              "      height: 32px;\n",
              "      padding: 0 0 0 0;\n",
              "      width: 32px;\n",
              "    }\n",
              "\n",
              "    .colab-df-convert:hover {\n",
              "      background-color: #E2EBFA;\n",
              "      box-shadow: 0px 1px 2px rgba(60, 64, 67, 0.3), 0px 1px 3px 1px rgba(60, 64, 67, 0.15);\n",
              "      fill: #174EA6;\n",
              "    }\n",
              "\n",
              "    .colab-df-buttons div {\n",
              "      margin-bottom: 4px;\n",
              "    }\n",
              "\n",
              "    [theme=dark] .colab-df-convert {\n",
              "      background-color: #3B4455;\n",
              "      fill: #D2E3FC;\n",
              "    }\n",
              "\n",
              "    [theme=dark] .colab-df-convert:hover {\n",
              "      background-color: #434B5C;\n",
              "      box-shadow: 0px 1px 3px 1px rgba(0, 0, 0, 0.15);\n",
              "      filter: drop-shadow(0px 1px 2px rgba(0, 0, 0, 0.3));\n",
              "      fill: #FFFFFF;\n",
              "    }\n",
              "  </style>\n",
              "\n",
              "    <script>\n",
              "      const buttonEl =\n",
              "        document.querySelector('#df-b9510105-b97d-4c84-b8de-2803b28ce051 button.colab-df-convert');\n",
              "      buttonEl.style.display =\n",
              "        google.colab.kernel.accessAllowed ? 'block' : 'none';\n",
              "\n",
              "      async function convertToInteractive(key) {\n",
              "        const element = document.querySelector('#df-b9510105-b97d-4c84-b8de-2803b28ce051');\n",
              "        const dataTable =\n",
              "          await google.colab.kernel.invokeFunction('convertToInteractive',\n",
              "                                                    [key], {});\n",
              "        if (!dataTable) return;\n",
              "\n",
              "        const docLinkHtml = 'Like what you see? Visit the ' +\n",
              "          '<a target=\"_blank\" href=https://colab.research.google.com/notebooks/data_table.ipynb>data table notebook</a>'\n",
              "          + ' to learn more about interactive tables.';\n",
              "        element.innerHTML = '';\n",
              "        dataTable['output_type'] = 'display_data';\n",
              "        await google.colab.output.renderOutput(dataTable, element);\n",
              "        const docLink = document.createElement('div');\n",
              "        docLink.innerHTML = docLinkHtml;\n",
              "        element.appendChild(docLink);\n",
              "      }\n",
              "    </script>\n",
              "  </div>\n",
              "\n",
              "\n",
              "<div id=\"df-01a3d030-42d4-4350-84fe-5f49d5bfd5bd\">\n",
              "  <button class=\"colab-df-quickchart\" onclick=\"quickchart('df-01a3d030-42d4-4350-84fe-5f49d5bfd5bd')\"\n",
              "            title=\"Suggest charts.\"\n",
              "            style=\"display:none;\">\n",
              "\n",
              "<svg xmlns=\"http://www.w3.org/2000/svg\" height=\"24px\"viewBox=\"0 0 24 24\"\n",
              "     width=\"24px\">\n",
              "    <g>\n",
              "        <path d=\"M19 3H5c-1.1 0-2 .9-2 2v14c0 1.1.9 2 2 2h14c1.1 0 2-.9 2-2V5c0-1.1-.9-2-2-2zM9 17H7v-7h2v7zm4 0h-2V7h2v10zm4 0h-2v-4h2v4z\"/>\n",
              "    </g>\n",
              "</svg>\n",
              "  </button>\n",
              "\n",
              "<style>\n",
              "  .colab-df-quickchart {\n",
              "      --bg-color: #E8F0FE;\n",
              "      --fill-color: #1967D2;\n",
              "      --hover-bg-color: #E2EBFA;\n",
              "      --hover-fill-color: #174EA6;\n",
              "      --disabled-fill-color: #AAA;\n",
              "      --disabled-bg-color: #DDD;\n",
              "  }\n",
              "\n",
              "  [theme=dark] .colab-df-quickchart {\n",
              "      --bg-color: #3B4455;\n",
              "      --fill-color: #D2E3FC;\n",
              "      --hover-bg-color: #434B5C;\n",
              "      --hover-fill-color: #FFFFFF;\n",
              "      --disabled-bg-color: #3B4455;\n",
              "      --disabled-fill-color: #666;\n",
              "  }\n",
              "\n",
              "  .colab-df-quickchart {\n",
              "    background-color: var(--bg-color);\n",
              "    border: none;\n",
              "    border-radius: 50%;\n",
              "    cursor: pointer;\n",
              "    display: none;\n",
              "    fill: var(--fill-color);\n",
              "    height: 32px;\n",
              "    padding: 0;\n",
              "    width: 32px;\n",
              "  }\n",
              "\n",
              "  .colab-df-quickchart:hover {\n",
              "    background-color: var(--hover-bg-color);\n",
              "    box-shadow: 0 1px 2px rgba(60, 64, 67, 0.3), 0 1px 3px 1px rgba(60, 64, 67, 0.15);\n",
              "    fill: var(--button-hover-fill-color);\n",
              "  }\n",
              "\n",
              "  .colab-df-quickchart-complete:disabled,\n",
              "  .colab-df-quickchart-complete:disabled:hover {\n",
              "    background-color: var(--disabled-bg-color);\n",
              "    fill: var(--disabled-fill-color);\n",
              "    box-shadow: none;\n",
              "  }\n",
              "\n",
              "  .colab-df-spinner {\n",
              "    border: 2px solid var(--fill-color);\n",
              "    border-color: transparent;\n",
              "    border-bottom-color: var(--fill-color);\n",
              "    animation:\n",
              "      spin 1s steps(1) infinite;\n",
              "  }\n",
              "\n",
              "  @keyframes spin {\n",
              "    0% {\n",
              "      border-color: transparent;\n",
              "      border-bottom-color: var(--fill-color);\n",
              "      border-left-color: var(--fill-color);\n",
              "    }\n",
              "    20% {\n",
              "      border-color: transparent;\n",
              "      border-left-color: var(--fill-color);\n",
              "      border-top-color: var(--fill-color);\n",
              "    }\n",
              "    30% {\n",
              "      border-color: transparent;\n",
              "      border-left-color: var(--fill-color);\n",
              "      border-top-color: var(--fill-color);\n",
              "      border-right-color: var(--fill-color);\n",
              "    }\n",
              "    40% {\n",
              "      border-color: transparent;\n",
              "      border-right-color: var(--fill-color);\n",
              "      border-top-color: var(--fill-color);\n",
              "    }\n",
              "    60% {\n",
              "      border-color: transparent;\n",
              "      border-right-color: var(--fill-color);\n",
              "    }\n",
              "    80% {\n",
              "      border-color: transparent;\n",
              "      border-right-color: var(--fill-color);\n",
              "      border-bottom-color: var(--fill-color);\n",
              "    }\n",
              "    90% {\n",
              "      border-color: transparent;\n",
              "      border-bottom-color: var(--fill-color);\n",
              "    }\n",
              "  }\n",
              "</style>\n",
              "\n",
              "  <script>\n",
              "    async function quickchart(key) {\n",
              "      const quickchartButtonEl =\n",
              "        document.querySelector('#' + key + ' button');\n",
              "      quickchartButtonEl.disabled = true;  // To prevent multiple clicks.\n",
              "      quickchartButtonEl.classList.add('colab-df-spinner');\n",
              "      try {\n",
              "        const charts = await google.colab.kernel.invokeFunction(\n",
              "            'suggestCharts', [key], {});\n",
              "      } catch (error) {\n",
              "        console.error('Error during call to suggestCharts:', error);\n",
              "      }\n",
              "      quickchartButtonEl.classList.remove('colab-df-spinner');\n",
              "      quickchartButtonEl.classList.add('colab-df-quickchart-complete');\n",
              "    }\n",
              "    (() => {\n",
              "      let quickchartButtonEl =\n",
              "        document.querySelector('#df-01a3d030-42d4-4350-84fe-5f49d5bfd5bd button');\n",
              "      quickchartButtonEl.style.display =\n",
              "        google.colab.kernel.accessAllowed ? 'block' : 'none';\n",
              "    })();\n",
              "  </script>\n",
              "</div>\n",
              "    </div>\n",
              "  </div>\n"
            ]
          },
          "metadata": {},
          "execution_count": 68
        }
      ]
    },
    {
      "cell_type": "code",
      "source": [
        "\n",
        "import numpy as np\n",
        "from matplotlib import pyplot as plt\n",
        "\n",
        "ys = 200 + np.random.randn(100)\n",
        "x = [x for x in range(len(ys))]\n",
        "\n",
        "plt.plot(x, ys, '-')\n",
        "plt.fill_between(x, ys, 195, where=(ys > 200), facecolor='g', alpha=0.6)\n",
        "\n",
        "plt.title(\"Sample Visualization\")\n",
        "plt.show()"
      ],
      "metadata": {
        "colab": {
          "base_uri": "https://localhost:8080/",
          "height": 452
        },
        "id": "fqzrScL-GrZU",
        "outputId": "00dcba39-0593-4575-b446-df989109fdfb"
      },
      "execution_count": null,
      "outputs": [
        {
          "output_type": "display_data",
          "data": {
            "text/plain": [
              "<Figure size 640x480 with 1 Axes>"
            ],
            "image/png": "[encoded data removed]"
          },
          "metadata": {}
        }
      ]
    },
    {
      "cell_type": "code",
      "source": [
        "## Question 3 : Upload an image to your google drive, Use plt.imread to read image from the google drive and then print that image using plt.imshow\n",
        "\n",
        "\n",
        "\n",
        "## Answer 3 :\n",
        "\n",
        "## 1) make sure drive is loaded and then upload a test image onto your drive"
      ],
      "metadata": {
        "id": "mC8rNbeKxiaF"
      },
      "execution_count": null,
      "outputs": []
    },
    {
      "cell_type": "code",
      "source": [
        "import matplotlib.pyplot as plt"
      ],
      "metadata": {
        "id": "4OY7pVjEl3DG"
      },
      "execution_count": 1,
      "outputs": []
    },
    {
      "cell_type": "code",
      "source": [
        "from google.colab import drive\n",
        "drive.mount('/content/drive')"
      ],
      "metadata": {
        "id": "ZzzxEtepp38T"
      },
      "execution_count": null,
      "outputs": []
    },
    {
      "cell_type": "code",
      "source": [
        "plt.imshow(plt.imread(\"/download.jpeg\"))"
      ],
      "metadata": {
        "colab": {
          "base_uri": "https://localhost:8080/",
          "height": 315
        },
        "id": "IBQFfcU9qEgS",
        "outputId": "06631bd3-3f5a-46b5-fb33-dc9a59138421"
      },
      "execution_count": 6,
      "outputs": [
        {
          "output_type": "execute_result",
          "data": {
            "text/plain": [
              "<matplotlib.image.AxesImage at 0x7f6c2d47f6d0>"
            ]
          },
          "metadata": {},
          "execution_count": 6
        },
        {
          "output_type": "display_data",
          "data": {
            "text/plain": [
              "<Figure size 640x480 with 1 Axes>"
            ],
            "image/png": "[encoded data removed]"
          },
          "metadata": {}
        }
      ]
    }
  ]
}